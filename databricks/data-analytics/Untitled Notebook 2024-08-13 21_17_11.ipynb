{
 "cells": [
  {
   "cell_type": "markdown",
   "metadata": {
    "application/vnd.databricks.v1+cell": {
     "cellMetadata": {},
     "inputWidgets": {},
     "nuid": "5f1a13b4-f75a-4296-b0a0-ec0d9fcf3baa",
     "showTitle": false,
     "title": ""
    }
   },
   "source": [
    "# Data Analytics - Datathon 2024"
   ]
  },
  {
   "cell_type": "markdown",
   "metadata": {
    "application/vnd.databricks.v1+cell": {
     "cellMetadata": {},
     "inputWidgets": {},
     "nuid": "4e62a01f-0cfb-4938-b65a-e30b6cc557fb",
     "showTitle": false,
     "title": ""
    }
   },
   "source": [
    "## Libraries"
   ]
  },
  {
   "cell_type": "code",
   "execution_count": 0,
   "metadata": {
    "application/vnd.databricks.v1+cell": {
     "cellMetadata": {
      "byteLimit": 2048000,
      "rowLimit": 10000
     },
     "inputWidgets": {},
     "nuid": "7e8a3acf-a22c-4856-adef-e17c5f03ffcf",
     "showTitle": false,
     "title": ""
    }
   },
   "outputs": [],
   "source": [
    "from pyspark.sql.functions import *\n",
    "import datetime"
   ]
  },
  {
   "cell_type": "markdown",
   "metadata": {
    "application/vnd.databricks.v1+cell": {
     "cellMetadata": {},
     "inputWidgets": {},
     "nuid": "e145e8aa-7ea5-42b3-bbe7-40beb9a25d3f",
     "showTitle": false,
     "title": ""
    }
   },
   "source": [
    "# UDFS"
   ]
  },
  {
   "cell_type": "code",
   "execution_count": 0,
   "metadata": {
    "application/vnd.databricks.v1+cell": {
     "cellMetadata": {
      "byteLimit": 2048000,
      "rowLimit": 10000
     },
     "inputWidgets": {},
     "nuid": "5320dc70-367a-4da9-b35d-c8d543e2a7a8",
     "showTitle": false,
     "title": ""
    }
   },
   "outputs": [],
   "source": [
    "def cal_lat_log_dist(df, lat1, long1, lat2, long2):\n",
    "        df = df.withColumn('distance_in_kms' , \\\n",
    "            round((acos((sin(radians(col(lat1))) * sin(radians(col(lat2)))) + \\\n",
    "                   ((cos(radians(col(lat1))) * cos(radians(col(lat2)))) * \\\n",
    "                    (cos(radians(long1) - radians(long2))))\n",
    "                       ) * lit(6371.0)), 4))\n",
    "        return df"
   ]
  },
  {
   "cell_type": "markdown",
   "metadata": {
    "application/vnd.databricks.v1+cell": {
     "cellMetadata": {},
     "inputWidgets": {},
     "nuid": "a8e75d4a-5434-4f62-a502-793b4cbf54a8",
     "showTitle": false,
     "title": ""
    }
   },
   "source": [
    "## Loading Data"
   ]
  },
  {
   "cell_type": "code",
   "execution_count": 0,
   "metadata": {
    "application/vnd.databricks.v1+cell": {
     "cellMetadata": {
      "byteLimit": 2048000,
      "rowLimit": 10000
     },
     "inputWidgets": {},
     "nuid": "66894ba2-d9ad-4e16-8b4e-63780e69e2c5",
     "showTitle": false,
     "title": ""
    }
   },
   "outputs": [],
   "source": [
    "GDELT_EVENTS = spark.sql(\"SELECT * FROM BRONZE.GDELT_EVENTS\")\n",
    "PORT_LOCATIONS_DIM = spark.sql(\"SELECT * FROM BRONZE.PORTS_DICTIONARY\")"
   ]
  },
  {
   "cell_type": "markdown",
   "metadata": {
    "application/vnd.databricks.v1+cell": {
     "cellMetadata": {},
     "inputWidgets": {},
     "nuid": "c516bf38-65b6-43c3-9a77-cf754781b890",
     "showTitle": false,
     "title": ""
    }
   },
   "source": [
    "## Cleaning PORT_LOCATIONS_DIM"
   ]
  },
  {
   "cell_type": "code",
   "execution_count": 0,
   "metadata": {
    "application/vnd.databricks.v1+cell": {
     "cellMetadata": {
      "byteLimit": 2048000,
      "rowLimit": 10000
     },
     "inputWidgets": {},
     "nuid": "f10c16be-af27-4424-9fa6-5e2d4f0f2eeb",
     "showTitle": false,
     "title": ""
    }
   },
   "outputs": [],
   "source": [
    "display(\n",
    "PORT_LOCATIONS_DIM\n",
    ".filter(\"LATITUDE IS NOT NULL\")\n",
    ".filter(\"LONGITUDE IS NOT NULL\")\n",
    ".withColumn(\"LATITUDE\", regexp_replace(col(\"LATITUDE\"),\" \",\"\"))\n",
    ".withColumn(\"LONGITUDE\", regexp_replace(col(\"LONGITUDE\"),\" \",\"\"))\n",
    ".withColumn(\"Lat_Ori\", substring(col(\"LATITUDE\"),-1,1))\n",
    ".withColumn(\"Long_Ori\", substring(col(\"LONGITUDE\"),-1,1))\n",
    ".withColumn(\"LATITUDE_CORRECTED\", \n",
    "            when(col(\"Lat_Ori\") == 'S', expr(\"substring(LATITUDE,1,length(LATITUDE) - 1 )\") * - 1)\n",
    "            .when(col(\"Lat_Ori\") == 'N', expr(\"substring(LATITUDE,1,length(LATITUDE) - 1 )\"))\n",
    ")\n",
    ")"
   ]
  },
  {
   "cell_type": "markdown",
   "metadata": {
    "application/vnd.databricks.v1+cell": {
     "cellMetadata": {},
     "inputWidgets": {},
     "nuid": "f258be22-42d9-4963-bc99-05a5e6ece3a7",
     "showTitle": false,
     "title": ""
    }
   },
   "source": [
    "## EDA"
   ]
  },
  {
   "cell_type": "markdown",
   "metadata": {
    "application/vnd.databricks.v1+cell": {
     "cellMetadata": {},
     "inputWidgets": {},
     "nuid": "2403664f-4a66-48ba-911b-5b3619ed6ada",
     "showTitle": false,
     "title": ""
    }
   },
   "source": [
    "### Dates"
   ]
  },
  {
   "cell_type": "code",
   "execution_count": 0,
   "metadata": {
    "application/vnd.databricks.v1+cell": {
     "cellMetadata": {
      "byteLimit": 2048000,
      "rowLimit": 10000
     },
     "inputWidgets": {},
     "nuid": "e71ca9a2-4f33-485c-a1ea-aaceb2559c7b",
     "showTitle": false,
     "title": ""
    }
   },
   "outputs": [],
   "source": [
    "GDELT_EVENTS_DATE = (GDELT_EVENTS\n",
    ".withColumn(\"Date\", to_date(col(\"Day\").cast(\"string\"), \"yyyyMMdd\"))\n",
    ".filter(col(\"Date\")>= '2023-01-01')\n",
    ".withColumn(\"YearWeek\", weekofyear(col(\"Date\")))\n",
    ".withColumn(\"Date_Week\", concat(col(\"Date\"),lit(\"_\"),col(\"YearWeek\")))\n",
    ")\n",
    "\n",
    "MAX_AND_MIN_DATE = GDELT_EVENTS_DATE.select(max(\"Date\"),min(\"Date\"))\n",
    "MAX_AND_MIN_DATE.show()"
   ]
  },
  {
   "cell_type": "markdown",
   "metadata": {
    "application/vnd.databricks.v1+cell": {
     "cellMetadata": {},
     "inputWidgets": {},
     "nuid": "655b4b80-ef24-4576-8087-49536ffd7681",
     "showTitle": false,
     "title": ""
    }
   },
   "source": [
    "## DA"
   ]
  },
  {
   "cell_type": "code",
   "execution_count": 0,
   "metadata": {
    "application/vnd.databricks.v1+cell": {
     "cellMetadata": {
      "byteLimit": 2048000,
      "rowLimit": 10000
     },
     "inputWidgets": {},
     "nuid": "e7f360da-4cc5-4f4b-b309-2bcb96a9725e",
     "showTitle": false,
     "title": ""
    }
   },
   "outputs": [],
   "source": [
    "display(GDELT_EVENTS_DATE)"
   ]
  },
  {
   "cell_type": "code",
   "execution_count": 0,
   "metadata": {
    "application/vnd.databricks.v1+cell": {
     "cellMetadata": {
      "byteLimit": 2048000,
      "rowLimit": 10000
     },
     "inputWidgets": {},
     "nuid": "6a208270-712a-4bfb-9632-0239a1200ea1",
     "showTitle": false,
     "title": ""
    }
   },
   "outputs": [],
   "source": [
    "GDELT_EVENTS_BASE = "
   ]
  },
  {
   "cell_type": "code",
   "execution_count": 0,
   "metadata": {
    "application/vnd.databricks.v1+cell": {
     "cellMetadata": {
      "byteLimit": 2048000,
      "rowLimit": 10000
     },
     "inputWidgets": {},
     "nuid": "b879c28e-8528-4822-85b6-45f3b81b7178",
     "showTitle": false,
     "title": ""
    }
   },
   "outputs": [],
   "source": [
    "GDELT_EVENTS_DATE.select(\"GlobalEventID\").distinct().count()"
   ]
  },
  {
   "cell_type": "code",
   "execution_count": 0,
   "metadata": {
    "application/vnd.databricks.v1+cell": {
     "cellMetadata": {
      "byteLimit": 2048000,
      "rowLimit": 10000
     },
     "inputWidgets": {},
     "nuid": "a4b4a9f5-0ca6-40d9-80e4-7c7768d60761",
     "showTitle": false,
     "title": ""
    }
   },
   "outputs": [],
   "source": [
    "display(GDELT_EVENTS_DATE)"
   ]
  },
  {
   "cell_type": "code",
   "execution_count": 0,
   "metadata": {
    "application/vnd.databricks.v1+cell": {
     "cellMetadata": {
      "byteLimit": 2048000,
      "rowLimit": 10000
     },
     "inputWidgets": {},
     "nuid": "d0b9b7fe-0200-4567-9e14-c807175d99fa",
     "showTitle": false,
     "title": ""
    }
   },
   "outputs": [],
   "source": [
    "GDELT_EVENTS_PORTS = (GDELT_EVENTS_DATE\n",
    "#.filter(col(\"ActionGeo_Fullname\").like(\"% Port %\"))\n",
    "#.filter(col(\"SOURCEURL\").like(\"%-port-%\"))\n",
    "#)\n",
    "\n",
    "#print(\"Number of observations with the name a location with name port in it: \",GDELT_EVENTS_PORTS.count())"
   ]
  },
  {
   "cell_type": "code",
   "execution_count": 0,
   "metadata": {
    "application/vnd.databricks.v1+cell": {
     "cellMetadata": {
      "byteLimit": 2048000,
      "rowLimit": 10000
     },
     "inputWidgets": {},
     "nuid": "f5fe59cd-d889-4aaa-a8d7-1e1bd1abd99f",
     "showTitle": false,
     "title": ""
    }
   },
   "outputs": [],
   "source": [
    "PLACE_CUADCLASSCOUNT = (GDELT_EVENTS_DATE\n",
    ".filter(col(\"ActionGeo_Fullname\").like(\"% Port %\"))\n",
    ".groupby(\"ActionGeo_ADM1Code\",\"Date_Week\").pivot(\"QuadClass\").count()\n",
    ")\n",
    "\n",
    "GLDSCALE = GDELT_EVENTS_DATE.groupby(\"ActionGeo_ADM1Code\",\"Date_Week\").agg(avg(\"GoldsteinScale\").alias(\"GoldsteinScale\"))\n",
    "\n",
    "ADDEDE = PLACE_CUADCLASSCOUNT.join(GLDSCALE,[\"ActionGeo_ADM1Code\",\"Date_Week\"],\"left\").fillna(0)"
   ]
  },
  {
   "cell_type": "code",
   "execution_count": 0,
   "metadata": {
    "application/vnd.databricks.v1+cell": {
     "cellMetadata": {
      "byteLimit": 2048000,
      "rowLimit": 10000
     },
     "inputWidgets": {},
     "nuid": "a16a2b92-caae-4d38-a18b-5365b747131d",
     "showTitle": false,
     "title": ""
    }
   },
   "outputs": [
    {
     "output_type": "display_data",
     "data": {
      "text/plain": [
       "Databricks visualization. Run in Databricks to view."
      ]
     },
     "metadata": {
      "application/vnd.databricks.v1.subcommand+json": {
       "baseErrorDetails": null,
       "bindings": {},
       "collapsed": false,
       "command": "%python\n__backend_agg_display_orig = display\n__backend_agg_dfs = []\ndef __backend_agg_display_new(df):\n    __backend_agg_df_modules = [\"pandas.core.frame\", \"databricks.koalas.frame\", \"pyspark.sql.dataframe\", \"pyspark.pandas.frame\", \"pyspark.sql.connect.dataframe\"]\n    if (type(df).__module__ in __backend_agg_df_modules and type(df).__name__ == 'DataFrame') or isinstance(df, list):\n        __backend_agg_dfs.append(df)\n\ndisplay = __backend_agg_display_new\n\ndef __backend_agg_user_code_fn():\n    import base64\n    exec(base64.standard_b64decode(\"ZGlzcGxheShHREVMVF9FVkVOVFNfV0FURVJfUExBQ0VTKQ==\").decode())\n\ntry:\n    # run user code\n    __backend_agg_user_code_fn()\n\n    #reset display function\n    display = __backend_agg_display_orig\n\n    if len(__backend_agg_dfs) > 0:\n        # create a temp view\n        if type(__backend_agg_dfs[0]).__module__ == \"databricks.koalas.frame\":\n            # koalas dataframe\n            __backend_agg_dfs[0].to_spark().createOrReplaceTempView(\"DatabricksView452741d\")\n        elif type(__backend_agg_dfs[0]).__module__ == \"pandas.core.frame\" or isinstance(__backend_agg_dfs[0], list):\n            # pandas dataframe\n            spark.createDataFrame(__backend_agg_dfs[0]).createOrReplaceTempView(\"DatabricksView452741d\")\n        else:\n            __backend_agg_dfs[0].createOrReplaceTempView(\"DatabricksView452741d\")\n        #run backend agg\n        display(spark.sql(\"\"\"WITH q AS (select * from DatabricksView452741d) SELECT `QuadClass`,`GoldsteinScale` FROM q\"\"\"))\n    else:\n        displayHTML(\"dataframe no longer exists. If you're using dataframe.display(), use display(dataframe) instead.\")\n\n\nfinally:\n    spark.sql(\"drop view if exists DatabricksView452741d\")\n    display = __backend_agg_display_orig\n    del __backend_agg_display_new\n    del __backend_agg_display_orig\n    del __backend_agg_dfs\n    del __backend_agg_user_code_fn\n\n",
       "commandTitle": "Visualization 1",
       "commandType": "auto",
       "commandVersion": 0,
       "commentThread": [],
       "commentsVisible": false,
       "contentSha256Hex": null,
       "customPlotOptions": {
        "redashChart": [
         {
          "key": "type",
          "value": "CHART"
         },
         {
          "key": "options",
          "value": {
           "alignYAxesAtZero": true,
           "coefficient": 1,
           "columnConfigurationMap": {
            "x": {
             "column": "GoldsteinScale",
             "id": "column_ca84835546"
            },
            "y": [
             {
              "column": "4",
              "id": "column_ca84835550"
             }
            ]
           },
           "dateTimeFormat": "DD/MM/YYYY HH:mm",
           "direction": {
            "type": "counterclockwise"
           },
           "error_y": {
            "type": "data",
            "visible": true
           },
           "globalSeriesType": "scatter",
           "legend": {
            "traceorder": "normal"
           },
           "missingValuesAsZero": true,
           "numberFormat": "0,0.[00000]",
           "percentFormat": "0[.]00%",
           "series": {
            "error_y": {
             "type": "data",
             "visible": true
            },
            "stacking": null
           },
           "seriesOptions": {
            "1": {
             "type": "scatter",
             "yAxis": 0
            },
            "2": {
             "type": "scatter",
             "yAxis": 0
            },
            "3": {
             "type": "scatter",
             "yAxis": 0
            },
            "4": {
             "type": "scatter",
             "yAxis": 0
            },
            "GoldsteinScale": {
             "type": "scatter",
             "yAxis": 0
            },
            "NumMentions": {
             "type": "scatter",
             "yAxis": 0
            }
           },
           "showDataLabels": false,
           "sizemode": "diameter",
           "sortX": true,
           "sortY": true,
           "swappedAxes": false,
           "textFormat": "",
           "useAggregationsUi": true,
           "valuesOptions": {},
           "version": 2,
           "xAxis": {
            "labels": {
             "enabled": true
            },
            "type": "-"
           },
           "yAxis": [
            {
             "type": "-"
            },
            {
             "opposite": true,
             "type": "-"
            }
           ]
          }
         }
        ]
       },
       "datasetPreviewNameToCmdIdMap": {},
       "diffDeletes": [],
       "diffInserts": [],
       "displayType": "redashChart",
       "error": null,
       "errorDetails": null,
       "errorSummary": null,
       "errorTraceType": null,
       "finishTime": 0,
       "globalVars": {},
       "guid": "",
       "height": "auto",
       "hideCommandCode": false,
       "hideCommandResult": false,
       "iPythonMetadata": null,
       "inputWidgets": {},
       "isLockedInExamMode": false,
       "latestUser": "a user",
       "latestUserId": null,
       "listResultMetadata": null,
       "metadata": {},
       "nuid": "a94925c0-be34-4980-acca-61ddf01436e9",
       "origId": 0,
       "parentHierarchy": [],
       "pivotAggregation": null,
       "pivotColumns": null,
       "position": 4.375,
       "resultDbfsErrorMessage": null,
       "resultDbfsStatus": "INLINED_IN_TREE",
       "results": null,
       "showCommandTitle": false,
       "startTime": 0,
       "state": "input",
       "streamStates": {},
       "subcommandOptions": {
        "queryPlan": {
         "selects": [
          {
           "column": "GoldsteinScale",
           "type": "column"
          },
          {
           "column": "4",
           "type": "column"
          }
         ]
        }
       },
       "submitTime": 0,
       "subtype": "tableResultSubCmd.visualization",
       "tableResultIndex": 0,
       "useConsistentColors": false,
       "version": "CommandV1",
       "width": "auto",
       "workflows": null,
       "xColumns": null,
       "yColumns": null
      }
     },
     "output_type": "display_data"
    }
   ],
   "source": [
    "max_value = greatest(*[col(c) for c in ADDEDE.select(\"1\",\"2\",\"3\",\"4\").columns])\n",
    "\n",
    "df_with_max_column = ADDEDE.withColumn(\n",
    "    \"Max_QuadClass\",\n",
    "      when(col(\"1\") == max_value, \"1\")\n",
    "     .when(col(\"2\") == max_value, \"2\")\n",
    "     .when(col(\"3\") == max_value, \"3\")\n",
    "     .when(col(\"4\") == max_value, \"4\")\n",
    ")"
   ]
  },
  {
   "cell_type": "code",
   "execution_count": 0,
   "metadata": {
    "application/vnd.databricks.v1+cell": {
     "cellMetadata": {
      "byteLimit": 2048000,
      "rowLimit": 10000
     },
     "inputWidgets": {},
     "nuid": "f147df4c-d8be-49b9-820d-b7f8188f7792",
     "showTitle": false,
     "title": ""
    }
   },
   "outputs": [
    {
     "output_type": "display_data",
     "data": {
      "text/plain": [
       "Databricks visualization. Run in Databricks to view."
      ]
     },
     "metadata": {
      "application/vnd.databricks.v1.subcommand+json": {
       "baseErrorDetails": null,
       "bindings": {},
       "collapsed": false,
       "command": "%python\n__backend_agg_display_orig = display\n__backend_agg_dfs = []\ndef __backend_agg_display_new(df):\n    __backend_agg_df_modules = [\"pandas.core.frame\", \"databricks.koalas.frame\", \"pyspark.sql.dataframe\", \"pyspark.pandas.frame\", \"pyspark.sql.connect.dataframe\"]\n    if (type(df).__module__ in __backend_agg_df_modules and type(df).__name__ == 'DataFrame') or isinstance(df, list):\n        __backend_agg_dfs.append(df)\n\ndisplay = __backend_agg_display_new\n\ndef __backend_agg_user_code_fn():\n    import base64\n    exec(base64.standard_b64decode(\"ZGlzcGxheShkZl93aXRoX21heF9jb2x1bW4p\").decode())\n\ntry:\n    # run user code\n    __backend_agg_user_code_fn()\n\n    #reset display function\n    display = __backend_agg_display_orig\n\n    if len(__backend_agg_dfs) > 0:\n        # create a temp view\n        if type(__backend_agg_dfs[0]).__module__ == \"databricks.koalas.frame\":\n            # koalas dataframe\n            __backend_agg_dfs[0].to_spark().createOrReplaceTempView(\"DatabricksViewb73bd96\")\n        elif type(__backend_agg_dfs[0]).__module__ == \"pandas.core.frame\" or isinstance(__backend_agg_dfs[0], list):\n            # pandas dataframe\n            spark.createDataFrame(__backend_agg_dfs[0]).createOrReplaceTempView(\"DatabricksViewb73bd96\")\n        else:\n            __backend_agg_dfs[0].createOrReplaceTempView(\"DatabricksViewb73bd96\")\n        #run backend agg\n        display(spark.sql(\"\"\"WITH q AS (select * from DatabricksViewb73bd96) SELECT `Max_QuadClass`,AVG(`GoldsteinScale`) `column_ca84835577` FROM q GROUP BY `Max_QuadClass`\"\"\"))\n    else:\n        displayHTML(\"dataframe no longer exists. If you're using dataframe.display(), use display(dataframe) instead.\")\n\n\nfinally:\n    spark.sql(\"drop view if exists DatabricksViewb73bd96\")\n    display = __backend_agg_display_orig\n    del __backend_agg_display_new\n    del __backend_agg_display_orig\n    del __backend_agg_dfs\n    del __backend_agg_user_code_fn\n\n",
       "commandTitle": "Visualization 1",
       "commandType": "auto",
       "commandVersion": 0,
       "commentThread": [],
       "commentsVisible": false,
       "contentSha256Hex": null,
       "customPlotOptions": {
        "redashChart": [
         {
          "key": "type",
          "value": "CHART"
         },
         {
          "key": "options",
          "value": {
           "alignYAxesAtZero": true,
           "coefficient": 1,
           "columnConfigurationMap": {
            "x": {
             "column": "Max_QuadClass",
             "id": "column_ca84835579"
            },
            "y": [
             {
              "column": "GoldsteinScale",
              "id": "column_ca84835577",
              "transform": "AVG"
             }
            ]
           },
           "dateTimeFormat": "DD/MM/YYYY HH:mm",
           "direction": {
            "type": "counterclockwise"
           },
           "error_y": {
            "type": "data",
            "visible": true
           },
           "globalSeriesType": "column",
           "isAggregationOn": true,
           "legend": {
            "traceorder": "normal"
           },
           "missingValuesAsZero": true,
           "numberFormat": "0,0.[00000]",
           "percentFormat": "0[.]00%",
           "series": {
            "error_y": {
             "type": "data",
             "visible": true
            },
            "stacking": null
           },
           "seriesOptions": {
            "1": {
             "type": "column",
             "yAxis": 0
            },
            "2": {
             "type": "column",
             "yAxis": 0
            },
            "3": {
             "type": "column",
             "yAxis": 0
            },
            "4": {
             "type": "column",
             "yAxis": 0
            },
            "ActionGeo_ADM1Code": {
             "type": "column",
             "yAxis": 0
            },
            "Date_Week": {
             "type": "column",
             "yAxis": 0
            },
            "column_ca84835560": {
             "type": "column",
             "yAxis": 0
            },
            "column_ca84835577": {
             "type": "column",
             "yAxis": 0
            }
           },
           "showDataLabels": false,
           "sizemode": "diameter",
           "sortX": true,
           "sortY": true,
           "swappedAxes": false,
           "textFormat": "",
           "useAggregationsUi": true,
           "valuesOptions": {},
           "version": 2,
           "xAxis": {
            "labels": {
             "enabled": true
            },
            "type": "-"
           },
           "yAxis": [
            {
             "type": "-"
            },
            {
             "opposite": true,
             "type": "-"
            }
           ]
          }
         }
        ]
       },
       "datasetPreviewNameToCmdIdMap": {},
       "diffDeletes": [],
       "diffInserts": [],
       "displayType": "redashChart",
       "error": null,
       "errorDetails": null,
       "errorSummary": null,
       "errorTraceType": null,
       "finishTime": 0,
       "globalVars": {},
       "guid": "",
       "height": "auto",
       "hideCommandCode": false,
       "hideCommandResult": false,
       "iPythonMetadata": null,
       "inputWidgets": {},
       "isLockedInExamMode": false,
       "latestUser": "a user",
       "latestUserId": null,
       "listResultMetadata": null,
       "metadata": {},
       "nuid": "d72862f8-bd71-49b2-b1ff-62a0a0f7f8cb",
       "origId": 0,
       "parentHierarchy": [],
       "pivotAggregation": null,
       "pivotColumns": null,
       "position": 6.0,
       "resultDbfsErrorMessage": null,
       "resultDbfsStatus": "INLINED_IN_TREE",
       "results": null,
       "showCommandTitle": false,
       "startTime": 0,
       "state": "input",
       "streamStates": {},
       "subcommandOptions": {
        "queryPlan": {
         "groups": [
          {
           "column": "Max_QuadClass",
           "type": "column"
          }
         ],
         "selects": [
          {
           "column": "Max_QuadClass",
           "type": "column"
          },
          {
           "alias": "column_ca84835577",
           "args": [
            {
             "column": "GoldsteinScale",
             "type": "column"
            }
           ],
           "function": "AVG",
           "type": "function"
          }
         ]
        }
       },
       "submitTime": 0,
       "subtype": "tableResultSubCmd.visualization",
       "tableResultIndex": 0,
       "useConsistentColors": false,
       "version": "CommandV1",
       "width": "auto",
       "workflows": null,
       "xColumns": null,
       "yColumns": null
      }
     },
     "output_type": "display_data"
    }
   ],
   "source": [
    "display(df_with_max_column)"
   ]
  },
  {
   "cell_type": "code",
   "execution_count": 0,
   "metadata": {
    "application/vnd.databricks.v1+cell": {
     "cellMetadata": {},
     "inputWidgets": {},
     "nuid": "6e5ac314-595a-483d-9b97-bdd215a4db52",
     "showTitle": false,
     "title": ""
    }
   },
   "outputs": [],
   "source": []
  }
 ],
 "metadata": {
  "application/vnd.databricks.v1+notebook": {
   "dashboards": [],
   "environmentMetadata": null,
   "language": "python",
   "notebookMetadata": {
    "pythonIndentUnit": 4
   },
   "notebookName": "Untitled Notebook 2024-08-13 21_17_11",
   "widgets": {}
  }
 },
 "nbformat": 4,
 "nbformat_minor": 0
}
