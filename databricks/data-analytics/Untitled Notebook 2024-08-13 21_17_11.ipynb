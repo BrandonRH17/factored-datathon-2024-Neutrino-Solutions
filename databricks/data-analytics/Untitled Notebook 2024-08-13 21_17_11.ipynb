{
 "cells": [
  {
   "cell_type": "markdown",
   "metadata": {
    "application/vnd.databricks.v1+cell": {
     "cellMetadata": {},
     "inputWidgets": {},
     "nuid": "5f1a13b4-f75a-4296-b0a0-ec0d9fcf3baa",
     "showTitle": false,
     "title": ""
    }
   },
   "source": [
    "# Data Analytics - Datathon 2024"
   ]
  },
  {
   "cell_type": "markdown",
   "metadata": {
    "application/vnd.databricks.v1+cell": {
     "cellMetadata": {},
     "inputWidgets": {},
     "nuid": "4e62a01f-0cfb-4938-b65a-e30b6cc557fb",
     "showTitle": false,
     "title": ""
    }
   },
   "source": [
    "## Libraries"
   ]
  },
  {
   "cell_type": "code",
   "execution_count": 0,
   "metadata": {
    "application/vnd.databricks.v1+cell": {
     "cellMetadata": {
      "byteLimit": 2048000,
      "rowLimit": 10000
     },
     "inputWidgets": {},
     "nuid": "7e8a3acf-a22c-4856-adef-e17c5f03ffcf",
     "showTitle": false,
     "title": ""
    }
   },
   "outputs": [],
   "source": [
    "# Loading Libraries for the notebook\n",
    "from pyspark.sql.functions import *\n",
    "import datetime\n",
    "from pyspark.sql.window import Window\n"
   ]
  },
  {
   "cell_type": "markdown",
   "metadata": {
    "application/vnd.databricks.v1+cell": {
     "cellMetadata": {},
     "inputWidgets": {},
     "nuid": "e145e8aa-7ea5-42b3-bbe7-40beb9a25d3f",
     "showTitle": false,
     "title": ""
    }
   },
   "source": [
    "# UDFS"
   ]
  },
  {
   "cell_type": "code",
   "execution_count": 0,
   "metadata": {
    "application/vnd.databricks.v1+cell": {
     "cellMetadata": {
      "byteLimit": 2048000,
      "rowLimit": 10000
     },
     "inputWidgets": {},
     "nuid": "5320dc70-367a-4da9-b35d-c8d543e2a7a8",
     "showTitle": false,
     "title": ""
    }
   },
   "outputs": [],
   "source": [
    "\n",
    "# Function to Calculate Distance in Kilometers in a straight line between two points.\n",
    "\n",
    "'''\n",
    "CAL_LAT_LONG_DIST(df,lat1,long1,lat2,long2):\n",
    "df = dataframe when we want to add the columns of \"distance_in_kms\"\n",
    "lat1 = Latitued of Place 1\n",
    "long1 = Longitude of Place 1\n",
    "lat 2 = Latitude of Place 2\n",
    "long2 = Longitued of Place 2\n",
    "\n",
    "Outputs: DataFrame with a new column named = \"distance_in_kms\". The number represent the distance in KMS between the two points for each row.\n",
    "'''\n",
    "\n",
    "def cal_lat_log_dist(df, lat1, long1, lat2, long2):\n",
    "        df = df.withColumn('distance_in_kms' , \\\n",
    "            round((acos((sin(radians(col(lat1))) * sin(radians(col(lat2)))) + \\\n",
    "                   ((cos(radians(col(lat1))) * cos(radians(col(lat2)))) * \\\n",
    "                    (cos(radians(long1) - radians(long2))))\n",
    "                       ) * lit(6371.0)), 4))\n",
    "        return df"
   ]
  },
  {
   "cell_type": "markdown",
   "metadata": {
    "application/vnd.databricks.v1+cell": {
     "cellMetadata": {},
     "inputWidgets": {},
     "nuid": "a8e75d4a-5434-4f62-a502-793b4cbf54a8",
     "showTitle": false,
     "title": ""
    }
   },
   "source": [
    "## Loading Data"
   ]
  },
  {
   "cell_type": "code",
   "execution_count": 0,
   "metadata": {
    "application/vnd.databricks.v1+cell": {
     "cellMetadata": {
      "byteLimit": 2048000,
      "rowLimit": 10000
     },
     "inputWidgets": {},
     "nuid": "66894ba2-d9ad-4e16-8b4e-63780e69e2c5",
     "showTitle": false,
     "title": ""
    }
   },
   "outputs": [],
   "source": [
    "# Loading Data from BRONZE database\n",
    "\n",
    "GDELT_EVENTS = spark.sql(\"SELECT * FROM BRONZE.GDELT_EVENTS\")\n",
    "PORT_LOCATIONS_DIM = spark.sql(\"SELECT * FROM BRONZE.PORTS_DICTIONARY\")\n",
    "CAMEO_DICTIONARY = spark.sql(\"SELECT * FROM BRONZE.CAMEO_DICTIONARY\")"
   ]
  },
  {
   "cell_type": "markdown",
   "metadata": {
    "application/vnd.databricks.v1+cell": {
     "cellMetadata": {},
     "inputWidgets": {},
     "nuid": "c516bf38-65b6-43c3-9a77-cf754781b890",
     "showTitle": false,
     "title": ""
    }
   },
   "source": [
    "## Cleaning PORT_LOCATIONS_DIM"
   ]
  },
  {
   "cell_type": "code",
   "execution_count": 0,
   "metadata": {
    "application/vnd.databricks.v1+cell": {
     "cellMetadata": {
      "byteLimit": 2048000,
      "rowLimit": 10000
     },
     "inputWidgets": {},
     "nuid": "f10c16be-af27-4424-9fa6-5e2d4f0f2eeb",
     "showTitle": false,
     "title": ""
    }
   },
   "outputs": [],
   "source": [
    "# Claeaning RAW data from PORT_LOCATIONS\n",
    "\n",
    "PORT_LOCATIONS_DIM_CLEANED = (\n",
    "PORT_LOCATIONS_DIM\n",
    ".filter(\"LATITUDE IS NOT NULL\") #Filter for Latitud is nos null\n",
    ".filter(\"LONGITUDE IS NOT NULL\") #Filter for Longitud is nos null\n",
    ".withColumn(\"LATITUDE\", regexp_replace(col(\"LATITUDE\"),\" \",\"\")) #Eliminate black spaces in LATITUD column\n",
    ".withColumn(\"LONGITUDE\", regexp_replace(col(\"LONGITUDE\"),\" \",\"\")) #Eliminate black spaces in LATITUD column\n",
    ".withColumn(\"Lat_Ori\", substring(col(\"LATITUDE\"),-1,1)) # Get N,S,W,E Orientation from latitud\n",
    ".withColumn(\"Long_Ori\", substring(col(\"LONGITUDE\"),-1,1)) # Get N,S,W,E Orientation from longitude\n",
    ".withColumn(\"LATITUDE_CORRECTED\", #THIS NEW COLUMN CORRECT THE COORINDATES DEPENDING ON THE ORIENTATION N,S,W,E\n",
    "            when(col(\"Lat_Ori\") == 'S', expr(\"substring(LATITUDE,1,length(LATITUDE) - 1 )\") * - 1) #GET CORRECT COORDINATES\n",
    "            .when(col(\"Lat_Ori\") == 'N', expr(\"substring(LATITUDE,1,length(LATITUDE) - 1 )\")) #GET CORRECT COORDINATES\n",
    "            .when(col(\"Lat_Ori\") == 'E', expr(\"substring(LATITUDE,1,length(LATITUDE) - 1 )\") * -1) #GET CORRECT COORDINATES\n",
    "            .otherwise(999.999) # ID FOR CHECKING IF SOME VALUE ISN'T TAKEN INTO ACCOUNT\n",
    ")\n",
    ".withColumn(\"LONGITUDE_CORRECTED\", #THIS NEW COLUMN CORRECT THE COORINDATES DEPENDING ON THE ORIENTATION N,S,W,E\n",
    "            when(col(\"Long_Ori\") == 'E', expr(\"substring(LONGITUDE,1,length(LONGITUDE) - 1 )\")) #GET CORRECT COORDINATES\n",
    "            .when(col(\"Long_Ori\") == 'W', expr(\"substring(LONGITUDE,1,length(LONGITUDE) - 1 )\") * -1)#GET CORRECT COORDINATES\n",
    "            .when(col(\"Lat_Ori\") == 'N', expr(\"substring(LATITUDE,1,length(LATITUDE) - 1 )\") * -1) #GET CORRECT COORDINATES\n",
    "            .otherwise(999.999) # ID FOR CHECKING IF SOME VALUE ISN'T TAKEN INTO ACCOUNT\n",
    ")\n",
    ".select(\"COUNTRY\",\"PORT\",\"LATITUDE_CORRECTED\",\"LONGITUDE_CORRECTED\") # SELECT COUNTRIES OF INTEREST\n",
    ")"
   ]
  },
  {
   "cell_type": "markdown",
   "metadata": {
    "application/vnd.databricks.v1+cell": {
     "cellMetadata": {},
     "inputWidgets": {},
     "nuid": "f258be22-42d9-4963-bc99-05a5e6ece3a7",
     "showTitle": false,
     "title": ""
    }
   },
   "source": [
    "## DATA ANALYSIS FOR WHOLE COUNTRYS IN THE TRANSPACIFIC ROUTE:\n",
    "* CANADA\n",
    "* USA\n",
    "* CHINA\n",
    "* JAPON\n",
    "* SOUTH KOREA\n",
    "* TAIWAN\n",
    "* VEITNAM\n",
    "* HONG KONG"
   ]
  },
  {
   "cell_type": "markdown",
   "metadata": {
    "application/vnd.databricks.v1+cell": {
     "cellMetadata": {},
     "inputWidgets": {},
     "nuid": "686f7f1f-b2ce-4ecc-94d5-e42677022538",
     "showTitle": false,
     "title": ""
    }
   },
   "source": [
    "#### Dataset with Countries of Interest"
   ]
  },
  {
   "cell_type": "code",
   "execution_count": 0,
   "metadata": {
    "application/vnd.databricks.v1+cell": {
     "cellMetadata": {
      "byteLimit": 2048000,
      "rowLimit": 10000
     },
     "inputWidgets": {},
     "nuid": "b0109dc2-fc92-4aff-bb68-aa87458d617e",
     "showTitle": false,
     "title": ""
    }
   },
   "outputs": [],
   "source": [
    "GDELT_EVENTS_TPR = (GDELT_EVENTS_DATE\n",
    ".filter(col(\"ActionGeo_CountryCode\").isin(\"US\",\"CA\",\"VM\",\"CH\",\"JA\",\"HK\",\"KS\")) # FILTER FOR COUNTRYS OF INTEREST\n",
    ".join(CAMEO_DICTIONARY,col(\"EventRootCode\") == col(\"CAMEO CODE\"), \"left\") #GET NAME FOR EventRootCode\n",
    ".filter(\"DESCRIPTION is not null\") #NO NEWS WITH NO CLEAR DESCRIPTION\n",
    ".withColumn(\"Date\", to_date(col(\"Day\").cast(\"string\"), \"yyyyMMdd\")) # CREATE COLUMN OF DATE TYPE\n",
    ".withColumn(\"YearWeek\", weekofyear(col(\"Date\"))) # GET NUMBER OF WEE OF THE YEAR\n",
    ".withColumn(\"MonthYearWeek\", concat(col(\"MonthYear\"),col(\"YearWeek\"))) #GET DATE ID for MONTH,YEAR,WEEK\n",
    ")"
   ]
  },
  {
   "cell_type": "markdown",
   "metadata": {
    "application/vnd.databricks.v1+cell": {
     "cellMetadata": {},
     "inputWidgets": {},
     "nuid": "de60ab29-6e05-42b2-9d19-43230d4bfedb",
     "showTitle": false,
     "title": ""
    }
   },
   "source": [
    "# Analsysis of GoldensteinScale depending type of event"
   ]
  },
  {
   "cell_type": "markdown",
   "metadata": {
    "application/vnd.databricks.v1+cell": {
     "cellMetadata": {},
     "inputWidgets": {},
     "nuid": "4ae6b381-0e7f-456a-9f5e-aaced72fa80d",
     "showTitle": false,
     "title": ""
    }
   },
   "source": [
    "The first thing we need to do is sepearte our dataset in positive and negative actions. As goldestein is a measure going from -10 to 10, could happend that some analysis may \"cancel each other\" if we do some type of central tendency between each other. So now one. We are going to keep this in mind "
   ]
  },
  {
   "cell_type": "markdown",
   "metadata": {
    "application/vnd.databricks.v1+cell": {
     "cellMetadata": {},
     "inputWidgets": {},
     "nuid": "69a437ff-e3dc-4c70-8903-15f531d39b1e",
     "showTitle": false,
     "title": ""
    }
   },
   "source": [
    "The objective of this chunk of code is to categorize events root codes to make it clear with types of events belong more to the negative part of the goldenstein scale and which ones belong to the positive part. The output of the cell is a Dimensional Table that categorize the events based on the range of goldenstein scale. When the range is within negative numbers is consider a negative event. When the range is whithin positive numbers is consider a positive event. Events that thier range of Goldstein scale is within positive and negative numbers are descarted from the analysis as they could cause noise within the ranges."
   ]
  },
  {
   "cell_type": "code",
   "execution_count": 0,
   "metadata": {
    "application/vnd.databricks.v1+cell": {
     "cellMetadata": {
      "byteLimit": 2048000,
      "rowLimit": 10000
     },
     "inputWidgets": {},
     "nuid": "a6f9a17d-e50e-49af-a919-82ad9bc3a8eb",
     "showTitle": false,
     "title": ""
    }
   },
   "outputs": [
    {
     "output_type": "display_data",
     "data": {
      "text/plain": [
       "Databricks visualization. Run in Databricks to view."
      ]
     },
     "metadata": {
      "application/vnd.databricks.v1.subcommand+json": {
       "baseErrorDetails": null,
       "bindings": {},
       "collapsed": false,
       "command": "%python\n__backend_agg_display_orig = display\n__backend_agg_dfs = []\ndef __backend_agg_display_new(df):\n    __backend_agg_df_modules = [\"pandas.core.frame\", \"databricks.koalas.frame\", \"pyspark.sql.dataframe\", \"pyspark.pandas.frame\", \"pyspark.sql.connect.dataframe\"]\n    if (type(df).__module__ in __backend_agg_df_modules and type(df).__name__ == 'DataFrame') or isinstance(df, list):\n        __backend_agg_dfs.append(df)\n\ndisplay = __backend_agg_display_new\n\ndef __backend_agg_user_code_fn():\n    import base64\n    exec(base64.standard_b64decode(\"ZGlzcGxheShHREVMVF9FVkVOVFNfVFBSCi5ncm91cEJ5KGNvbCgiREVTQ1JJUFRJT04iKSkuYWdnKGF2Zyhjb2woIkdvbGRzdGVpblNjYWxlIikpKSkgIyBBVkVSQUdFIEdPTERFTlNURUlOIFBFUiBST09UIEVWRU5UIENPREU=\").decode())\n\ntry:\n    # run user code\n    __backend_agg_user_code_fn()\n\n    #reset display function\n    display = __backend_agg_display_orig\n\n    if len(__backend_agg_dfs) > 0:\n        # create a temp view\n        if type(__backend_agg_dfs[0]).__module__ == \"databricks.koalas.frame\":\n            # koalas dataframe\n            __backend_agg_dfs[0].to_spark().createOrReplaceTempView(\"DatabricksView602e079\")\n        elif type(__backend_agg_dfs[0]).__module__ == \"pandas.core.frame\" or isinstance(__backend_agg_dfs[0], list):\n            # pandas dataframe\n            spark.createDataFrame(__backend_agg_dfs[0]).createOrReplaceTempView(\"DatabricksView602e079\")\n        else:\n            __backend_agg_dfs[0].createOrReplaceTempView(\"DatabricksView602e079\")\n        #run backend agg\n        display(spark.sql(\"\"\"WITH q AS (select * from DatabricksView602e079) SELECT `DESCRIPTION`,SUM(`avg(GoldsteinScale)`) `column_b6e7c35819` FROM q GROUP BY `DESCRIPTION`\"\"\"))\n    else:\n        displayHTML(\"dataframe no longer exists. If you're using dataframe.display(), use display(dataframe) instead.\")\n\n\nfinally:\n    spark.sql(\"drop view if exists DatabricksView602e079\")\n    display = __backend_agg_display_orig\n    del __backend_agg_display_new\n    del __backend_agg_display_orig\n    del __backend_agg_dfs\n    del __backend_agg_user_code_fn\n\n",
       "commandTitle": "Visualization 1",
       "commandType": "auto",
       "commandVersion": 0,
       "commentThread": [],
       "commentsVisible": false,
       "contentSha256Hex": null,
       "customPlotOptions": {
        "redashChart": [
         {
          "key": "type",
          "value": "CHART"
         },
         {
          "key": "options",
          "value": {
           "alignYAxesAtZero": true,
           "coefficient": 1,
           "columnConfigurationMap": {
            "x": {
             "column": "DESCRIPTION",
             "id": "column_b6e7c35818"
            },
            "y": [
             {
              "column": "avg(GoldsteinScale)",
              "id": "column_b6e7c35819",
              "transform": "SUM"
             }
            ]
           },
           "dateTimeFormat": "DD/MM/YYYY HH:mm",
           "direction": {
            "type": "counterclockwise"
           },
           "error_y": {
            "type": "data",
            "visible": true
           },
           "globalSeriesType": "column",
           "isAggregationOn": true,
           "legend": {
            "traceorder": "normal"
           },
           "missingValuesAsZero": true,
           "numberFormat": "0,0.[00000]",
           "percentFormat": "0[.]00%",
           "series": {
            "error_y": {
             "type": "data",
             "visible": true
            },
            "stacking": null
           },
           "seriesOptions": {
            "column_b6e7c35819": {
             "name": "avg(GoldsteinScale)",
             "yAxis": 0
            }
           },
           "showDataLabels": false,
           "sizemode": "diameter",
           "sortX": true,
           "sortY": true,
           "swappedAxes": false,
           "textFormat": "",
           "useAggregationsUi": true,
           "valuesOptions": {},
           "version": 2,
           "xAxis": {
            "labels": {
             "enabled": true
            },
            "type": "-"
           },
           "yAxis": [
            {
             "type": "-"
            },
            {
             "opposite": true,
             "type": "-"
            }
           ]
          }
         }
        ]
       },
       "datasetPreviewNameToCmdIdMap": {},
       "diffDeletes": [],
       "diffInserts": [],
       "displayType": "redashChart",
       "error": null,
       "errorDetails": null,
       "errorSummary": null,
       "errorTraceType": null,
       "finishTime": 0,
       "globalVars": {},
       "guid": "",
       "height": "447",
       "hideCommandCode": false,
       "hideCommandResult": false,
       "iPythonMetadata": null,
       "inputWidgets": {},
       "isLockedInExamMode": false,
       "latestUser": "a user",
       "latestUserId": null,
       "listResultMetadata": null,
       "metadata": {},
       "nuid": "39671bbc-7d67-4666-9782-fb049b286899",
       "origId": 0,
       "parentHierarchy": [],
       "pivotAggregation": null,
       "pivotColumns": null,
       "position": 2.88909912109375,
       "resultDbfsErrorMessage": null,
       "resultDbfsStatus": "INLINED_IN_TREE",
       "results": null,
       "showCommandTitle": false,
       "startTime": 0,
       "state": "input",
       "streamStates": {},
       "subcommandOptions": {
        "queryPlan": {
         "groups": [
          {
           "column": "DESCRIPTION",
           "type": "column"
          }
         ],
         "selects": [
          {
           "column": "DESCRIPTION",
           "type": "column"
          },
          {
           "alias": "column_b6e7c35819",
           "args": [
            {
             "column": "avg(GoldsteinScale)",
             "type": "column"
            }
           ],
           "function": "SUM",
           "type": "function"
          }
         ]
        }
       },
       "submitTime": 0,
       "subtype": "tableResultSubCmd.visualization",
       "tableResultIndex": 0,
       "useConsistentColors": false,
       "version": "CommandV1",
       "width": "1026",
       "workflows": null,
       "xColumns": null,
       "yColumns": null
      }
     },
     "output_type": "display_data"
    }
   ],
   "source": [
    "GDELT_EVENTS_CATEGORIZATION_GS_DIM = (\n",
    "GDELT_EVENTS_TPR #TABLE OF EVENTS WITH COUNTRIES OF INTERES\n",
    ".groupBy(col(\"DESCRIPTION\"),col(\"EventRootCode\")).agg(max(\"GoldsteinScale\").alias(\"MaxGS\"),min(\"GoldsteinScale\").alias(\"MinGS\")) #GROUPING FOR EVENT DESCRIPTION AND GET MAX AND MIN VALUES OF GS SCALE\n",
    ".withColumn(\"EventCategory\",  # COLUMN THAT CATEGORIZE THE EVENTS SCALE OF POSITVE,NEGATIVE OR NOT CLEAR CATEGORIES TYPES OF EVENTS\n",
    "            when((col(\"MaxGS\") < 0) & (col(\"MinGS\") < 0), \"Negative\")\n",
    "            .when((col(\"MaxGS\") > 0) & (col(\"MinGS\") >0), \"Positive\")\n",
    "            .otherwise(\"Not Clear Category\")   \n",
    "            )\n",
    ".filter(col(\"EventCategory\") != 'Not Clear Category') # FILTER ALL EVENTS WITH NO CLEAR CATEGORY AS THEY ARE NOT IMPORTANT\n",
    ".select(\"EventRootCode\",\"EventCategory\") # SELECT COLUMNS OF INTERES\n",
    ") "
   ]
  },
  {
   "cell_type": "markdown",
   "metadata": {
    "application/vnd.databricks.v1+cell": {
     "cellMetadata": {},
     "inputWidgets": {},
     "nuid": "d7746a42-1514-4f35-ad73-05c05af1357d",
     "showTitle": false,
     "title": ""
    }
   },
   "source": [
    "### Data Separation\n",
    "Within this chunk of code we are going to separate the type of news that are occuring within each country. In positive and Negative news."
   ]
  },
  {
   "cell_type": "code",
   "execution_count": 0,
   "metadata": {
    "application/vnd.databricks.v1+cell": {
     "cellMetadata": {
      "byteLimit": 2048000,
      "rowLimit": 10000
     },
     "inputWidgets": {},
     "nuid": "96b0ff8e-7ded-4fd0-a85f-4325288cfab6",
     "showTitle": false,
     "title": ""
    }
   },
   "outputs": [],
   "source": [
    "GDELT_EVENTS_TPR_CATEGORIZED = (\n",
    "  GDELT_EVENTS_TPR\n",
    "  .join(GDELT_EVENTS_CATEGORIZATION_GS_DIM,\"EventRootCode\",\"left\")\n",
    "  .filter(\"DESCRIPTION is not null\") #NO NEWS WITH NO CLEAR DESCRIPTION\n",
    ")\n",
    "\n",
    "GDELT_EVENTS_TPR_POSITIVE = GDELT_EVENTS_TPR_CATEGORIZED.filter(col(\"EventCategory\") == 'Positive')\n",
    "GDELT_EVENTS_TPR_NEGATIVE = GDELT_EVENTS_TPR_CATEGORIZED.filter(col(\"EventCategory\") == 'Negative')\n",
    "\n",
    "#print(\"Count of TPR Positive Events :\", GDELT_EVENTS_TPR_POSITIVE.count())\n",
    "#print(\"Count of TPR Negative Events :\", GDELT_EVENTS_TPR_NEGATIVE.count())"
   ]
  },
  {
   "cell_type": "markdown",
   "metadata": {
    "application/vnd.databricks.v1+cell": {
     "cellMetadata": {},
     "inputWidgets": {},
     "nuid": "8b792874-6612-4142-9766-ba214aea79eb",
     "showTitle": false,
     "title": ""
    }
   },
   "source": [
    "### Analysing Variables Related to Positive Events"
   ]
  },
  {
   "cell_type": "markdown",
   "metadata": {
    "application/vnd.databricks.v1+cell": {
     "cellMetadata": {},
     "inputWidgets": {},
     "nuid": "4c7aa681-7839-4f41-8a31-beed01f5852c",
     "showTitle": false,
     "title": ""
    }
   },
   "source": [
    "The first thing is Generate a Base Table. This Base table will help us to determine an objective to start generating and analyzing variables and correlaitons. First, We are going to check if our Y follows a Normal Distribution for checking that our objective isn't fuzzy and we can generate a good model"
   ]
  },
  {
   "cell_type": "code",
   "execution_count": 0,
   "metadata": {
    "application/vnd.databricks.v1+cell": {
     "cellMetadata": {
      "byteLimit": 2048000,
      "rowLimit": 10000
     },
     "inputWidgets": {},
     "nuid": "e97b431e-2cb7-4bdb-84f5-58505dd0b793",
     "showTitle": false,
     "title": ""
    }
   },
   "outputs": [],
   "source": [
    "GDELT_EVENTS_TPR_POSITIVE_BASE = (GDELT_EVENTS_TPR_POSITIVE\n",
    ".groupBy(\"Date\",\"ActionGeo_CountryCode\").agg(avg(\"GoldsteinScale\").alias(\"GoldsteinScale\"))\n",
    ")\n"
   ]
  },
  {
   "cell_type": "code",
   "execution_count": 0,
   "metadata": {
    "application/vnd.databricks.v1+cell": {
     "cellMetadata": {},
     "inputWidgets": {},
     "nuid": "f0f8d34e-aac9-4e7a-a93a-fe3587b69b7b",
     "showTitle": false,
     "title": ""
    }
   },
   "outputs": [],
   "source": []
  },
  {
   "cell_type": "code",
   "execution_count": 0,
   "metadata": {
    "application/vnd.databricks.v1+cell": {
     "cellMetadata": {},
     "inputWidgets": {},
     "nuid": "315ee75f-c40d-40c8-b30d-26bdf180d2e7",
     "showTitle": false,
     "title": ""
    }
   },
   "outputs": [],
   "source": []
  },
  {
   "cell_type": "code",
   "execution_count": 0,
   "metadata": {
    "application/vnd.databricks.v1+cell": {
     "cellMetadata": {},
     "inputWidgets": {},
     "nuid": "73483bdb-d2c1-4304-a180-443fe290e568",
     "showTitle": false,
     "title": ""
    }
   },
   "outputs": [],
   "source": []
  },
  {
   "cell_type": "code",
   "execution_count": 0,
   "metadata": {
    "application/vnd.databricks.v1+cell": {
     "cellMetadata": {
      "byteLimit": 2048000,
      "rowLimit": 10000
     },
     "inputWidgets": {},
     "nuid": "c2711108-9632-4df2-b70f-b8611e23cbbd",
     "showTitle": false,
     "title": ""
    }
   },
   "outputs": [],
   "source": [
    "display(PORT_LOCATIONS_DIM_CLEANED)"
   ]
  },
  {
   "cell_type": "code",
   "execution_count": 0,
   "metadata": {
    "application/vnd.databricks.v1+cell": {
     "cellMetadata": {
      "byteLimit": 2048000,
      "rowLimit": 10000
     },
     "inputWidgets": {},
     "nuid": "dc95f0c6-0538-4915-8889-3238abd1ba44",
     "showTitle": false,
     "title": ""
    }
   },
   "outputs": [],
   "source": [
    "GDELT_EVENTS_INTEREST = (\n",
    "GDELT_EVENTS_DATE\n",
    ".filter(\"ActionGeo_Lat is not null\")\n",
    ".filter(\"ActionGeo_Long is not null\")\n",
    ".select(\"ActionGeo_Fullname\",\"ActionGeo_CountryCode\",\"ActionGeo_Lat\",\"ActionGeo_Long\",\"SOURCEURL\")\n",
    ")"
   ]
  },
  {
   "cell_type": "code",
   "execution_count": 0,
   "metadata": {
    "application/vnd.databricks.v1+cell": {
     "cellMetadata": {
      "byteLimit": 2048000,
      "rowLimit": 10000
     },
     "inputWidgets": {},
     "nuid": "70ecdb67-8817-4564-b583-cb0acb778a84",
     "showTitle": false,
     "title": ""
    }
   },
   "outputs": [],
   "source": [
    "display(GDELT_EVENTS_INTEREST)"
   ]
  },
  {
   "cell_type": "code",
   "execution_count": 0,
   "metadata": {
    "application/vnd.databricks.v1+cell": {
     "cellMetadata": {
      "byteLimit": 2048000,
      "rowLimit": 10000
     },
     "inputWidgets": {},
     "nuid": "612d03b6-7fdc-4502-8355-bef158eb1131",
     "showTitle": false,
     "title": ""
    }
   },
   "outputs": [],
   "source": [
    "GDELT_CROSS_PORT = (GDELT_EVENTS_INTEREST.filter(\"ActionGeo_CountryCode == 'CH'\")\n",
    ".crossJoin(PORT_LOCATIONS_DIM_CLEANED.filter(\"COUNTRY == 'CHINA'\"))\n",
    ")\n",
    "\n",
    "GDELT_CROSS_PORT_DISTANCE = cal_lat_log_dist(GDELT_CROSS_PORT, 'ActionGeo_Lat', 'ActionGeo_Long', 'LATITUDE_CORRECTED', 'LONGITUDE_CORRECTED')\n",
    "\n",
    "display(GDELT_CROSS_PORT_DISTANCE)"
   ]
  },
  {
   "cell_type": "markdown",
   "metadata": {
    "application/vnd.databricks.v1+cell": {
     "cellMetadata": {},
     "inputWidgets": {},
     "nuid": "655b4b80-ef24-4576-8087-49536ffd7681",
     "showTitle": false,
     "title": ""
    }
   },
   "source": [
    "## DA"
   ]
  },
  {
   "cell_type": "code",
   "execution_count": 0,
   "metadata": {
    "application/vnd.databricks.v1+cell": {
     "cellMetadata": {
      "byteLimit": 2048000,
      "rowLimit": 10000
     },
     "inputWidgets": {},
     "nuid": "e7f360da-4cc5-4f4b-b309-2bcb96a9725e",
     "showTitle": false,
     "title": ""
    }
   },
   "outputs": [],
   "source": []
  },
  {
   "cell_type": "code",
   "execution_count": 0,
   "metadata": {
    "application/vnd.databricks.v1+cell": {
     "cellMetadata": {
      "byteLimit": 2048000,
      "rowLimit": 10000
     },
     "inputWidgets": {},
     "nuid": "6a208270-712a-4bfb-9632-0239a1200ea1",
     "showTitle": false,
     "title": ""
    }
   },
   "outputs": [],
   "source": [
    "GDELT_EVENTS_BASE ="
   ]
  },
  {
   "cell_type": "code",
   "execution_count": 0,
   "metadata": {
    "application/vnd.databricks.v1+cell": {
     "cellMetadata": {
      "byteLimit": 2048000,
      "rowLimit": 10000
     },
     "inputWidgets": {},
     "nuid": "b879c28e-8528-4822-85b6-45f3b81b7178",
     "showTitle": false,
     "title": ""
    }
   },
   "outputs": [],
   "source": [
    "GDELT_EVENTS_DATE.select(\"GlobalEventID\").distinct().count()"
   ]
  },
  {
   "cell_type": "code",
   "execution_count": 0,
   "metadata": {
    "application/vnd.databricks.v1+cell": {
     "cellMetadata": {
      "byteLimit": 2048000,
      "rowLimit": 10000
     },
     "inputWidgets": {},
     "nuid": "a4b4a9f5-0ca6-40d9-80e4-7c7768d60761",
     "showTitle": false,
     "title": ""
    }
   },
   "outputs": [],
   "source": [
    "display(GDELT_EVENTS_DATE)"
   ]
  },
  {
   "cell_type": "code",
   "execution_count": 0,
   "metadata": {
    "application/vnd.databricks.v1+cell": {
     "cellMetadata": {
      "byteLimit": 2048000,
      "rowLimit": 10000
     },
     "inputWidgets": {},
     "nuid": "d0b9b7fe-0200-4567-9e14-c807175d99fa",
     "showTitle": false,
     "title": ""
    }
   },
   "outputs": [],
   "source": [
    "GDELT_EVENTS_PORTS = (GDELT_EVENTS_DATE\n",
    "#.filter(col(\"ActionGeo_Fullname\").like(\"% Port %\"))\n",
    "#.filter(col(\"SOURCEURL\").like(\"%-port-%\"))\n",
    "#)\n",
    "\n",
    "#print(\"Number of observations with the name a location with name port in it: \",GDELT_EVENTS_PORTS.count())"
   ]
  },
  {
   "cell_type": "code",
   "execution_count": 0,
   "metadata": {
    "application/vnd.databricks.v1+cell": {
     "cellMetadata": {
      "byteLimit": 2048000,
      "rowLimit": 10000
     },
     "inputWidgets": {},
     "nuid": "f5fe59cd-d889-4aaa-a8d7-1e1bd1abd99f",
     "showTitle": false,
     "title": ""
    }
   },
   "outputs": [],
   "source": [
    "PLACE_CUADCLASSCOUNT = (GDELT_EVENTS_DATE\n",
    ".filter(col(\"ActionGeo_Fullname\").like(\"% Port %\"))\n",
    ".groupby(\"ActionGeo_ADM1Code\",\"Date_Week\").pivot(\"QuadClass\").count()\n",
    ")\n",
    "\n",
    "GLDSCALE = GDELT_EVENTS_DATE.groupby(\"ActionGeo_ADM1Code\",\"Date_Week\").agg(avg(\"GoldsteinScale\").alias(\"GoldsteinScale\"))\n",
    "\n",
    "ADDEDE = PLACE_CUADCLASSCOUNT.join(GLDSCALE,[\"ActionGeo_ADM1Code\",\"Date_Week\"],\"left\").fillna(0)"
   ]
  },
  {
   "cell_type": "code",
   "execution_count": 0,
   "metadata": {
    "application/vnd.databricks.v1+cell": {
     "cellMetadata": {
      "byteLimit": 2048000,
      "rowLimit": 10000
     },
     "inputWidgets": {},
     "nuid": "a16a2b92-caae-4d38-a18b-5365b747131d",
     "showTitle": false,
     "title": ""
    }
   },
   "outputs": [
    {
     "output_type": "display_data",
     "data": {
      "text/plain": [
       "Databricks visualization. Run in Databricks to view."
      ]
     },
     "metadata": {
      "application/vnd.databricks.v1.subcommand+json": {
       "baseErrorDetails": null,
       "bindings": {},
       "collapsed": false,
       "command": "%python\n__backend_agg_display_orig = display\n__backend_agg_dfs = []\ndef __backend_agg_display_new(df):\n    __backend_agg_df_modules = [\"pandas.core.frame\", \"databricks.koalas.frame\", \"pyspark.sql.dataframe\", \"pyspark.pandas.frame\", \"pyspark.sql.connect.dataframe\"]\n    if (type(df).__module__ in __backend_agg_df_modules and type(df).__name__ == 'DataFrame') or isinstance(df, list):\n        __backend_agg_dfs.append(df)\n\ndisplay = __backend_agg_display_new\n\ndef __backend_agg_user_code_fn():\n    import base64\n    exec(base64.standard_b64decode(\"ZGlzcGxheShHREVMVF9FVkVOVFNfV0FURVJfUExBQ0VTKQ==\").decode())\n\ntry:\n    # run user code\n    __backend_agg_user_code_fn()\n\n    #reset display function\n    display = __backend_agg_display_orig\n\n    if len(__backend_agg_dfs) > 0:\n        # create a temp view\n        if type(__backend_agg_dfs[0]).__module__ == \"databricks.koalas.frame\":\n            # koalas dataframe\n            __backend_agg_dfs[0].to_spark().createOrReplaceTempView(\"DatabricksView452741d\")\n        elif type(__backend_agg_dfs[0]).__module__ == \"pandas.core.frame\" or isinstance(__backend_agg_dfs[0], list):\n            # pandas dataframe\n            spark.createDataFrame(__backend_agg_dfs[0]).createOrReplaceTempView(\"DatabricksView452741d\")\n        else:\n            __backend_agg_dfs[0].createOrReplaceTempView(\"DatabricksView452741d\")\n        #run backend agg\n        display(spark.sql(\"\"\"WITH q AS (select * from DatabricksView452741d) SELECT `QuadClass`,`GoldsteinScale` FROM q\"\"\"))\n    else:\n        displayHTML(\"dataframe no longer exists. If you're using dataframe.display(), use display(dataframe) instead.\")\n\n\nfinally:\n    spark.sql(\"drop view if exists DatabricksView452741d\")\n    display = __backend_agg_display_orig\n    del __backend_agg_display_new\n    del __backend_agg_display_orig\n    del __backend_agg_dfs\n    del __backend_agg_user_code_fn\n\n",
       "commandTitle": "Visualization 1",
       "commandType": "auto",
       "commandVersion": 0,
       "commentThread": [],
       "commentsVisible": false,
       "contentSha256Hex": null,
       "customPlotOptions": {
        "redashChart": [
         {
          "key": "type",
          "value": "CHART"
         },
         {
          "key": "options",
          "value": {
           "alignYAxesAtZero": true,
           "coefficient": 1,
           "columnConfigurationMap": {
            "x": {
             "column": "GoldsteinScale",
             "id": "column_ca84835546"
            },
            "y": [
             {
              "column": "4",
              "id": "column_ca84835550"
             }
            ]
           },
           "dateTimeFormat": "DD/MM/YYYY HH:mm",
           "direction": {
            "type": "counterclockwise"
           },
           "error_y": {
            "type": "data",
            "visible": true
           },
           "globalSeriesType": "scatter",
           "legend": {
            "traceorder": "normal"
           },
           "missingValuesAsZero": true,
           "numberFormat": "0,0.[00000]",
           "percentFormat": "0[.]00%",
           "series": {
            "error_y": {
             "type": "data",
             "visible": true
            },
            "stacking": null
           },
           "seriesOptions": {
            "1": {
             "type": "scatter",
             "yAxis": 0
            },
            "2": {
             "type": "scatter",
             "yAxis": 0
            },
            "3": {
             "type": "scatter",
             "yAxis": 0
            },
            "4": {
             "type": "scatter",
             "yAxis": 0
            },
            "GoldsteinScale": {
             "type": "scatter",
             "yAxis": 0
            },
            "NumMentions": {
             "type": "scatter",
             "yAxis": 0
            }
           },
           "showDataLabels": false,
           "sizemode": "diameter",
           "sortX": true,
           "sortY": true,
           "swappedAxes": false,
           "textFormat": "",
           "useAggregationsUi": true,
           "valuesOptions": {},
           "version": 2,
           "xAxis": {
            "labels": {
             "enabled": true
            },
            "type": "-"
           },
           "yAxis": [
            {
             "type": "-"
            },
            {
             "opposite": true,
             "type": "-"
            }
           ]
          }
         }
        ]
       },
       "datasetPreviewNameToCmdIdMap": {},
       "diffDeletes": [],
       "diffInserts": [],
       "displayType": "redashChart",
       "error": null,
       "errorDetails": null,
       "errorSummary": null,
       "errorTraceType": null,
       "finishTime": 0,
       "globalVars": {},
       "guid": "",
       "height": "auto",
       "hideCommandCode": false,
       "hideCommandResult": false,
       "iPythonMetadata": null,
       "inputWidgets": {},
       "isLockedInExamMode": false,
       "latestUser": "a user",
       "latestUserId": null,
       "listResultMetadata": null,
       "metadata": {},
       "nuid": "a94925c0-be34-4980-acca-61ddf01436e9",
       "origId": 0,
       "parentHierarchy": [],
       "pivotAggregation": null,
       "pivotColumns": null,
       "position": 4.375,
       "resultDbfsErrorMessage": null,
       "resultDbfsStatus": "INLINED_IN_TREE",
       "results": null,
       "showCommandTitle": false,
       "startTime": 0,
       "state": "input",
       "streamStates": {},
       "subcommandOptions": {
        "queryPlan": {
         "selects": [
          {
           "column": "GoldsteinScale",
           "type": "column"
          },
          {
           "column": "4",
           "type": "column"
          }
         ]
        }
       },
       "submitTime": 0,
       "subtype": "tableResultSubCmd.visualization",
       "tableResultIndex": 0,
       "useConsistentColors": false,
       "version": "CommandV1",
       "width": "auto",
       "workflows": null,
       "xColumns": null,
       "yColumns": null
      }
     },
     "output_type": "display_data"
    }
   ],
   "source": [
    "max_value = greatest(*[col(c) for c in ADDEDE.select(\"1\",\"2\",\"3\",\"4\").columns])\n",
    "\n",
    "df_with_max_column = ADDEDE.withColumn(\n",
    "    \"Max_QuadClass\",\n",
    "      when(col(\"1\") == max_value, \"1\")\n",
    "     .when(col(\"2\") == max_value, \"2\")\n",
    "     .when(col(\"3\") == max_value, \"3\")\n",
    "     .when(col(\"4\") == max_value, \"4\")\n",
    ")"
   ]
  },
  {
   "cell_type": "code",
   "execution_count": 0,
   "metadata": {
    "application/vnd.databricks.v1+cell": {
     "cellMetadata": {
      "byteLimit": 2048000,
      "rowLimit": 10000
     },
     "inputWidgets": {},
     "nuid": "f147df4c-d8be-49b9-820d-b7f8188f7792",
     "showTitle": false,
     "title": ""
    }
   },
   "outputs": [
    {
     "output_type": "display_data",
     "data": {
      "text/plain": [
       "Databricks visualization. Run in Databricks to view."
      ]
     },
     "metadata": {
      "application/vnd.databricks.v1.subcommand+json": {
       "baseErrorDetails": null,
       "bindings": {},
       "collapsed": false,
       "command": "%python\n__backend_agg_display_orig = display\n__backend_agg_dfs = []\ndef __backend_agg_display_new(df):\n    __backend_agg_df_modules = [\"pandas.core.frame\", \"databricks.koalas.frame\", \"pyspark.sql.dataframe\", \"pyspark.pandas.frame\", \"pyspark.sql.connect.dataframe\"]\n    if (type(df).__module__ in __backend_agg_df_modules and type(df).__name__ == 'DataFrame') or isinstance(df, list):\n        __backend_agg_dfs.append(df)\n\ndisplay = __backend_agg_display_new\n\ndef __backend_agg_user_code_fn():\n    import base64\n    exec(base64.standard_b64decode(\"ZGlzcGxheShkZl93aXRoX21heF9jb2x1bW4p\").decode())\n\ntry:\n    # run user code\n    __backend_agg_user_code_fn()\n\n    #reset display function\n    display = __backend_agg_display_orig\n\n    if len(__backend_agg_dfs) > 0:\n        # create a temp view\n        if type(__backend_agg_dfs[0]).__module__ == \"databricks.koalas.frame\":\n            # koalas dataframe\n            __backend_agg_dfs[0].to_spark().createOrReplaceTempView(\"DatabricksViewb73bd96\")\n        elif type(__backend_agg_dfs[0]).__module__ == \"pandas.core.frame\" or isinstance(__backend_agg_dfs[0], list):\n            # pandas dataframe\n            spark.createDataFrame(__backend_agg_dfs[0]).createOrReplaceTempView(\"DatabricksViewb73bd96\")\n        else:\n            __backend_agg_dfs[0].createOrReplaceTempView(\"DatabricksViewb73bd96\")\n        #run backend agg\n        display(spark.sql(\"\"\"WITH q AS (select * from DatabricksViewb73bd96) SELECT `Max_QuadClass`,AVG(`GoldsteinScale`) `column_ca84835577` FROM q GROUP BY `Max_QuadClass`\"\"\"))\n    else:\n        displayHTML(\"dataframe no longer exists. If you're using dataframe.display(), use display(dataframe) instead.\")\n\n\nfinally:\n    spark.sql(\"drop view if exists DatabricksViewb73bd96\")\n    display = __backend_agg_display_orig\n    del __backend_agg_display_new\n    del __backend_agg_display_orig\n    del __backend_agg_dfs\n    del __backend_agg_user_code_fn\n\n",
       "commandTitle": "Visualization 1",
       "commandType": "auto",
       "commandVersion": 0,
       "commentThread": [],
       "commentsVisible": false,
       "contentSha256Hex": null,
       "customPlotOptions": {
        "redashChart": [
         {
          "key": "type",
          "value": "CHART"
         },
         {
          "key": "options",
          "value": {
           "alignYAxesAtZero": true,
           "coefficient": 1,
           "columnConfigurationMap": {
            "x": {
             "column": "Max_QuadClass",
             "id": "column_ca84835579"
            },
            "y": [
             {
              "column": "GoldsteinScale",
              "id": "column_ca84835577",
              "transform": "AVG"
             }
            ]
           },
           "dateTimeFormat": "DD/MM/YYYY HH:mm",
           "direction": {
            "type": "counterclockwise"
           },
           "error_y": {
            "type": "data",
            "visible": true
           },
           "globalSeriesType": "column",
           "isAggregationOn": true,
           "legend": {
            "traceorder": "normal"
           },
           "missingValuesAsZero": true,
           "numberFormat": "0,0.[00000]",
           "percentFormat": "0[.]00%",
           "series": {
            "error_y": {
             "type": "data",
             "visible": true
            },
            "stacking": null
           },
           "seriesOptions": {
            "1": {
             "type": "column",
             "yAxis": 0
            },
            "2": {
             "type": "column",
             "yAxis": 0
            },
            "3": {
             "type": "column",
             "yAxis": 0
            },
            "4": {
             "type": "column",
             "yAxis": 0
            },
            "ActionGeo_ADM1Code": {
             "type": "column",
             "yAxis": 0
            },
            "Date_Week": {
             "type": "column",
             "yAxis": 0
            },
            "column_ca84835560": {
             "type": "column",
             "yAxis": 0
            },
            "column_ca84835577": {
             "type": "column",
             "yAxis": 0
            }
           },
           "showDataLabels": false,
           "sizemode": "diameter",
           "sortX": true,
           "sortY": true,
           "swappedAxes": false,
           "textFormat": "",
           "useAggregationsUi": true,
           "valuesOptions": {},
           "version": 2,
           "xAxis": {
            "labels": {
             "enabled": true
            },
            "type": "-"
           },
           "yAxis": [
            {
             "type": "-"
            },
            {
             "opposite": true,
             "type": "-"
            }
           ]
          }
         }
        ]
       },
       "datasetPreviewNameToCmdIdMap": {},
       "diffDeletes": [],
       "diffInserts": [],
       "displayType": "redashChart",
       "error": null,
       "errorDetails": null,
       "errorSummary": null,
       "errorTraceType": null,
       "finishTime": 0,
       "globalVars": {},
       "guid": "",
       "height": "auto",
       "hideCommandCode": false,
       "hideCommandResult": false,
       "iPythonMetadata": null,
       "inputWidgets": {},
       "isLockedInExamMode": false,
       "latestUser": "a user",
       "latestUserId": null,
       "listResultMetadata": null,
       "metadata": {},
       "nuid": "d72862f8-bd71-49b2-b1ff-62a0a0f7f8cb",
       "origId": 0,
       "parentHierarchy": [],
       "pivotAggregation": null,
       "pivotColumns": null,
       "position": 6.0,
       "resultDbfsErrorMessage": null,
       "resultDbfsStatus": "INLINED_IN_TREE",
       "results": null,
       "showCommandTitle": false,
       "startTime": 0,
       "state": "input",
       "streamStates": {},
       "subcommandOptions": {
        "queryPlan": {
         "groups": [
          {
           "column": "Max_QuadClass",
           "type": "column"
          }
         ],
         "selects": [
          {
           "column": "Max_QuadClass",
           "type": "column"
          },
          {
           "alias": "column_ca84835577",
           "args": [
            {
             "column": "GoldsteinScale",
             "type": "column"
            }
           ],
           "function": "AVG",
           "type": "function"
          }
         ]
        }
       },
       "submitTime": 0,
       "subtype": "tableResultSubCmd.visualization",
       "tableResultIndex": 0,
       "useConsistentColors": false,
       "version": "CommandV1",
       "width": "auto",
       "workflows": null,
       "xColumns": null,
       "yColumns": null
      }
     },
     "output_type": "display_data"
    }
   ],
   "source": [
    "display(df_with_max_column)"
   ]
  },
  {
   "cell_type": "code",
   "execution_count": 0,
   "metadata": {
    "application/vnd.databricks.v1+cell": {
     "cellMetadata": {},
     "inputWidgets": {},
     "nuid": "6e5ac314-595a-483d-9b97-bdd215a4db52",
     "showTitle": false,
     "title": ""
    }
   },
   "outputs": [],
   "source": []
  }
 ],
 "metadata": {
  "application/vnd.databricks.v1+notebook": {
   "dashboards": [],
   "environmentMetadata": null,
   "language": "python",
   "notebookMetadata": {
    "pythonIndentUnit": 4
   },
   "notebookName": "Untitled Notebook 2024-08-13 21_17_11",
   "widgets": {}
  }
 },
 "nbformat": 4,
 "nbformat_minor": 0
}
