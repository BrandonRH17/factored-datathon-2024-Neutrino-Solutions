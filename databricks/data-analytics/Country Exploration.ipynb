{
 "cells": [
  {
   "cell_type": "markdown",
   "metadata": {
    "application/vnd.databricks.v1+cell": {
     "cellMetadata": {
      "byteLimit": 2048000,
      "rowLimit": 10000
     },
     "inputWidgets": {},
     "nuid": "5f1a13b4-f75a-4296-b0a0-ec0d9fcf3baa",
     "showTitle": false,
     "title": ""
    }
   },
   "source": [
    "# Data Analytics / Data Science - Datathon 2024"
   ]
  },
  {
   "cell_type": "markdown",
   "metadata": {
    "application/vnd.databricks.v1+cell": {
     "cellMetadata": {
      "byteLimit": 2048000,
      "rowLimit": 10000
     },
     "inputWidgets": {},
     "nuid": "4e62a01f-0cfb-4938-b65a-e30b6cc557fb",
     "showTitle": false,
     "title": ""
    }
   },
   "source": [
    "## Libraries\n",
    "\n",
    "Import commands of libraries and functions that are going to be used for this notebook"
   ]
  },
  {
   "cell_type": "code",
   "execution_count": 0,
   "metadata": {
    "application/vnd.databricks.v1+cell": {
     "cellMetadata": {
      "byteLimit": 2048000,
      "rowLimit": 10000
     },
     "inputWidgets": {},
     "nuid": "7e8a3acf-a22c-4856-adef-e17c5f03ffcf",
     "showTitle": false,
     "title": ""
    }
   },
   "outputs": [],
   "source": [
    "# Loading Libraries for the notebook\n",
    "from pyspark.sql.functions import *\n",
    "import datetime\n",
    "from pyspark.sql.window import Window"
   ]
  },
  {
   "cell_type": "markdown",
   "metadata": {
    "application/vnd.databricks.v1+cell": {
     "cellMetadata": {
      "byteLimit": 2048000,
      "rowLimit": 10000
     },
     "inputWidgets": {},
     "nuid": "e145e8aa-7ea5-42b3-bbe7-40beb9a25d3f",
     "showTitle": false,
     "title": ""
    }
   },
   "source": [
    "\n",
    "# UDFS\n",
    "\n",
    "UDFS, are user defined functions, In the cell below is the definition of the functions that we created that are going to be used in this notebook."
   ]
  },
  {
   "cell_type": "code",
   "execution_count": 0,
   "metadata": {
    "application/vnd.databricks.v1+cell": {
     "cellMetadata": {
      "byteLimit": 2048000,
      "rowLimit": 10000
     },
     "inputWidgets": {},
     "nuid": "5320dc70-367a-4da9-b35d-c8d543e2a7a8",
     "showTitle": false,
     "title": ""
    }
   },
   "outputs": [],
   "source": [
    "\n",
    "# Function to Calculate Distance in Kilometers in a straight line between two points.\n",
    "\n",
    "'''\n",
    "CAL_LAT_LONG_DIST(df,lat1,long1,lat2,long2):\n",
    "df = dataframe when we want to add the columns of \"distance_in_kms\"\n",
    "lat1 = Latitued of Place 1\n",
    "long1 = Longitude of Place 1\n",
    "lat 2 = Latitude of Place 2\n",
    "long2 = Longitued of Place 2\n",
    "\n",
    "Outputs: DataFrame with a new column named = \"distance_in_kms\". The number represent the distance in KMS between the two points for each row.\n",
    "'''\n",
    "\n",
    "def cal_lat_log_dist(df, lat1, long1, lat2, long2):\n",
    "        df = df.withColumn('distance_in_kms' , \\\n",
    "            round((acos((sin(radians(col(lat1))) * sin(radians(col(lat2)))) + \\\n",
    "                   ((cos(radians(col(lat1))) * cos(radians(col(lat2)))) * \\\n",
    "                    (cos(radians(long1) - radians(long2))))\n",
    "                       ) * lit(6371.0)), 4))\n",
    "        return df"
   ]
  },
  {
   "cell_type": "markdown",
   "metadata": {
    "application/vnd.databricks.v1+cell": {
     "cellMetadata": {
      "byteLimit": 2048000,
      "rowLimit": 10000
     },
     "inputWidgets": {},
     "nuid": "a8e75d4a-5434-4f62-a502-793b4cbf54a8",
     "showTitle": false,
     "title": ""
    }
   },
   "source": [
    "## Loading Data\n",
    "\n",
    "The data we would use for our use case is GDELT poject database. That consists in two tables: GDELT_EVENTS and GKG.\n",
    "\n",
    "Additionaly we would use two more tables:\n",
    "\n",
    "* PORT_LOCATIONS_DIM:\n",
    "\n",
    "Is a table that locates differnet ports around the world with their country, state or province and  coordinates (longitude and latitude)\n",
    "\n",
    "* CAMEO_DICTRIONARY:\n",
    "\n",
    " Is a table that helps to identify the descriptions of CAMEO EVENTS codes. To correctly identify the nature of the events\n",
    "\n",
    "\n",
    " All this tables came from the BRONZE database. Wich contains all tables in their raw forms"
   ]
  },
  {
   "cell_type": "code",
   "execution_count": 0,
   "metadata": {
    "application/vnd.databricks.v1+cell": {
     "cellMetadata": {
      "byteLimit": 2048000,
      "rowLimit": 10000
     },
     "inputWidgets": {},
     "nuid": "66894ba2-d9ad-4e16-8b4e-63780e69e2c5",
     "showTitle": false,
     "title": ""
    }
   },
   "outputs": [],
   "source": [
    "# Loading Data from BRONZE database\n",
    "\n",
    "GDELT_EVENTS = spark.sql(\"SELECT * FROM BRONZE.GDELT_EVENTS\")\n",
    "PORT_LOCATIONS_DIM = spark.sql(\"SELECT * FROM BRONZE.PORTS_DICTIONARY\")\n",
    "CAMEO_DICTIONARY = spark.sql(\"SELECT * FROM BRONZE.CAMEO_DICTIONARY\")\n",
    "GKG = spark.sql(\"SELECT * FROM BRONZE.GDELT_GKG\")"
   ]
  },
  {
   "cell_type": "markdown",
   "metadata": {
    "application/vnd.databricks.v1+cell": {
     "cellMetadata": {
      "byteLimit": 2048000,
      "rowLimit": 10000
     },
     "inputWidgets": {},
     "nuid": "c516bf38-65b6-43c3-9a77-cf754781b890",
     "showTitle": false,
     "title": ""
    }
   },
   "source": [
    "## Cleaning PORT_LOCATIONS_DIM\n",
    "\n",
    "PORT_LOCATIONS_DIM Requieres some cleaning before using it.\n",
    "\n",
    "1. Filter Ports with no coordinates \n",
    "2. Eliminate blank spaces in LATITUDE and LONGITUDE\n",
    "3. Extract the Orientation of the coordinates\n",
    "4. Correctly describe Latitude and Longitude with it's corresponding orientation\n",
    "5. Select columns of interest: \"COUNTRY\",\"PORT\",\"LATITUDE_CORRECTED\",\"LONGITUDE_CORRECTED\" for a consist and clean table"
   ]
  },
  {
   "cell_type": "code",
   "execution_count": 0,
   "metadata": {
    "application/vnd.databricks.v1+cell": {
     "cellMetadata": {
      "byteLimit": 2048000,
      "rowLimit": 10000
     },
     "inputWidgets": {},
     "nuid": "f10c16be-af27-4424-9fa6-5e2d4f0f2eeb",
     "showTitle": false,
     "title": ""
    }
   },
   "outputs": [],
   "source": [
    "# Claeaning RAW data from PORT_LOCATIONS\n",
    "\n",
    "PORT_LOCATIONS_DIM_CLEANED = (\n",
    "PORT_LOCATIONS_DIM\n",
    ".filter(\"LATITUDE IS NOT NULL\") #Filter for Latitud is nos null\n",
    ".filter(\"LONGITUDE IS NOT NULL\") #Filter for Longitud is nos null\n",
    ".withColumn(\"LATITUDE\", regexp_replace(col(\"LATITUDE\"),\" \",\"\")) #Eliminate black spaces in LATITUD column\n",
    ".withColumn(\"LONGITUDE\", regexp_replace(col(\"LONGITUDE\"),\" \",\"\")) #Eliminate black spaces in LATITUD column\n",
    ".withColumn(\"Lat_Ori\", substring(col(\"LATITUDE\"),-1,1)) # Get N,S,W,E Orientation from latitud\n",
    ".withColumn(\"Long_Ori\", substring(col(\"LONGITUDE\"),-1,1)) # Get N,S,W,E Orientation from longitude\n",
    ".withColumn(\"LATITUDE_CORRECTED\", #THIS NEW COLUMN CORRECT THE COORINDATES DEPENDING ON THE ORIENTATION N,S,W,E\n",
    "            when(col(\"Lat_Ori\") == 'S', expr(\"substring(LATITUDE,1,length(LATITUDE) - 1 )\") * - 1) #GET CORRECT COORDINATES\n",
    "            .when(col(\"Lat_Ori\") == 'N', expr(\"substring(LATITUDE,1,length(LATITUDE) - 1 )\")) #GET CORRECT COORDINATES\n",
    "            .when(col(\"Lat_Ori\") == 'E', expr(\"substring(LATITUDE,1,length(LATITUDE) - 1 )\") * -1) #GET CORRECT COORDINATES\n",
    "            .otherwise(999.999) # ID FOR CHECKING IF SOME VALUE ISN'T TAKEN INTO ACCOUNT\n",
    ")\n",
    ".withColumn(\"LONGITUDE_CORRECTED\", #THIS NEW COLUMN CORRECT THE COORINDATES DEPENDING ON THE ORIENTATION N,S,W,E\n",
    "            when(col(\"Long_Ori\") == 'E', expr(\"substring(LONGITUDE,1,length(LONGITUDE) - 1 )\")) #GET CORRECT COORDINATES\n",
    "            .when(col(\"Long_Ori\") == 'W', expr(\"substring(LONGITUDE,1,length(LONGITUDE) - 1 )\") * -1)#GET CORRECT COORDINATES\n",
    "            .when(col(\"Lat_Ori\") == 'N', expr(\"substring(LATITUDE,1,length(LATITUDE) - 1 )\") * -1) #GET CORRECT COORDINATES\n",
    "            .otherwise(999.999) # ID FOR CHECKING IF SOME VALUE ISN'T TAKEN INTO ACCOUNT\n",
    ")\n",
    ".select(\"COUNTRY\",\"PORT\",\"LATITUDE_CORRECTED\",\"LONGITUDE_CORRECTED\") # SELECT COUNTRIES OF INTEREST\n",
    ")"
   ]
  },
  {
   "cell_type": "markdown",
   "metadata": {
    "application/vnd.databricks.v1+cell": {
     "cellMetadata": {
      "byteLimit": 2048000,
      "rowLimit": 10000
     },
     "inputWidgets": {},
     "nuid": "fceb68ec-e4b9-4afd-a041-c27f46cb6777",
     "showTitle": false,
     "title": ""
    }
   },
   "source": [
    "## OBJECTIVE - DATA ANALYSIS:\n",
    "\n",
    "To start doing some analysis with our data. We have to do a clear explanaition of our objective. Our Objective is:\n",
    "\n",
    "**Detect and Precidit possible complications in port related to the Transpacific Route**\n",
    "\n",
    "First, we need to identify the news that could be related to Ports inside the Transpacific Route. The countries we select to analyze are: Canada, United States, China and Japan. and for each country we select the three more importants ports that are useden in the Transpacific Route. The following list is a compilation per country that discribes: \n",
    "* Name of Country\n",
    "* Code for Country\n",
    "* Name of Port\n",
    "* Location of the Port\n",
    "* Code of the Location of the Port\n",
    "\n",
    "**For further reference in locations you can check the following summary**\n",
    "\n",
    "**CANADA**\n",
    "Code for country = 'CA'\n",
    "\n",
    "1. Port of Vancouver - British Columbia (CA02)\n",
    "2. Puerto de Prince Rupert - Columbia Británica (CA02)\n",
    "3. Port of Montreal - Quebec (CA10)\n",
    "\n",
    "**USA**\n",
    "Code for country = 'US'\n",
    "\n",
    "1. Port of Los Angeles - California (USCA)\n",
    "2. Port of Long Beach - California (USCA)\n",
    "3. Port of Oakland - California (USCA)\n",
    "\n",
    "**CHINA**\n",
    "Code for country = 'CH'\n",
    "\n",
    "1. Port of Shanghai - Shanghai (CH23)\n",
    "2. Port of Shenzhen - Guangdong Province (CH30)\n",
    "3. Port of Ningbo-Zhoushan - Zhejiang Province (CH02)\n",
    "\n",
    "**JAPAN**\n",
    "Code for Country = 'JA'\n",
    "\n",
    "1. Port of Tokyo - Tokyo (JA40)\n",
    "2. Port of Yokohama - Kanagawa Prefecture (JA19)\n",
    "3. Port of Nagoya - Aichi Prefecture (JA01)"
   ]
  },
  {
   "cell_type": "markdown",
   "metadata": {
    "application/vnd.databricks.v1+cell": {
     "cellMetadata": {
      "byteLimit": 2048000,
      "rowLimit": 10000
     },
     "inputWidgets": {},
     "nuid": "e195a210-3d2b-40c5-8c0e-aba53858ee85",
     "showTitle": false,
     "title": ""
    }
   },
   "source": [
    "## Principal Cleaning\n",
    "\n",
    "The table that we are going to use as a base is the GKG table. Before doing anything we need to clarify the basic steps of cleaning that this table would requiere:\n",
    "1. Creation of a Date column of Type Date\n",
    "2. Filtering news from a static period of time. In this case from January 2022 to July 2024\n",
    "3. LOCATIONS column is delimited with '#', By splitting this column we can extract Country Code and Location Code\n",
    "4. TONE column is delimited with \",\", by splitting this column we can extract: Average tone of the new, Positive Score of the new, Negative Score from the new, and Polarity of the New\n",
    "5. Filter news related to the Locations we are interested (In this case locations with the selected ports from the transpacific route)"
   ]
  },
  {
   "cell_type": "code",
   "execution_count": 0,
   "metadata": {
    "application/vnd.databricks.v1+cell": {
     "cellMetadata": {
      "byteLimit": 2048000,
      "rowLimit": 10000
     },
     "inputWidgets": {},
     "nuid": "6e5ac314-595a-483d-9b97-bdd215a4db52",
     "showTitle": false,
     "title": ""
    }
   },
   "outputs": [],
   "source": [
    "GKG_PRINCIPAL_CLEANING =(GKG\n",
    ".withColumn(\"Date\", to_date(col(\"DATE\"), \"yyyyMMdd\")) # CREATE DATE COLUMN\n",
    ".filter(\"Date >= '2022-01-01' and Date < '2024-08-01'\") # SELECTE NEWS FROM 2022 TO JULY 2024\n",
    ".withColumn(\"CountryCode\", split(col(\"LOCATIONS\"),\"#\").getItem(2)) # GET COUNTRY CODE\n",
    ".withColumn(\"LocationCode\", split(col(\"LOCATIONS\"),\"#\").getItem(3)) # GET LOCATION CODE\n",
    ".withColumn(\"AverageTone\", split(col(\"TONE\"),\",\").getItem(0)) # GET AVERAGE TONE\n",
    ".withColumn(\"TonePositiveScore\", split(col(\"TONE\"),\",\").getItem(1)) # GET TONE POSITIVE SCORE\n",
    ".withColumn(\"ToneNegativeScore\", split(col(\"TONE\"),\",\").getItem(2)) # GET TONE NEGATIVE SCORE\n",
    ".withColumn(\"Polarity\", split(col(\"TONE\"),\",\").getItem(3))  # GET TONE POLARITY\n",
    ".filter(col(\"LocationCode\").isin(\"CA02\",\"CA02\",\"CA10\",\"USCA\",\"CH23\",'CH30',\"CH02\",\"JA40\",\"JA19\",\"JA01\")) # FILTER THE NEWS RELATED TO THE LOCATIONS OF THE PORT (CHECK DEFINITION IN THE CELL ABOVE FOR MORE DETAILS IN THE CODES)\n",
    ")"
   ]
  },
  {
   "cell_type": "code",
   "execution_count": 0,
   "metadata": {
    "application/vnd.databricks.v1+cell": {
     "cellMetadata": {
      "byteLimit": 2048000,
      "rowLimit": 10000
     },
     "inputWidgets": {},
     "nuid": "fd5be312-5137-40a6-a987-5cbd6b7ad97d",
     "showTitle": false,
     "title": ""
    }
   },
   "outputs": [],
   "source": [
    "TABLE_OF_DATES = (\n",
    "GKG_PRINCIPAL_CLEANING\n",
    ".select(\"Date\").distinct()\n",
    ")"
   ]
  },
  {
   "cell_type": "markdown",
   "metadata": {
    "application/vnd.databricks.v1+cell": {
     "cellMetadata": {
      "byteLimit": 2048000,
      "rowLimit": 10000
     },
     "inputWidgets": {},
     "nuid": "98c4a655-eb1c-4392-8a64-f97f1023b024",
     "showTitle": false,
     "title": ""
    }
   },
   "source": [
    "## How to deal with news with some sort of emotions?\n",
    "\n",
    "As a logistic company, we can't base our decisions in emotions or a interpretation of a situation with a lot of emotion charge to it. This could easily cause wrong interpretations and could generate serious problems to a company.\n",
    "\n",
    "In GKG, with the TONE varible we could make some decissions by extracting the average tone and the polarity. \n",
    "\n",
    "In the GKG codebook, it states that news with high emotional charge can be identify following this rule: The Average Tone is very neutral (close to 0) and the Polarity is High.\n",
    "\n",
    "So, now the question that arise is \"how close to 0 to considere it neutral\" and \"what is high in polarity\"\n",
    "* We define that a neutral average tone is going to be between -0.5 and 0.5 \n",
    "* A high polarity is a value higher than 9. This value was obtained by analyzing percentiles. This 9 is approximately the 85% percentile.\n",
    "\n",
    "The following piece of code accomplish the task to eliminate Emotional Charged News."
   ]
  },
  {
   "cell_type": "code",
   "execution_count": 0,
   "metadata": {
    "application/vnd.databricks.v1+cell": {
     "cellMetadata": {
      "byteLimit": 2048000,
      "rowLimit": 10000
     },
     "inputWidgets": {},
     "nuid": "97c227c4-bf10-4a13-aade-184b941dcbda",
     "showTitle": false,
     "title": ""
    }
   },
   "outputs": [],
   "source": [
    "GKG_NOT_EMOTIONAL_CHARE = (GKG_PRINCIPAL_CLEANING\n",
    ".withColumn(\"Neutrality\", when((col(\"AverageTone\") >= -0.5) & (col(\"AverageTone\") <= 0.5),1).otherwise(0)) # GET NEUTRALITY OF THE NEW (FLAG 1=NEUTRAL, 0=NOT NEUTRAL)\n",
    ".withColumn(\"EC\", when((col(\"Neutrality\") == 1) & (col('Polarity') >= 9),1).otherwise(0)) #GET EMOTIONAL CHARGED FLAG (1=EMOTIONAL CHARGE,0=NOT EMOTIONAL CHARGED)\n",
    ".filter(\"EC == 0\") # GET ONLY THE NEWS THAT ARE NOT EMOTIONAL CHARGED\n",
    ")"
   ]
  },
  {
   "cell_type": "markdown",
   "metadata": {
    "application/vnd.databricks.v1+cell": {
     "cellMetadata": {
      "byteLimit": 2048000,
      "rowLimit": 10000
     },
     "inputWidgets": {},
     "nuid": "85c09a5f-03cf-459c-942c-d67a83b591f2",
     "showTitle": false,
     "title": ""
    }
   },
   "source": [
    "## Approach 1\n",
    "#### Analyzing News Growth to Predecit and Increase of Themes that could be Dangerous for Port Activities"
   ]
  },
  {
   "cell_type": "code",
   "execution_count": 0,
   "metadata": {
    "application/vnd.databricks.v1+cell": {
     "cellMetadata": {
      "byteLimit": 2048000,
      "rowLimit": 10000
     },
     "inputWidgets": {},
     "nuid": "82301d5b-e94f-4270-a876-e4d458cdc947",
     "showTitle": false,
     "title": ""
    }
   },
   "outputs": [],
   "source": []
  },
  {
   "cell_type": "code",
   "execution_count": 0,
   "metadata": {
    "application/vnd.databricks.v1+cell": {
     "cellMetadata": {
      "byteLimit": 2048000,
      "rowLimit": 10000
     },
     "inputWidgets": {},
     "nuid": "2de74ab5-3f71-4e73-ac9b-7f93855d5291",
     "showTitle": false,
     "title": ""
    }
   },
   "outputs": [],
   "source": []
  },
  {
   "cell_type": "code",
   "execution_count": 0,
   "metadata": {
    "application/vnd.databricks.v1+cell": {
     "cellMetadata": {
      "byteLimit": 2048000,
      "rowLimit": 10000
     },
     "inputWidgets": {},
     "nuid": "0b245c75-a6f9-4222-b8c8-83c1cac5d3be",
     "showTitle": false,
     "title": ""
    }
   },
   "outputs": [],
   "source": []
  },
  {
   "cell_type": "code",
   "execution_count": 0,
   "metadata": {
    "application/vnd.databricks.v1+cell": {
     "cellMetadata": {
      "byteLimit": 2048000,
      "rowLimit": 10000
     },
     "inputWidgets": {},
     "nuid": "58d60619-287a-479e-af98-8f8b9f5d265c",
     "showTitle": false,
     "title": ""
    }
   },
   "outputs": [],
   "source": [
    "\n",
    "GKG_PORTS_OV_FIRST_APPROACH = (        \n",
    "GKG_NOT_EMOTIONAL_CHARE\n",
    ".withColumn(\"BaseNews\", when((col(\"THEMES\").like(\"%PORT%\")) & (col(\"THEMES\").like(\"%TRANSPORT%\")) & (~col(\"THEMES\").like(\"%AIRPORT%\")),1)) # BASE FLAG NEWS THAT HAVE THEME PORT AND TRANSPORTATIONS AND NOT AIRPORTS\n",
    ".filter(\"BaseNews == 1\") # SELECT NEWS ONLY RELATED TO BASE NEWS FLAG\n",
    ".withColumn(\"NewsWithTINFA\", when(col(\"THEMES\").like(\"%TRANSPORT_INFRASTRUCTURE%\"),1)) # FLAG THAT THE NEWS HAS THE THEME TRANSPORT INFRASTRCTURE\n",
    ".withColumn(\"NewsWithTRADE\", when(col(\"THEMES\").like(\"%TRADE%\"),1)) # FLAG THAT THE NEWS HAS THE THEME TRADE \n",
    ".withColumn(\"NewsWithME\", when(col(\"THEMES\").like(\"%MACROECONOMIC%\"),1)) # FLAG THAT THE NEWS HAS THE THEME MACROECONOMICS\n",
    ".withColumn(\"NewsWithPS\", when(col(\"THEMES\").like(\"%PUBLIC_SECTOR%\"),1)) # FLAG THAT THE NEWS HAS THE THEME PUBLIC SECTOR\n",
    ".withColumn(\"NewsWithMI\", when(col(\"THEMES\").like(\"%MARITIME_INCIDENT%\"),1)) # FLAG THAT THE NEWS HAS THE THEME MARITIME_INCIDIENT\n",
    ".fillna(0) # FILL WITH 0 THE COLUMNS WHERE OCURRENCES ARE INEXISTENT\n",
    ".withColumn(\"Total\", col(\"NewsWithTINFA\")+col(\"NewsWithTRADE\")+col(\"NewsWithME\") + col(\"NewsWithPS\") + col(\"NewsWithMI\")) # TOTAL NUMBER OF THEMES FOUND IN THE NEWS\n",
    ".filter(\"AverageTone < 0\") # FILTER NEWS THAT HAVE A NEGATIVE AVERAGE TONE\n",
    ".groupby(\"Date\",\"Total\",\"LocationCode\").agg(sum(\"NewsWithTINFA\").alias(\"NewsWithTINFA\"),sum(\"NewsWithME\").alias(\"NewsWithME\"),sum(\"NewsWithPS\").alias(\"NewsWithPS\"),sum(\"NewsWithMI\").alias(\"NewsWithMI\"),sum(\"Total\").alias(\"TotalThemesFindings\"),count(\"Total\").alias(\"NumberOfNews\"))\n",
    ")\n",
    "\n",
    "GKG_PORTS_OV_FIRST_APPROACH_CD = (\n",
    "TABLE_OF_DATES.crossJoin(GKG_PORTS_OV_FIRST_APPROACH.select(\"Total\",\"LocationCode\").distinct())\n",
    ")\n",
    "\n",
    "\n",
    "GKG_PORTS_FIRST_APPROACH = (\n",
    "GKG_PORTS_OV_FIRST_APPROACH_CD.join(GKG_PORTS_OV_FIRST_APPROACH, [\"Date\",\"Total\",\"LocationCode\"],\"left\")\n",
    ".fillna(0)\n",
    ".persist()\n",
    ")\n",
    "\n",
    "GKG_PORTS_FIRST_APPROACH.count()\n",
    "#.withColumn(\"PastValue\", lag(col(\"NumberOfNews\"),1).over(Window.partitionBy(\"Total\").orderBy(\"Date\")))\n",
    "\n",
    "#.withColumn(\"Crecimiento\", (col(\"Conteo\") - col(\"PastValue\"))/col(\"PastValue\"))\n",
    "#)"
   ]
  },
  {
   "cell_type": "code",
   "execution_count": 0,
   "metadata": {
    "application/vnd.databricks.v1+cell": {
     "cellMetadata": {
      "byteLimit": 2048000,
      "rowLimit": 10000
     },
     "inputWidgets": {},
     "nuid": "b1b34c5d-6f8a-4bcd-af4d-f8dd6b5c6cf0",
     "showTitle": false,
     "title": ""
    }
   },
   "outputs": [],
   "source": [
    "display(GKG_PORTS_FIRST_APPROACH)"
   ]
  },
  {
   "cell_type": "code",
   "execution_count": 0,
   "metadata": {
    "application/vnd.databricks.v1+cell": {
     "cellMetadata": {
      "byteLimit": 2048000,
      "rowLimit": 10000
     },
     "inputWidgets": {},
     "nuid": "cd98781a-ca92-4e56-ab59-13f2877fac9a",
     "showTitle": false,
     "title": ""
    }
   },
   "outputs": [],
   "source": [
    "display(\n",
    "GKG_PRINCIPAL_CLEANING\n",
    ".withColumn(\"BaseNews\", when((col(\"THEMES\").like(\"%PORT%\")) & (col(\"THEMES\").like(\"%TRANSPORT%\")) & (~col(\"THEMES\").like(\"%AIRPORT%\")),1)) # BASE FLAG NEWS THAT HAVE THEME PORT AND TRANSPORTATIONS AND NOT AIRPORTS\n",
    ".filter(\"BaseNews == 1\") # SELECT NEWS ONLY RELATED TO BASE NEWS FLAG\n",
    ".filter(\"LocationCode == 'CA02'\")\n",
    ".filter(\"Date == '2024-07-23'\")\n",
    ")"
   ]
  },
  {
   "cell_type": "code",
   "execution_count": 0,
   "metadata": {
    "application/vnd.databricks.v1+cell": {
     "cellMetadata": {
      "byteLimit": 2048000,
      "rowLimit": 10000
     },
     "inputWidgets": {},
     "nuid": "1a3c658e-e4be-4d9a-aae4-c3b47ea90aaf",
     "showTitle": false,
     "title": ""
    }
   },
   "outputs": [
    {
     "output_type": "display_data",
     "data": {
      "text/plain": [
       "Databricks visualization. Run in Databricks to view."
      ]
     },
     "metadata": {
      "application/vnd.databricks.v1.subcommand+json": {
       "baseErrorDetails": null,
       "bindings": {},
       "collapsed": false,
       "command": "%python\n__backend_agg_display_orig = display\n__backend_agg_dfs = []\ndef __backend_agg_display_new(df):\n    __backend_agg_df_modules = [\"pandas.core.frame\", \"databricks.koalas.frame\", \"pyspark.sql.dataframe\", \"pyspark.pandas.frame\", \"pyspark.sql.connect.dataframe\"]\n    if (type(df).__module__ in __backend_agg_df_modules and type(df).__name__ == 'DataFrame') or isinstance(df, list):\n        __backend_agg_dfs.append(df)\n\ndisplay = __backend_agg_display_new\n\ndef __backend_agg_user_code_fn():\n    import base64\n    exec(base64.standard_b64decode(\"ZGlzcGxheSgKR0tHX1BPUlRTX0ZJUlNUX0FQUFJPQUNICi53aXRoQ29sdW1uKCJOdW1iZXJPZk5ld3NQYXN0RGF5IiwgbGFnKGNvbCgiTnVtYmVyT2ZOZXdzIiksMSkub3ZlcihXaW5kb3cucGFydGl0aW9uQnkoIlRvdGFsIiwiTG9jYXRpb25Db2RlIikub3JkZXJCeSgiRGF0ZSIpKSkKLndpdGhDb2x1bW4oIkdyb3d0aE51bWJlck9mTmV3c1Bhc3REYXkiLCAoY29sKCJOdW1iZXJPZk5ld3MiKSAtIGNvbCgiTnVtYmVyT2ZOZXdzUGFzdERheSIpKS9jb2woIk51bWJlck9mTmV3c1Bhc3REYXkiKSkKLmZpbHRlcigiTG9jYXRpb25Db2RlID09ICdDQTAyJyIpCi53aXRoQ29sdW1uKCJMYWdHcm93dGhOdW1iZXJPZk5ld3NQYXN0RGF5IiwgbGFnKGNvbCgiR3Jvd3RoTnVtYmVyT2ZOZXdzUGFzdERheSIpLDEpLm92ZXIoV2luZG93LnBhcnRpdGlvbkJ5KCJUb3RhbCIsIkxvY2F0aW9uQ29kZSIpLm9yZGVyQnkoIkRhdGUiKSkpCi5maWxsbmEoMCkKKQ==\").decode())\n\ntry:\n    # run user code\n    __backend_agg_user_code_fn()\n\n    #reset display function\n    display = __backend_agg_display_orig\n\n    if len(__backend_agg_dfs) > 0:\n        # create a temp view\n        if type(__backend_agg_dfs[0]).__module__ == \"databricks.koalas.frame\":\n            # koalas dataframe\n            __backend_agg_dfs[0].to_spark().createOrReplaceTempView(\"DatabricksView3ee796d\")\n        elif type(__backend_agg_dfs[0]).__module__ == \"pandas.core.frame\" or isinstance(__backend_agg_dfs[0], list):\n            # pandas dataframe\n            spark.createDataFrame(__backend_agg_dfs[0]).createOrReplaceTempView(\"DatabricksView3ee796d\")\n        else:\n            __backend_agg_dfs[0].createOrReplaceTempView(\"DatabricksView3ee796d\")\n        #run backend agg\n        display(spark.sql(\"\"\"WITH q AS (select * from DatabricksView3ee796d) SELECT `Date`,SUM(`NumberOfNews`) `column_25cd392496` FROM q GROUP BY `Date`\"\"\"))\n    else:\n        displayHTML(\"dataframe no longer exists. If you're using dataframe.display(), use display(dataframe) instead.\")\n\n\nfinally:\n    spark.sql(\"drop view if exists DatabricksView3ee796d\")\n    display = __backend_agg_display_orig\n    del __backend_agg_display_new\n    del __backend_agg_display_orig\n    del __backend_agg_dfs\n    del __backend_agg_user_code_fn\n\n",
       "commandTitle": "Visualization 1",
       "commandType": "auto",
       "commandVersion": 0,
       "commentThread": [],
       "commentsVisible": false,
       "contentSha256Hex": null,
       "customPlotOptions": {
        "redashChart": [
         {
          "key": "type",
          "value": "CHART"
         },
         {
          "key": "options",
          "value": {
           "alignYAxesAtZero": true,
           "coefficient": 1,
           "columnConfigurationMap": {
            "x": {
             "column": "Date",
             "id": "column_25cd392413"
            },
            "y": [
             {
              "column": "NumberOfNews",
              "id": "column_25cd392496",
              "transform": "SUM"
             }
            ]
           },
           "dateTimeFormat": "DD/MM/YYYY HH:mm",
           "direction": {
            "type": "counterclockwise"
           },
           "error_y": {
            "type": "data",
            "visible": true
           },
           "globalSeriesType": "line",
           "isAggregationOn": true,
           "legend": {
            "traceorder": "normal"
           },
           "missingValuesAsZero": true,
           "numberFormat": "0,0.[00000]",
           "percentFormat": "0[.]00%",
           "series": {
            "error_y": {
             "type": "data",
             "visible": true
            },
            "stacking": null
           },
           "seriesOptions": {
            "column_25cd392417": {
             "type": "line",
             "yAxis": 0
            },
            "column_25cd392469": {
             "type": "line",
             "yAxis": 0
            },
            "column_25cd392496": {
             "type": "line",
             "yAxis": 0
            }
           },
           "showDataLabels": false,
           "sizemode": "diameter",
           "sortX": true,
           "sortY": true,
           "swappedAxes": false,
           "textFormat": "",
           "useAggregationsUi": true,
           "valuesOptions": {},
           "version": 2,
           "xAxis": {
            "labels": {
             "enabled": true
            },
            "type": "-"
           },
           "yAxis": [
            {
             "type": "-"
            },
            {
             "opposite": true,
             "type": "-"
            }
           ]
          }
         }
        ]
       },
       "datasetPreviewNameToCmdIdMap": {},
       "diffDeletes": [],
       "diffInserts": [],
       "displayType": "redashChart",
       "error": null,
       "errorDetails": null,
       "errorSummary": null,
       "errorTraceType": null,
       "finishTime": 0,
       "globalVars": {},
       "guid": "",
       "height": "auto",
       "hideCommandCode": false,
       "hideCommandResult": false,
       "iPythonMetadata": null,
       "inputWidgets": {},
       "isLockedInExamMode": false,
       "latestUser": "a user",
       "latestUserId": null,
       "listResultMetadata": null,
       "metadata": {
        "byteLimit": 2048000,
        "rowLimit": 10000
       },
       "nuid": "1f00ed97-4e33-48c4-8e5e-53eeba5b38d0",
       "origId": 0,
       "parentHierarchy": [],
       "pivotAggregation": null,
       "pivotColumns": null,
       "position": 8.266845703125,
       "resultDbfsErrorMessage": null,
       "resultDbfsStatus": "INLINED_IN_TREE",
       "results": null,
       "showCommandTitle": false,
       "startTime": 0,
       "state": "input",
       "streamStates": {},
       "subcommandOptions": {
        "queryPlan": {
         "groups": [
          {
           "column": "Date",
           "type": "column"
          }
         ],
         "selects": [
          {
           "column": "Date",
           "type": "column"
          },
          {
           "alias": "column_25cd392496",
           "args": [
            {
             "column": "NumberOfNews",
             "type": "column"
            }
           ],
           "function": "SUM",
           "type": "function"
          }
         ]
        }
       },
       "submitTime": 0,
       "subtype": "tableResultSubCmd.visualization",
       "tableResultIndex": 0,
       "useConsistentColors": false,
       "version": "CommandV1",
       "width": "auto",
       "workflows": null,
       "xColumns": null,
       "yColumns": null
      }
     },
     "output_type": "display_data"
    }
   ],
   "source": [
    "display(\n",
    "GKG_PORTS_FIRST_APPROACH\n",
    ".withColumn(\"NumberOfNewsPastDay\", lag(col(\"NumberOfNews\"),1).over(Window.partitionBy(\"Total\",\"LocationCode\").orderBy(\"Date\")))\n",
    ".withColumn(\"GrowthNumberOfNewsPastDay\", (col(\"NumberOfNews\") - col(\"NumberOfNewsPastDay\"))/col(\"NumberOfNewsPastDay\"))\n",
    ".filter(\"LocationCode == 'CA02'\")\n",
    ".withColumn(\"LagGrowthNumberOfNewsPastDay\", lag(col(\"GrowthNumberOfNewsPastDay\"),1).over(Window.partitionBy(\"Total\",\"LocationCode\").orderBy(\"Date\")))\n",
    ".fillna(0)\n",
    ")"
   ]
  },
  {
   "cell_type": "markdown",
   "metadata": {
    "application/vnd.databricks.v1+cell": {
     "cellMetadata": {
      "byteLimit": 2048000,
      "rowLimit": 10000
     },
     "inputWidgets": {},
     "nuid": "e2f7adc9-3fe5-4ae9-ac9e-2c9fd613ff2c",
     "showTitle": false,
     "title": ""
    }
   },
   "source": [
    "## Aproach 2 - Adding Weights to the Ocurrences of Themes of Interest to express"
   ]
  },
  {
   "cell_type": "code",
   "execution_count": 0,
   "metadata": {
    "application/vnd.databricks.v1+cell": {
     "cellMetadata": {
      "byteLimit": 2048000,
      "rowLimit": 10000
     },
     "inputWidgets": {},
     "nuid": "a088a332-a509-407d-98be-2a5e0fd0178f",
     "showTitle": false,
     "title": ""
    }
   },
   "outputs": [],
   "source": [
    "GKG_PORTS_OV_SECOND_APPROACH = (    \n",
    "GKG_NOT_EMOTIONAL_CHARE\n",
    ".withColumn(\"BaseNews\", when((col(\"THEMES\").like(\"%PORT%\")) & (col(\"THEMES\").like(\"%TRANSPORT%\") & (~col(\"THEMES\").like(\"%AIRPORT%\"))),1))\n",
    ".filter(\"BaseNews == 1\")\n",
    ".withColumn(\"NewsWithTINFA\", when(col(\"THEMES\").like(\"%TRANSPORT_INFRASTRUCTURE%\"),1))\n",
    ".withColumn(\"NewsWithTRADE\", when(col(\"THEMES\").like(\"%TRADE%\"),1))\n",
    ".withColumn(\"NewsWithME\", when(col(\"THEMES\").like(\"%MACROECONOMIC%\"),1))\n",
    ".withColumn(\"NewsWithPS\", when(col(\"THEMES\").like(\"%PUBLIC_SECTOR%\"),1))\n",
    ".withColumn(\"NewsWithMI\", when(col(\"THEMES\").like(\"%MARITIME_INCIDENT%\"),1))\n",
    ".fillna(0)\n",
    ".withColumn(\"Total\", col(\"NewsWithTINFA\")+col(\"NewsWithTRADE\")+col(\"NewsWithME\") + col(\"NewsWithPS\") + col(\"NewsWithMI\"))\n",
    ".filter(\"AverageTone < 0\")\n",
    ".groupby(\"Date\",\"Total\",\"LocationCode\").agg(count(\"Total\").alias(\"NumberOfNews\"))\n",
    ".withColumn('WeightedCountOfNews', when(col(\"Total\") == 5, col(\"NumberOfNews\") * 500)\n",
    ".when(col('Total') == 4, col(\"NumberOfNews\") * 250)\n",
    ".when(col(\"NumberOfNews\") ==3, col(\"NumberOfNews\") * 100)\n",
    ".when(col(\"Total\") == 2, col(\"NumberOfNews\") * 5)\n",
    ".otherwise(0))\n",
    ")\n",
    "\n",
    "GKG_PORTS_OV_SECOND_APPROACH_CD = (\n",
    "TABLE_OF_DATES.crossJoin(GKG_PORTS_OV_SECOND_APPROACH.select(\"Total\",\"LocationCode\").distinct())\n",
    ")\n",
    "\n",
    "GKG_PORTS_SECOND_APPROACH = (\n",
    "GKG_PORTS_OV_SECOND_APPROACH_CD.join(GKG_PORTS_OV_SECOND_APPROACH, [\"Date\",\"Total\",\"LocationCode\"],\"left\")\n",
    ".fillna(0)\n",
    ".persist()\n",
    ")\n",
    "\n",
    "GKG_PORTS_SECOND_APPROACH.count()"
   ]
  },
  {
   "cell_type": "code",
   "execution_count": 0,
   "metadata": {
    "application/vnd.databricks.v1+cell": {
     "cellMetadata": {
      "byteLimit": 2048000,
      "rowLimit": 10000
     },
     "inputWidgets": {},
     "nuid": "12de4d4e-944d-4f47-9954-67ffe362694c",
     "showTitle": false,
     "title": ""
    }
   },
   "outputs": [
    {
     "output_type": "display_data",
     "data": {
      "text/plain": [
       "Databricks visualization. Run in Databricks to view."
      ]
     },
     "metadata": {
      "application/vnd.databricks.v1.subcommand+json": {
       "baseErrorDetails": null,
       "bindings": {},
       "collapsed": false,
       "command": "%python\n__backend_agg_display_orig = display\n__backend_agg_dfs = []\ndef __backend_agg_display_new(df):\n    __backend_agg_df_modules = [\"pandas.core.frame\", \"databricks.koalas.frame\", \"pyspark.sql.dataframe\", \"pyspark.pandas.frame\", \"pyspark.sql.connect.dataframe\"]\n    if (type(df).__module__ in __backend_agg_df_modules and type(df).__name__ == 'DataFrame') or isinstance(df, list):\n        __backend_agg_dfs.append(df)\n\ndisplay = __backend_agg_display_new\n\ndef __backend_agg_user_code_fn():\n    import base64\n    exec(base64.standard_b64decode(\"ZGlzcGxheSgKR0tHX1BPUlRTX1NFQ09ORF9BUFBST0FDSAouZ3JvdXBCeSgiRGF0ZSIsIkxvY2F0aW9uQ29kZSIpLmFnZyhzdW0oIldlaWdodGVkQ291bnRPZk5ld3MiKS5hbGlhcygiV2VpZ2h0ZWRDb3VudE9mTmV3cyIpKQoud2l0aENvbHVtbigiTGFnV2VpZ2h0ZWRDb3VudE5ld3MiLCBsYWcoY29sKCJXZWlnaHRlZENvdW50T2ZOZXdzIiksMikub3ZlcihXaW5kb3cucGFydGl0aW9uQnkoIkxvY2F0aW9uQ29kZSIpLm9yZGVyQnkoIkRhdGUiKSkpCi5maWxsbmEoMCkKLmZpbHRlcigoRi5jb2woIkxvY2F0aW9uQ29kZSIpLmlzaW4oCiAgICAgICAgJ0NBMDInLCAgIyBQb3J0IG9mIFZhbmNvdXZlciAtIEJyaXRpc2ggQ29sdW1iaWEKICAgICAgICAnQ0ExMCcsICAjIFBvcnQgb2YgTW9udHJlYWwgLSBRdWViZWMKICAgICAgICAnVVNDQScsICAjIFBvcnQgb2YgTG9zIEFuZ2VsZXMsIExvbmcgQmVhY2gsIE9ha2xhbmQgLSBDYWxpZm9ybmlhCiAgICAgICAgJ0NIMjMnLCAgIyBQb3J0IG9mIFNoYW5naGFpIC0gU2hhbmdoYWkKICAgICAgICAnQ0gzMCcsICAjIFBvcnQgb2YgU2hlbnpoZW4gLSBHdWFuZ2RvbmcgUHJvdmluY2UKICAgICAgICAnQ0gwMicsICAjIFBvcnQgb2YgTmluZ2JvLVpob3VzaGFuIC0gWmhlamlhbmcgUHJvdmluY2UKICAgICAgICAnSkE0MCcsICAjIFBvcnQgb2YgVG9reW8gLSBUb2t5bwogICAgICAgICdKQTE5JywgICMgUG9ydCBvZiBZb2tvaGFtYSAtIEthbmFnYXdhIFByZWZlY3R1cmUKICAgICAgICAnSkEwMScgICAjIFBvcnQgb2YgTmFnb3lhIC0gQWljaGkgUHJlZmVjdHVyZQogICAgKSkpIAop\").decode())\n\ntry:\n    # run user code\n    __backend_agg_user_code_fn()\n\n    #reset display function\n    display = __backend_agg_display_orig\n\n    if len(__backend_agg_dfs) > 0:\n        # create a temp view\n        if type(__backend_agg_dfs[0]).__module__ == \"databricks.koalas.frame\":\n            # koalas dataframe\n            __backend_agg_dfs[0].to_spark().createOrReplaceTempView(\"DatabricksView7aeffd6\")\n        elif type(__backend_agg_dfs[0]).__module__ == \"pandas.core.frame\" or isinstance(__backend_agg_dfs[0], list):\n            # pandas dataframe\n            spark.createDataFrame(__backend_agg_dfs[0]).createOrReplaceTempView(\"DatabricksView7aeffd6\")\n        else:\n            __backend_agg_dfs[0].createOrReplaceTempView(\"DatabricksView7aeffd6\")\n        #run backend agg\n        display(spark.sql(\"\"\"WITH q AS (select * from DatabricksView7aeffd6) SELECT `Date`,SUM(`WeightedCountOfNews`) `column_25cd392487` FROM q GROUP BY `Date`\"\"\"))\n    else:\n        displayHTML(\"dataframe no longer exists. If you're using dataframe.display(), use display(dataframe) instead.\")\n\n\nfinally:\n    spark.sql(\"drop view if exists DatabricksView7aeffd6\")\n    display = __backend_agg_display_orig\n    del __backend_agg_display_new\n    del __backend_agg_display_orig\n    del __backend_agg_dfs\n    del __backend_agg_user_code_fn\n\n",
       "commandTitle": "Visualization 1",
       "commandType": "auto",
       "commandVersion": 0,
       "commentThread": [],
       "commentsVisible": false,
       "contentSha256Hex": null,
       "customPlotOptions": {
        "redashChart": [
         {
          "key": "type",
          "value": "CHART"
         },
         {
          "key": "options",
          "value": {
           "alignYAxesAtZero": true,
           "coefficient": 1,
           "columnConfigurationMap": {
            "series": {
             "column": "LocationCode",
             "id": "column_bd7f34f63"
            },
            "x": {
             "column": "Date",
             "id": "column_25cd392499"
            },
            "y": [
             {
              "column": "WeightedCountOfNews",
              "id": "column_25cd392487",
              "transform": "SUM"
             }
            ]
           },
           "dateTimeFormat": "DD/MM/YYYY HH:mm",
           "direction": {
            "type": "counterclockwise"
           },
           "error_y": {
            "type": "data",
            "visible": true
           },
           "globalSeriesType": "line",
           "isAggregationOn": true,
           "legend": {
            "traceorder": "normal"
           },
           "missingValuesAsZero": true,
           "numberFormat": "0,0.[00000]",
           "percentFormat": "0[.]00%",
           "series": {
            "error_y": {
             "type": "data",
             "visible": true
            },
            "stacking": null
           },
           "seriesOptions": {
            "LagWeightedCountNews": {
             "type": "line",
             "yAxis": 0
            },
            "WeightedCountOfNews": {
             "type": "line",
             "yAxis": 0
            },
            "column_25cd392445": {
             "type": "line",
             "yAxis": 0
            },
            "column_25cd392458": {
             "type": "line",
             "yAxis": 0
            },
            "column_25cd392464": {
             "type": "line",
             "yAxis": 0
            },
            "column_25cd392487": {
             "type": "line",
             "yAxis": 0
            }
           },
           "showDataLabels": false,
           "sizemode": "diameter",
           "sortX": true,
           "sortY": true,
           "swappedAxes": false,
           "textFormat": "",
           "useAggregationsUi": true,
           "valuesOptions": {},
           "version": 2,
           "xAxis": {
            "labels": {
             "enabled": true
            },
            "type": "-"
           },
           "yAxis": [
            {
             "type": "-"
            },
            {
             "opposite": true,
             "type": "-"
            }
           ]
          }
         }
        ]
       },
       "datasetPreviewNameToCmdIdMap": {},
       "diffDeletes": [],
       "diffInserts": [],
       "displayType": "redashChart",
       "error": null,
       "errorDetails": null,
       "errorSummary": null,
       "errorTraceType": null,
       "finishTime": 0,
       "globalVars": {},
       "guid": "",
       "height": "auto",
       "hideCommandCode": false,
       "hideCommandResult": false,
       "iPythonMetadata": null,
       "inputWidgets": {},
       "isLockedInExamMode": false,
       "latestUser": "a user",
       "latestUserId": null,
       "listResultMetadata": null,
       "metadata": {
        "byteLimit": 2048000,
        "rowLimit": 10000
       },
       "nuid": "796c6951-53c0-48c5-8e71-d63c272e7a85",
       "origId": 0,
       "parentHierarchy": [],
       "pivotAggregation": null,
       "pivotColumns": null,
       "position": 13.0,
       "resultDbfsErrorMessage": null,
       "resultDbfsStatus": "INLINED_IN_TREE",
       "results": null,
       "showCommandTitle": false,
       "startTime": 0,
       "state": "input",
       "streamStates": {},
       "subcommandOptions": {
        "queryPlan": {
         "groups": [
          {
           "column": "Date",
           "type": "column"
          },
          {
           "column": "LocationCode",
           "type": "column"
          }
         ],
         "selects": [
          {
           "column": "Date",
           "type": "column"
          },
          {
           "alias": "column_25cd392487",
           "args": [
            {
             "column": "WeightedCountOfNews",
             "type": "column"
            }
           ],
           "function": "SUM",
           "type": "function"
          },
          {
           "column": "LocationCode",
           "type": "column"
          }
         ]
        }
       },
       "submitTime": 0,
       "subtype": "tableResultSubCmd.visualization",
       "tableResultIndex": 0,
       "useConsistentColors": false,
       "version": "CommandV1",
       "width": "auto",
       "workflows": null,
       "xColumns": null,
       "yColumns": null
      }
     },
     "output_type": "display_data"
    }
   ],
   "source": [
    "display(\n",
    "GKG_PORTS_SECOND_APPROACH\n",
    ".groupBy(\"Date\",\"LocationCode\").agg(sum(\"WeightedCountOfNews\").alias(\"WeightedCountOfNews\"))\n",
    ".withColumn(\"LagWeightedCountNews\", lag(col(\"WeightedCountOfNews\"),2).over(Window.partitionBy(\"LocationCode\").orderBy(\"Date\")))\n",
    ".fillna(0)\n",
    ".filter(col(\"LocationCode\").isin(\n",
    "        'CA02',  # Port of Vancouver - British Columbia\n",
    "        'CA10',  # Port of Montreal - Quebec\n",
    "        'USCA',  # Port of Los Angeles, Long Beach, Oakland - California\n",
    "        'CH23',  # Port of Shanghai - Shanghai\n",
    "        'CH30',  # Port of Shenzhen - Guangdong Province\n",
    "        'CH02',  # Port of Ningbo-Zhoushan - Zhejiang Province\n",
    "        'JA40',  # Port of Tokyo - Tokyo\n",
    "        'JA19',  # Port of Yokohama - Kanagawa Prefecture\n",
    "        'JA01'  # Port of Nagoya - Aichi Prefecture\n",
    "    ))\n",
    ")"
   ]
  },
  {
   "cell_type": "code",
   "execution_count": 0,
   "metadata": {
    "application/vnd.databricks.v1+cell": {
     "cellMetadata": {
      "byteLimit": 2048000,
      "rowLimit": 10000
     },
     "inputWidgets": {},
     "nuid": "6af6887e-7a2c-4eb2-b793-a05fd9eb59a4",
     "showTitle": false,
     "title": ""
    },
    "jupyter": {
     "outputs_hidden": true
    }
   },
   "outputs": [],
   "source": [
    "while True:\n",
    "    continue"
   ]
  },
  {
   "cell_type": "code",
   "execution_count": 0,
   "metadata": {
    "application/vnd.databricks.v1+cell": {
     "cellMetadata": {
      "byteLimit": 2048000,
      "rowLimit": 10000
     },
     "inputWidgets": {},
     "nuid": "8463b377-dde0-4e47-a801-2417a98d7b57",
     "showTitle": false,
     "title": ""
    }
   },
   "outputs": [],
   "source": []
  }
 ],
 "metadata": {
  "application/vnd.databricks.v1+notebook": {
   "dashboards": [],
   "environmentMetadata": null,
   "language": "python",
   "notebookMetadata": {
    "pythonIndentUnit": 4
   },
   "notebookName": "Country Exploration",
   "widgets": {}
  }
 },
 "nbformat": 4,
 "nbformat_minor": 0
}
