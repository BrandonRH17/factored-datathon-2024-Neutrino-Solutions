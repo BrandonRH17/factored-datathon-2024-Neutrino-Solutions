{
 "cells": [
  {
   "cell_type": "markdown",
   "metadata": {
    "application/vnd.databricks.v1+cell": {
     "cellMetadata": {},
     "inputWidgets": {},
     "nuid": "5f1a13b4-f75a-4296-b0a0-ec0d9fcf3baa",
     "showTitle": false,
     "title": ""
    }
   },
   "source": [
    "# Data Analytics - Datathon 2024"
   ]
  },
  {
   "cell_type": "markdown",
   "metadata": {
    "application/vnd.databricks.v1+cell": {
     "cellMetadata": {},
     "inputWidgets": {},
     "nuid": "4e62a01f-0cfb-4938-b65a-e30b6cc557fb",
     "showTitle": false,
     "title": ""
    }
   },
   "source": [
    "## Libraries"
   ]
  },
  {
   "cell_type": "code",
   "execution_count": 0,
   "metadata": {
    "application/vnd.databricks.v1+cell": {
     "cellMetadata": {
      "byteLimit": 2048000,
      "rowLimit": 10000
     },
     "inputWidgets": {},
     "nuid": "7e8a3acf-a22c-4856-adef-e17c5f03ffcf",
     "showTitle": false,
     "title": ""
    }
   },
   "outputs": [],
   "source": [
    "# Loading Libraries for the notebook\n",
    "from pyspark.sql.functions import *\n",
    "import datetime\n",
    "from pyspark.sql.window import Window"
   ]
  },
  {
   "cell_type": "markdown",
   "metadata": {
    "application/vnd.databricks.v1+cell": {
     "cellMetadata": {},
     "inputWidgets": {},
     "nuid": "e145e8aa-7ea5-42b3-bbe7-40beb9a25d3f",
     "showTitle": false,
     "title": ""
    }
   },
   "source": [
    "# UDFS"
   ]
  },
  {
   "cell_type": "code",
   "execution_count": 0,
   "metadata": {
    "application/vnd.databricks.v1+cell": {
     "cellMetadata": {
      "byteLimit": 2048000,
      "rowLimit": 10000
     },
     "inputWidgets": {},
     "nuid": "5320dc70-367a-4da9-b35d-c8d543e2a7a8",
     "showTitle": false,
     "title": ""
    }
   },
   "outputs": [],
   "source": [
    "\n",
    "# Function to Calculate Distance in Kilometers in a straight line between two points.\n",
    "\n",
    "'''\n",
    "CAL_LAT_LONG_DIST(df,lat1,long1,lat2,long2):\n",
    "df = dataframe when we want to add the columns of \"distance_in_kms\"\n",
    "lat1 = Latitued of Place 1\n",
    "long1 = Longitude of Place 1\n",
    "lat 2 = Latitude of Place 2\n",
    "long2 = Longitued of Place 2\n",
    "\n",
    "Outputs: DataFrame with a new column named = \"distance_in_kms\". The number represent the distance in KMS between the two points for each row.\n",
    "'''\n",
    "\n",
    "def cal_lat_log_dist(df, lat1, long1, lat2, long2):\n",
    "        df = df.withColumn('distance_in_kms' , \\\n",
    "            round((acos((sin(radians(col(lat1))) * sin(radians(col(lat2)))) + \\\n",
    "                   ((cos(radians(col(lat1))) * cos(radians(col(lat2)))) * \\\n",
    "                    (cos(radians(long1) - radians(long2))))\n",
    "                       ) * lit(6371.0)), 4))\n",
    "        return df"
   ]
  },
  {
   "cell_type": "markdown",
   "metadata": {
    "application/vnd.databricks.v1+cell": {
     "cellMetadata": {},
     "inputWidgets": {},
     "nuid": "a8e75d4a-5434-4f62-a502-793b4cbf54a8",
     "showTitle": false,
     "title": ""
    }
   },
   "source": [
    "## Loading Data"
   ]
  },
  {
   "cell_type": "code",
   "execution_count": 0,
   "metadata": {
    "application/vnd.databricks.v1+cell": {
     "cellMetadata": {
      "byteLimit": 2048000,
      "rowLimit": 10000
     },
     "inputWidgets": {},
     "nuid": "66894ba2-d9ad-4e16-8b4e-63780e69e2c5",
     "showTitle": false,
     "title": ""
    }
   },
   "outputs": [],
   "source": [
    "# Loading Data from BRONZE database\n",
    "\n",
    "GDELT_EVENTS = spark.sql(\"SELECT * FROM BRONZE.GDELT_EVENTS\")\n",
    "PORT_LOCATIONS_DIM = spark.sql(\"SELECT * FROM BRONZE.PORTS_DICTIONARY\")\n",
    "CAMEO_DICTIONARY = spark.sql(\"SELECT * FROM BRONZE.CAMEO_DICTIONARY\")"
   ]
  },
  {
   "cell_type": "markdown",
   "metadata": {
    "application/vnd.databricks.v1+cell": {
     "cellMetadata": {},
     "inputWidgets": {},
     "nuid": "c516bf38-65b6-43c3-9a77-cf754781b890",
     "showTitle": false,
     "title": ""
    }
   },
   "source": [
    "## Cleaning PORT_LOCATIONS_DIM"
   ]
  },
  {
   "cell_type": "code",
   "execution_count": 0,
   "metadata": {
    "application/vnd.databricks.v1+cell": {
     "cellMetadata": {
      "byteLimit": 2048000,
      "rowLimit": 10000
     },
     "inputWidgets": {},
     "nuid": "f10c16be-af27-4424-9fa6-5e2d4f0f2eeb",
     "showTitle": false,
     "title": ""
    }
   },
   "outputs": [],
   "source": [
    "# Claeaning RAW data from PORT_LOCATIONS\n",
    "\n",
    "PORT_LOCATIONS_DIM_CLEANED = (\n",
    "PORT_LOCATIONS_DIM\n",
    ".filter(\"LATITUDE IS NOT NULL\") #Filter for Latitud is nos null\n",
    ".filter(\"LONGITUDE IS NOT NULL\") #Filter for Longitud is nos null\n",
    ".withColumn(\"LATITUDE\", regexp_replace(col(\"LATITUDE\"),\" \",\"\")) #Eliminate black spaces in LATITUD column\n",
    ".withColumn(\"LONGITUDE\", regexp_replace(col(\"LONGITUDE\"),\" \",\"\")) #Eliminate black spaces in LATITUD column\n",
    ".withColumn(\"Lat_Ori\", substring(col(\"LATITUDE\"),-1,1)) # Get N,S,W,E Orientation from latitud\n",
    ".withColumn(\"Long_Ori\", substring(col(\"LONGITUDE\"),-1,1)) # Get N,S,W,E Orientation from longitude\n",
    ".withColumn(\"LATITUDE_CORRECTED\", #THIS NEW COLUMN CORRECT THE COORINDATES DEPENDING ON THE ORIENTATION N,S,W,E\n",
    "            when(col(\"Lat_Ori\") == 'S', expr(\"substring(LATITUDE,1,length(LATITUDE) - 1 )\") * - 1) #GET CORRECT COORDINATES\n",
    "            .when(col(\"Lat_Ori\") == 'N', expr(\"substring(LATITUDE,1,length(LATITUDE) - 1 )\")) #GET CORRECT COORDINATES\n",
    "            .when(col(\"Lat_Ori\") == 'E', expr(\"substring(LATITUDE,1,length(LATITUDE) - 1 )\") * -1) #GET CORRECT COORDINATES\n",
    "            .otherwise(999.999) # ID FOR CHECKING IF SOME VALUE ISN'T TAKEN INTO ACCOUNT\n",
    ")\n",
    ".withColumn(\"LONGITUDE_CORRECTED\", #THIS NEW COLUMN CORRECT THE COORINDATES DEPENDING ON THE ORIENTATION N,S,W,E\n",
    "            when(col(\"Long_Ori\") == 'E', expr(\"substring(LONGITUDE,1,length(LONGITUDE) - 1 )\")) #GET CORRECT COORDINATES\n",
    "            .when(col(\"Long_Ori\") == 'W', expr(\"substring(LONGITUDE,1,length(LONGITUDE) - 1 )\") * -1)#GET CORRECT COORDINATES\n",
    "            .when(col(\"Lat_Ori\") == 'N', expr(\"substring(LATITUDE,1,length(LATITUDE) - 1 )\") * -1) #GET CORRECT COORDINATES\n",
    "            .otherwise(999.999) # ID FOR CHECKING IF SOME VALUE ISN'T TAKEN INTO ACCOUNT\n",
    ")\n",
    ".select(\"COUNTRY\",\"PORT\",\"LATITUDE_CORRECTED\",\"LONGITUDE_CORRECTED\") # SELECT COUNTRIES OF INTEREST\n",
    ")"
   ]
  },
  {
   "cell_type": "markdown",
   "metadata": {
    "application/vnd.databricks.v1+cell": {
     "cellMetadata": {},
     "inputWidgets": {},
     "nuid": "f258be22-42d9-4963-bc99-05a5e6ece3a7",
     "showTitle": false,
     "title": ""
    }
   },
   "source": [
    "## DATA ANALYSIS FOR WHOLE COUNTRYS IN THE TRANSPACIFIC ROUTE:\n",
    "* CANADA\n",
    "* USA\n",
    "* CHINA\n",
    "* JAPON\n",
    "* SOUTH KOREA\n",
    "* TAIWAN\n",
    "* VEITNAM\n",
    "* HONG KONG"
   ]
  },
  {
   "cell_type": "markdown",
   "metadata": {
    "application/vnd.databricks.v1+cell": {
     "cellMetadata": {},
     "inputWidgets": {},
     "nuid": "686f7f1f-b2ce-4ecc-94d5-e42677022538",
     "showTitle": false,
     "title": ""
    }
   },
   "source": [
    "#### Dataset with Countries of Interest"
   ]
  },
  {
   "cell_type": "code",
   "execution_count": 0,
   "metadata": {
    "application/vnd.databricks.v1+cell": {
     "cellMetadata": {
      "byteLimit": 2048000,
      "rowLimit": 10000
     },
     "inputWidgets": {},
     "nuid": "b0109dc2-fc92-4aff-bb68-aa87458d617e",
     "showTitle": false,
     "title": ""
    }
   },
   "outputs": [],
   "source": [
    "GDELT_EVENTS_TPR = (GDELT_EVENTS\n",
    ".filter(col(\"ActionGeo_CountryCode\").isin(\"US\",\"CA\",\"VM\",\"CH\",\"JA\",\"HK\",\"KS\")) # FILTER FOR COUNTRYS OF INTEREST\n",
    ".join(CAMEO_DICTIONARY,col(\"EventCode\") == col(\"CAMEO CODE\"), \"left\") #GET NAME FOR EventRootCode\n",
    ".filter(\"DESCRIPTION is not null\") #NO NEWS WITH NO CLEAR DESCRIPTION\n",
    ".withColumn(\"Date\", to_date(col(\"Day\").cast(\"string\"), \"yyyyMMdd\")) # CREATE COLUMN OF DATE TYPE\n",
    ".filter(\"Date >= '2023-01-01'\")\n",
    ".withColumn(\"YearWeek\", weekofyear(col(\"Date\"))) # GET NUMBER OF WEEk OF THE YEAR\n",
    ".withColumn(\"MonthYearWeek\", concat(col(\"MonthYear\"),col(\"YearWeek\"))) #GET DATE ID for MONTH,YEAR,WEEK\n",
    ")"
   ]
  },
  {
   "cell_type": "markdown",
   "metadata": {
    "application/vnd.databricks.v1+cell": {
     "cellMetadata": {},
     "inputWidgets": {},
     "nuid": "bb92e54d-85d6-4865-bf33-e0efb68b3f13",
     "showTitle": false,
     "title": ""
    }
   },
   "source": [
    "## Cleaning for non duplicate information"
   ]
  },
  {
   "cell_type": "code",
   "execution_count": 0,
   "metadata": {
    "application/vnd.databricks.v1+cell": {
     "cellMetadata": {
      "byteLimit": 2048000,
      "rowLimit": 10000
     },
     "inputWidgets": {},
     "nuid": "cd0dd14d-4682-4c88-b469-ece075088c50",
     "showTitle": false,
     "title": ""
    }
   },
   "outputs": [],
   "source": [
    "GDELT_EVENTS_TPR_UNIQUE_LINKS = (GDELT_EVENTS_TPR\n",
    ".withColumn(\"NumNew\", row_number().over(Window.partitionBy(\"SOURCEURL\").orderBy(\"SOURCEURL\")))\n",
    ".filter(\"NumNew == 1\")\n",
    ".drop(\"NumNew\")\n",
    ")"
   ]
  },
  {
   "cell_type": "code",
   "execution_count": 0,
   "metadata": {
    "application/vnd.databricks.v1+cell": {
     "cellMetadata": {
      "byteLimit": 2048000,
      "rowLimit": 10000
     },
     "inputWidgets": {},
     "nuid": "503a51ef-958b-4a13-b3ae-3280fc11f1ce",
     "showTitle": false,
     "title": ""
    }
   },
   "outputs": [],
   "source": [
    "#GDELT EVENTS POLITICAL\n",
    "\n",
    "GDELT_EVENTS_TPR_NTI_POLITICAL = (\n",
    "GDELT_EVENTS_TPR_UNIQUE_LINKS\n",
    ".filter(\n",
    "  (col(\"Actor1Type1Code\").isin('GOV'))\n",
    "  | (col(\"Actor2Type1Code\").isin('GOV'))\n",
    ")\n",
    ")\n"
   ]
  },
  {
   "cell_type": "code",
   "execution_count": 0,
   "metadata": {
    "application/vnd.databricks.v1+cell": {
     "cellMetadata": {
      "byteLimit": 2048000,
      "rowLimit": 10000
     },
     "inputWidgets": {},
     "nuid": "640054ee-28df-4911-90f1-87f682958ad0",
     "showTitle": false,
     "title": ""
    }
   },
   "outputs": [],
   "source": [
    "display(\n",
    "GDELT_EVENTS_TPR_NTI_POLITICAL\n",
    ".filter(\"ActionGeo_CountryCode == 'CH'\")\n",
    ".filter(\"Date == '2023-04-04'\"))"
   ]
  },
  {
   "cell_type": "code",
   "execution_count": 0,
   "metadata": {
    "application/vnd.databricks.v1+cell": {
     "cellMetadata": {
      "byteLimit": 2048000,
      "rowLimit": 10000
     },
     "inputWidgets": {},
     "nuid": "c88ea521-819b-4b02-8c25-bce44c4e9cfd",
     "showTitle": false,
     "title": ""
    }
   },
   "outputs": [
    {
     "output_type": "display_data",
     "data": {
      "text/plain": [
       "Databricks visualization. Run in Databricks to view."
      ]
     },
     "metadata": {
      "application/vnd.databricks.v1.subcommand+json": {
       "baseErrorDetails": null,
       "bindings": {},
       "collapsed": false,
       "command": "%python\n__backend_agg_display_orig = display\n__backend_agg_dfs = []\ndef __backend_agg_display_new(df):\n    __backend_agg_df_modules = [\"pandas.core.frame\", \"databricks.koalas.frame\", \"pyspark.sql.dataframe\", \"pyspark.pandas.frame\", \"pyspark.sql.connect.dataframe\"]\n    if (type(df).__module__ in __backend_agg_df_modules and type(df).__name__ == 'DataFrame') or isinstance(df, list):\n        __backend_agg_dfs.append(df)\n\ndisplay = __backend_agg_display_new\n\ndef __backend_agg_user_code_fn():\n    import base64\n    exec(base64.standard_b64decode(\"ZGlzcGxheSgKR0RFTFRfRVZFTlRTX1RQUl9OVElfUE9MSVRJQ0FMCi5maWx0ZXIoIkFjdGlvbkdlb19Db3VudHJ5Q29kZSA9PSAnQ0gnIikKLndpdGhDb2x1bW4oIlBvbmRHUyIsIGNvbCgiR29sZHN0ZWluU2NhbGUiKSAqIGNvbCgiTnVtQXJ0aWNsZXMiKSkKLmdyb3VwQnkoIkRhdGUiKS5hZ2coc3VtKGNvbCgiUG9uZEdTIikpLmFsaWFzKCJQb25kR1MiKSxzdW0oIk51bUFydGljbGVzIikuYWxpYXMoIk51bUFydGljbGVzIikpCi53aXRoQ29sdW1uKCJHU1BvbmRlcmFkbyIsIGNvbCgiUG9uZEdTIikgLyBjb2woIk51bUFydGljbGVzIikpCik=\").decode())\n\ntry:\n    # run user code\n    __backend_agg_user_code_fn()\n\n    #reset display function\n    display = __backend_agg_display_orig\n\n    if len(__backend_agg_dfs) > 0:\n        # create a temp view\n        if type(__backend_agg_dfs[0]).__module__ == \"databricks.koalas.frame\":\n            # koalas dataframe\n            __backend_agg_dfs[0].to_spark().createOrReplaceTempView(\"DatabricksView82a6c06\")\n        elif type(__backend_agg_dfs[0]).__module__ == \"pandas.core.frame\" or isinstance(__backend_agg_dfs[0], list):\n            # pandas dataframe\n            spark.createDataFrame(__backend_agg_dfs[0]).createOrReplaceTempView(\"DatabricksView82a6c06\")\n        else:\n            __backend_agg_dfs[0].createOrReplaceTempView(\"DatabricksView82a6c06\")\n        #run backend agg\n        display(spark.sql(\"\"\"WITH q AS (select * from DatabricksView82a6c06) ,min_max AS (SELECT `GSPonderado`,(SELECT MAX(`GSPonderado`) FROM q) `target_column_max`,(SELECT MIN(`GSPonderado`) FROM q) `target_column_min` FROM q) ,histogram_meta AS (SELECT `GSPonderado`,`target_column_min` `min_value`,IF(`target_column_max` = `target_column_min`,`target_column_max` + 1,`target_column_max`) `max_value`,(`target_column_max` - `target_column_min`) / 10 `step` FROM min_max) SELECT IF(ISNULL(`GSPonderado`),NULL,LEAST(WIDTH_BUCKET(`GSPonderado`,`min_value`,`max_value`,10),10)) `GSPonderado_BIN`,FIRST(`min_value` + ((IF(ISNULL(`GSPonderado`),NULL,LEAST(WIDTH_BUCKET(`GSPonderado`,`min_value`,`max_value`,10),10)) - 1) * `step`)) `GSPonderado_BIN_LOWER_BOUND`,FIRST(`step`) `GSPonderado_BIN_STEP`,COUNT(`GSPonderado`) `COUNT` FROM histogram_meta GROUP BY `GSPonderado_BIN`\"\"\"))\n    else:\n        displayHTML(\"dataframe no longer exists. If you're using dataframe.display(), use display(dataframe) instead.\")\n\n\nfinally:\n    spark.sql(\"drop view if exists DatabricksView82a6c06\")\n    display = __backend_agg_display_orig\n    del __backend_agg_display_new\n    del __backend_agg_display_orig\n    del __backend_agg_dfs\n    del __backend_agg_user_code_fn\n\n",
       "commandTitle": "Visualization 1",
       "commandType": "auto",
       "commandVersion": 0,
       "commentThread": [],
       "commentsVisible": false,
       "contentSha256Hex": null,
       "customPlotOptions": {
        "redashChart": [
         {
          "key": "type",
          "value": "CHART"
         },
         {
          "key": "options",
          "value": {
           "alignYAxesAtZero": true,
           "coefficient": 1,
           "columnConfigurationMap": {
            "x": {
             "column": "GSPonderado",
             "id": "column_a07808b01"
            }
           },
           "dateTimeFormat": "DD/MM/YYYY HH:mm",
           "direction": {
            "type": "counterclockwise"
           },
           "error_y": {
            "type": "data",
            "visible": true
           },
           "globalSeriesType": "histogram",
           "isAggregationOn": true,
           "legend": {
            "traceorder": "normal"
           },
           "missingValuesAsZero": true,
           "numBins": 10,
           "numberFormat": "0,0.[00000]",
           "percentFormat": "0[.]00%",
           "series": {
            "error_y": {
             "type": "data",
             "visible": true
            },
            "stacking": null
           },
           "seriesOptions": {},
           "showDataLabels": false,
           "sizemode": "diameter",
           "sortX": true,
           "sortY": true,
           "swappedAxes": false,
           "textFormat": "",
           "useAggregationsUi": true,
           "valuesOptions": {},
           "version": 2,
           "xAxis": {
            "labels": {
             "enabled": true
            },
            "type": "-"
           },
           "yAxis": [
            {
             "type": "-"
            },
            {
             "opposite": true,
             "type": "-"
            }
           ]
          }
         }
        ]
       },
       "datasetPreviewNameToCmdIdMap": {},
       "diffDeletes": [],
       "diffInserts": [],
       "displayType": "redashChart",
       "error": null,
       "errorDetails": null,
       "errorSummary": null,
       "errorTraceType": null,
       "finishTime": 0,
       "globalVars": {},
       "guid": "",
       "height": "auto",
       "hideCommandCode": false,
       "hideCommandResult": false,
       "iPythonMetadata": null,
       "inputWidgets": {},
       "isLockedInExamMode": false,
       "latestUser": "a user",
       "latestUserId": null,
       "listResultMetadata": null,
       "metadata": {},
       "nuid": "e6ff89ee-68c7-4273-beca-387bef8a8a0c",
       "origId": 0,
       "parentHierarchy": [],
       "pivotAggregation": null,
       "pivotColumns": null,
       "position": 2.8875770568847656,
       "resultDbfsErrorMessage": null,
       "resultDbfsStatus": "INLINED_IN_TREE",
       "results": null,
       "showCommandTitle": false,
       "startTime": 0,
       "state": "input",
       "streamStates": {},
       "subcommandOptions": {
        "queryPlan": {
         "groups": [
          {
           "column": "GSPonderado_BIN",
           "type": "column"
          }
         ],
         "selects": [
          {
           "alias": "GSPonderado_BIN",
           "args": [
            {
             "column": "GSPonderado",
             "type": "column"
            },
            {
             "number": 10,
             "type": "number"
            }
           ],
           "function": "BIN",
           "type": "function"
          },
          {
           "alias": "GSPonderado_BIN_LOWER_BOUND",
           "args": [
            {
             "column": "GSPonderado",
             "type": "column"
            },
            {
             "number": 10,
             "type": "number"
            }
           ],
           "function": "BIN_LOWER_BOUND",
           "type": "function"
          },
          {
           "alias": "GSPonderado_BIN_STEP",
           "args": [
            {
             "column": "GSPonderado",
             "type": "column"
            },
            {
             "number": 10,
             "type": "number"
            }
           ],
           "function": "BIN_STEP",
           "type": "function"
          },
          {
           "alias": "COUNT",
           "args": [
            {
             "column": "GSPonderado",
             "type": "column"
            }
           ],
           "function": "COUNT",
           "type": "function"
          }
         ]
        }
       },
       "submitTime": 0,
       "subtype": "tableResultSubCmd.visualization",
       "tableResultIndex": 0,
       "useConsistentColors": false,
       "version": "CommandV1",
       "width": "auto",
       "workflows": null,
       "xColumns": null,
       "yColumns": null
      }
     },
     "output_type": "display_data"
    }
   ],
   "source": [
    "display(\n",
    "GDELT_EVENTS_TPR_NTI_POLITICAL\n",
    ".filter(\"ActionGeo_CountryCode == 'CH'\")\n",
    ".withColumn(\"PondGS\", col(\"GoldsteinScale\") * col(\"NumArticles\"))\n",
    ".groupBy(\"Date\").agg(sum(col(\"PondGS\")).alias(\"PondGS\"),sum(\"NumArticles\").alias(\"NumArticles\"))\n",
    ".withColumn(\"GSPonderado\", col(\"PondGS\") / col(\"NumArticles\"))\n",
    ")"
   ]
  },
  {
   "cell_type": "code",
   "execution_count": 0,
   "metadata": {
    "application/vnd.databricks.v1+cell": {
     "cellMetadata": {
      "byteLimit": 2048000,
      "rowLimit": 10000
     },
     "inputWidgets": {},
     "nuid": "ca799568-1888-4336-a08e-d4a40bfd1bb2",
     "showTitle": false,
     "title": ""
    }
   },
   "outputs": [],
   "source": [
    "display(\n",
    "GDELT_EVENTS_TPR_NTI_POLITICAL\n",
    ".withColumn(\"GoldsteinLabel\", when(col(\"GoldsteinScale\") < 0,\"Negative\").otherwise(\"Positive\"))\n",
    ".withColumn(\"GoldsteinScaleAdjusted\", when(col(\"GoldsteinScale\") < 0 , col(\"GoldsteinScale\") * -1).otherwise(col(\"GoldsteinScale\")))\n",
    ".filter(\"ActionGeo_CountryCode == 'CH'\")\n",
    ".groupBy(\"Date\",\"GoldsteinLabel\").agg(count(\"Date\"),avg(\"GoldsteinScale\"),max(\"GoldsteinScale\"))\n",
    ")"
   ]
  },
  {
   "cell_type": "markdown",
   "metadata": {
    "application/vnd.databricks.v1+cell": {
     "cellMetadata": {},
     "inputWidgets": {},
     "nuid": "de60ab29-6e05-42b2-9d19-43230d4bfedb",
     "showTitle": false,
     "title": ""
    }
   },
   "source": [
    "# Analsysis of GoldensteinScale depending type of event"
   ]
  },
  {
   "cell_type": "markdown",
   "metadata": {
    "application/vnd.databricks.v1+cell": {
     "cellMetadata": {},
     "inputWidgets": {},
     "nuid": "69a437ff-e3dc-4c70-8903-15f531d39b1e",
     "showTitle": false,
     "title": ""
    }
   },
   "source": [
    "The objective of this chunk of code is to categorize events root codes to make it clear with types of events belong more to the negative part of the goldenstein scale and which ones belong to the positive part. The output of the cell is a Dimensional Table that categorize the events based on the range of goldenstein scale. When the range is within negative numbers is consider a negative event. When the range is whithin positive numbers is consider a positive event. Events that thier range of Goldstein scale is within positive and negative numbers are descarted from the analysis as they could cause noise within the ranges."
   ]
  },
  {
   "cell_type": "code",
   "execution_count": 0,
   "metadata": {
    "application/vnd.databricks.v1+cell": {
     "cellMetadata": {
      "byteLimit": 2048000,
      "rowLimit": 10000
     },
     "inputWidgets": {},
     "nuid": "a6f9a17d-e50e-49af-a919-82ad9bc3a8eb",
     "showTitle": false,
     "title": ""
    }
   },
   "outputs": [
    {
     "output_type": "display_data",
     "data": {
      "text/plain": [
       "Databricks visualization. Run in Databricks to view."
      ]
     },
     "metadata": {
      "application/vnd.databricks.v1.subcommand+json": {
       "baseErrorDetails": null,
       "bindings": {},
       "collapsed": false,
       "command": "%python\n__backend_agg_display_orig = display\n__backend_agg_dfs = []\ndef __backend_agg_display_new(df):\n    __backend_agg_df_modules = [\"pandas.core.frame\", \"databricks.koalas.frame\", \"pyspark.sql.dataframe\", \"pyspark.pandas.frame\", \"pyspark.sql.connect.dataframe\"]\n    if (type(df).__module__ in __backend_agg_df_modules and type(df).__name__ == 'DataFrame') or isinstance(df, list):\n        __backend_agg_dfs.append(df)\n\ndisplay = __backend_agg_display_new\n\ndef __backend_agg_user_code_fn():\n    import base64\n    exec(base64.standard_b64decode(\"ZGlzcGxheShHREVMVF9FVkVOVFNfVFBSCi5ncm91cEJ5KGNvbCgiREVTQ1JJUFRJT04iKSkuYWdnKGF2Zyhjb2woIkdvbGRzdGVpblNjYWxlIikpKSkgIyBBVkVSQUdFIEdPTERFTlNURUlOIFBFUiBST09UIEVWRU5UIENPREU=\").decode())\n\ntry:\n    # run user code\n    __backend_agg_user_code_fn()\n\n    #reset display function\n    display = __backend_agg_display_orig\n\n    if len(__backend_agg_dfs) > 0:\n        # create a temp view\n        if type(__backend_agg_dfs[0]).__module__ == \"databricks.koalas.frame\":\n            # koalas dataframe\n            __backend_agg_dfs[0].to_spark().createOrReplaceTempView(\"DatabricksView602e079\")\n        elif type(__backend_agg_dfs[0]).__module__ == \"pandas.core.frame\" or isinstance(__backend_agg_dfs[0], list):\n            # pandas dataframe\n            spark.createDataFrame(__backend_agg_dfs[0]).createOrReplaceTempView(\"DatabricksView602e079\")\n        else:\n            __backend_agg_dfs[0].createOrReplaceTempView(\"DatabricksView602e079\")\n        #run backend agg\n        display(spark.sql(\"\"\"WITH q AS (select * from DatabricksView602e079) SELECT `DESCRIPTION`,SUM(`avg(GoldsteinScale)`) `column_b6e7c35819` FROM q GROUP BY `DESCRIPTION`\"\"\"))\n    else:\n        displayHTML(\"dataframe no longer exists. If you're using dataframe.display(), use display(dataframe) instead.\")\n\n\nfinally:\n    spark.sql(\"drop view if exists DatabricksView602e079\")\n    display = __backend_agg_display_orig\n    del __backend_agg_display_new\n    del __backend_agg_display_orig\n    del __backend_agg_dfs\n    del __backend_agg_user_code_fn\n\n",
       "commandTitle": "Visualization 1",
       "commandType": "auto",
       "commandVersion": 0,
       "commentThread": [],
       "commentsVisible": false,
       "contentSha256Hex": null,
       "customPlotOptions": {
        "redashChart": [
         {
          "key": "type",
          "value": "CHART"
         },
         {
          "key": "options",
          "value": {
           "alignYAxesAtZero": true,
           "coefficient": 1,
           "columnConfigurationMap": {
            "x": {
             "column": "DESCRIPTION",
             "id": "column_b6e7c35818"
            },
            "y": [
             {
              "column": "avg(GoldsteinScale)",
              "id": "column_b6e7c35819",
              "transform": "SUM"
             }
            ]
           },
           "dateTimeFormat": "DD/MM/YYYY HH:mm",
           "direction": {
            "type": "counterclockwise"
           },
           "error_y": {
            "type": "data",
            "visible": true
           },
           "globalSeriesType": "column",
           "isAggregationOn": true,
           "legend": {
            "traceorder": "normal"
           },
           "missingValuesAsZero": true,
           "numberFormat": "0,0.[00000]",
           "percentFormat": "0[.]00%",
           "series": {
            "error_y": {
             "type": "data",
             "visible": true
            },
            "stacking": null
           },
           "seriesOptions": {
            "column_b6e7c35819": {
             "name": "avg(GoldsteinScale)",
             "yAxis": 0
            }
           },
           "showDataLabels": false,
           "sizemode": "diameter",
           "sortX": true,
           "sortY": true,
           "swappedAxes": false,
           "textFormat": "",
           "useAggregationsUi": true,
           "valuesOptions": {},
           "version": 2,
           "xAxis": {
            "labels": {
             "enabled": true
            },
            "type": "-"
           },
           "yAxis": [
            {
             "type": "-"
            },
            {
             "opposite": true,
             "type": "-"
            }
           ]
          }
         }
        ]
       },
       "datasetPreviewNameToCmdIdMap": {},
       "diffDeletes": [],
       "diffInserts": [],
       "displayType": "redashChart",
       "error": null,
       "errorDetails": null,
       "errorSummary": null,
       "errorTraceType": null,
       "finishTime": 0,
       "globalVars": {},
       "guid": "",
       "height": "447",
       "hideCommandCode": false,
       "hideCommandResult": false,
       "iPythonMetadata": null,
       "inputWidgets": {},
       "isLockedInExamMode": false,
       "latestUser": "a user",
       "latestUserId": null,
       "listResultMetadata": null,
       "metadata": {},
       "nuid": "39671bbc-7d67-4666-9782-fb049b286899",
       "origId": 0,
       "parentHierarchy": [],
       "pivotAggregation": null,
       "pivotColumns": null,
       "position": 2.88909912109375,
       "resultDbfsErrorMessage": null,
       "resultDbfsStatus": "INLINED_IN_TREE",
       "results": null,
       "showCommandTitle": false,
       "startTime": 0,
       "state": "input",
       "streamStates": {},
       "subcommandOptions": {
        "queryPlan": {
         "groups": [
          {
           "column": "DESCRIPTION",
           "type": "column"
          }
         ],
         "selects": [
          {
           "column": "DESCRIPTION",
           "type": "column"
          },
          {
           "alias": "column_b6e7c35819",
           "args": [
            {
             "column": "avg(GoldsteinScale)",
             "type": "column"
            }
           ],
           "function": "SUM",
           "type": "function"
          }
         ]
        }
       },
       "submitTime": 0,
       "subtype": "tableResultSubCmd.visualization",
       "tableResultIndex": 0,
       "useConsistentColors": false,
       "version": "CommandV1",
       "width": "1026",
       "workflows": null,
       "xColumns": null,
       "yColumns": null
      }
     },
     "output_type": "display_data"
    }
   ],
   "source": [
    "GDELT_EVENTS_CATEGORIZATION_GS_DIM = (\n",
    "GDELT_EVENTS_TPR_UNIQUE_LINKS #TABLE OF EVENTS WITH COUNTRIES OF INTERES AND NO DUPLICATES\n",
    ".groupBy(col(\"DESCRIPTION\"),col(\"EventCode\")).agg(max(\"GoldsteinScale\").alias(\"MaxGS\"),min(\"GoldsteinScale\").alias(\"MinGS\")) #GROUPING FOR EVENT DESCRIPTION AND GET MAX AND MIN VALUES OF GS SCALE\n",
    ".withColumn(\"EventCategory\",  # COLUMN THAT CATEGORIZE THE EVENTS SCALE OF POSITVE,NEGATIVE OR NOT CLEAR CATEGORIES TYPES OF EVENTS\n",
    "            when((col(\"MaxGS\") < 0) & (col(\"MinGS\") < 0), \"Negative\")\n",
    "            .when((col(\"MaxGS\") > 0) & (col(\"MinGS\") >0), \"Positive\")\n",
    "            .otherwise(\"Not Clear Category\")\n",
    "            )\n",
    ".filter(col(\"EventCategory\") != 'Not Clear Category') # FILTER ALL EVENTS WITH NO CLEAR CATEGORY AS THEY ARE NOT IMPORTANT\n",
    ".select(\"EventCode\",\"EventCategory\") # SELECT COLUMNS OF INTERES\n",
    ")"
   ]
  },
  {
   "cell_type": "markdown",
   "metadata": {
    "application/vnd.databricks.v1+cell": {
     "cellMetadata": {},
     "inputWidgets": {},
     "nuid": "d7746a42-1514-4f35-ad73-05c05af1357d",
     "showTitle": false,
     "title": ""
    }
   },
   "source": [
    "### Data Filtering\n",
    "Within this chunk of code we are going to separate the type of news that are occuring within each country. In the first cell we are selecting the news that have a clear category selected by the impact in Goldstein Scale. In the next cell we are filtering news within 9 actors Codes that may have an efect in our Business Objective."
   ]
  },
  {
   "cell_type": "code",
   "execution_count": 0,
   "metadata": {
    "application/vnd.databricks.v1+cell": {
     "cellMetadata": {
      "byteLimit": 2048000,
      "rowLimit": 10000
     },
     "inputWidgets": {},
     "nuid": "96b0ff8e-7ded-4fd0-a85f-4325288cfab6",
     "showTitle": false,
     "title": ""
    }
   },
   "outputs": [],
   "source": [
    "GDELT_EVENTS_TPR_CATEGORIZED = (\n",
    "GDELT_EVENTS_TPR_UNIQUE_LINKS\n",
    ".join(GDELT_EVENTS_CATEGORIZATION_GS_DIM,\"EventCode\",\"left\") #JOIN CATEGORIZATION TABLE\n",
    ".filter(\"DESCRIPTION is not null\") #NO NEWS WITH NO CLEAR DESCRIPTION OR WITH AN UNCLEAR CATEGORY\n",
    ".withColumn(\"GoldsteinScaleLable\", col(\"GoldsteinScale\").astype(\"int\")) #GET INTEGER NUMBER OF GDS\n",
    ")"
   ]
  },
  {
   "cell_type": "code",
   "execution_count": 0,
   "metadata": {
    "application/vnd.databricks.v1+cell": {
     "cellMetadata": {
      "byteLimit": 2048000,
      "rowLimit": 10000
     },
     "inputWidgets": {},
     "nuid": "e7231435-cf0a-4d41-a3d4-aae5e288c3a1",
     "showTitle": false,
     "title": ""
    }
   },
   "outputs": [],
   "source": [
    "#GDELT EVENTS POLITICAL\n",
    "\n",
    "GDELT_EVENTS_TPR_NTI_POLITICAL = (\n",
    "GDELT_EVENTS_TPR_CATEGORIZED\n",
    ".filter(\n",
    "  (col(\"Actor1Type1Code\").isin('GOV'))\n",
    "  | (col(\"Actor2Type2Code\").isin('GOV'))\n",
    ")\n",
    ")"
   ]
  },
  {
   "cell_type": "code",
   "execution_count": 0,
   "metadata": {
    "application/vnd.databricks.v1+cell": {
     "cellMetadata": {},
     "inputWidgets": {},
     "nuid": "b6e120fc-4c36-491e-839b-ceb75c1d9a13",
     "showTitle": false,
     "title": ""
    }
   },
   "outputs": [],
   "source": []
  },
  {
   "cell_type": "markdown",
   "metadata": {
    "application/vnd.databricks.v1+cell": {
     "cellMetadata": {},
     "inputWidgets": {},
     "nuid": "098e3fe1-9373-4980-8bc2-6051d65f49ee",
     "showTitle": false,
     "title": ""
    }
   },
   "source": [
    "%md\n",
    "#### Finding Best Objective Variable"
   ]
  },
  {
   "cell_type": "code",
   "execution_count": 0,
   "metadata": {
    "application/vnd.databricks.v1+cell": {
     "cellMetadata": {
      "byteLimit": 2048000,
      "rowLimit": 10000
     },
     "inputWidgets": {},
     "nuid": "9ce88aae-161d-40cd-af44-e7112ecbc0f8",
     "showTitle": false,
     "title": ""
    }
   },
   "outputs": [],
   "source": [
    "display(GDELT_EVENTS_TPR_NTI)"
   ]
  },
  {
   "cell_type": "code",
   "execution_count": 0,
   "metadata": {
    "application/vnd.databricks.v1+cell": {
     "cellMetadata": {
      "byteLimit": 2048000,
      "rowLimit": 10000
     },
     "inputWidgets": {},
     "nuid": "333c5c61-f8d0-4d87-8c4a-484fe490fd1f",
     "showTitle": false,
     "title": ""
    }
   },
   "outputs": [
    {
     "output_type": "display_data",
     "data": {
      "text/plain": [
       "Databricks visualization. Run in Databricks to view."
      ]
     },
     "metadata": {
      "application/vnd.databricks.v1.subcommand+json": {
       "baseErrorDetails": null,
       "bindings": {},
       "collapsed": false,
       "command": "%python\n__backend_agg_display_orig = display\n__backend_agg_dfs = []\ndef __backend_agg_display_new(df):\n    __backend_agg_df_modules = [\"pandas.core.frame\", \"databricks.koalas.frame\", \"pyspark.sql.dataframe\", \"pyspark.pandas.frame\", \"pyspark.sql.connect.dataframe\"]\n    if (type(df).__module__ in __backend_agg_df_modules and type(df).__name__ == 'DataFrame') or isinstance(df, list):\n        __backend_agg_dfs.append(df)\n\ndisplay = __backend_agg_display_new\n\ndef __backend_agg_user_code_fn():\n    import base64\n    exec(base64.standard_b64decode(\"ZGlzcGxheSgKR0RFTFRfRVZFTlRTX1RQUl9QT1NJVElWRQouZmlsdGVyKCJBY3Rpb25HZW9fQ291bnRyeUNvZGUgPT0gJ0NIJyIpCi5ncm91cGJ5KCJEYXRlIiwiUXVhZENsYXNzIikuY291bnQoKQop\").decode())\n\ntry:\n    # run user code\n    __backend_agg_user_code_fn()\n\n    #reset display function\n    display = __backend_agg_display_orig\n\n    if len(__backend_agg_dfs) > 0:\n        # create a temp view\n        if type(__backend_agg_dfs[0]).__module__ == \"databricks.koalas.frame\":\n            # koalas dataframe\n            __backend_agg_dfs[0].to_spark().createOrReplaceTempView(\"DatabricksView134b512\")\n        elif type(__backend_agg_dfs[0]).__module__ == \"pandas.core.frame\" or isinstance(__backend_agg_dfs[0], list):\n            # pandas dataframe\n            spark.createDataFrame(__backend_agg_dfs[0]).createOrReplaceTempView(\"DatabricksView134b512\")\n        else:\n            __backend_agg_dfs[0].createOrReplaceTempView(\"DatabricksView134b512\")\n        #run backend agg\n        display(spark.sql(\"\"\"WITH q AS (select * from DatabricksView134b512) SELECT SUM(`count`) `column_b6e7c35845`,`Date`,`QuadClass` FROM q GROUP BY `Date`,`QuadClass`\"\"\"))\n    else:\n        displayHTML(\"dataframe no longer exists. If you're using dataframe.display(), use display(dataframe) instead.\")\n\n\nfinally:\n    spark.sql(\"drop view if exists DatabricksView134b512\")\n    display = __backend_agg_display_orig\n    del __backend_agg_display_new\n    del __backend_agg_display_orig\n    del __backend_agg_dfs\n    del __backend_agg_user_code_fn\n\n",
       "commandTitle": "Visualization 1",
       "commandType": "auto",
       "commandVersion": 0,
       "commentThread": [],
       "commentsVisible": false,
       "contentSha256Hex": null,
       "customPlotOptions": {
        "redashChart": [
         {
          "key": "type",
          "value": "CHART"
         },
         {
          "key": "options",
          "value": {
           "alignYAxesAtZero": true,
           "coefficient": 1,
           "columnConfigurationMap": {
            "series": {
             "column": "QuadClass",
             "id": "column_b6e7c35853"
            },
            "x": {
             "column": "Date",
             "id": "column_b6e7c35841"
            },
            "y": [
             {
              "column": "QuadClass",
              "id": "column_b6e7c35845",
              "transform": "SUM"
             }
            ]
           },
           "dateTimeFormat": "DD/MM/YYYY HH:mm",
           "direction": {
            "type": "counterclockwise"
           },
           "error_y": {
            "type": "data",
            "visible": true
           },
           "globalSeriesType": "column",
           "isAggregationOn": true,
           "legend": {
            "traceorder": "normal"
           },
           "missingValuesAsZero": true,
           "numberFormat": "0,0.[00000]",
           "percentFormat": "0[.]00%",
           "series": {
            "error_y": {
             "type": "data",
             "visible": true
            },
            "stacking": null
           },
           "seriesOptions": {
            "column_b6e7c35835": {
             "name": "QuadClass",
             "type": "column",
             "yAxis": 0
            },
            "column_b6e7c35836": {
             "name": "count",
             "type": "column",
             "yAxis": 0
            },
            "column_b6e7c35845": {
             "type": "column",
             "yAxis": 0
            }
           },
           "showDataLabels": false,
           "sizemode": "diameter",
           "sortX": true,
           "sortY": true,
           "swappedAxes": false,
           "textFormat": "",
           "useAggregationsUi": true,
           "valuesOptions": {},
           "version": 2,
           "xAxis": {
            "labels": {
             "enabled": true
            },
            "type": "-"
           },
           "yAxis": [
            {
             "type": "-"
            },
            {
             "opposite": true,
             "type": "-"
            }
           ]
          }
         }
        ]
       },
       "datasetPreviewNameToCmdIdMap": {},
       "diffDeletes": [],
       "diffInserts": [],
       "displayType": "redashChart",
       "error": null,
       "errorDetails": null,
       "errorSummary": null,
       "errorTraceType": null,
       "finishTime": 0,
       "globalVars": {},
       "guid": "",
       "height": "auto",
       "hideCommandCode": false,
       "hideCommandResult": false,
       "iPythonMetadata": null,
       "inputWidgets": {},
       "isLockedInExamMode": false,
       "latestUser": "a user",
       "latestUserId": null,
       "listResultMetadata": null,
       "metadata": {},
       "nuid": "fddf59c2-8556-4ad3-92e2-1cd9a1ee7fff",
       "origId": 0,
       "parentHierarchy": [],
       "pivotAggregation": null,
       "pivotColumns": null,
       "position": 2.8921432495117188,
       "resultDbfsErrorMessage": null,
       "resultDbfsStatus": "INLINED_IN_TREE",
       "results": null,
       "showCommandTitle": false,
       "startTime": 0,
       "state": "input",
       "streamStates": {},
       "subcommandOptions": {
        "queryPlan": {
         "groups": [
          {
           "column": "Date",
           "type": "column"
          },
          {
           "column": "QuadClass",
           "type": "column"
          }
         ],
         "selects": [
          {
           "alias": "column_b6e7c35845",
           "args": [
            {
             "column": "QuadClass",
             "type": "column"
            }
           ],
           "function": "SUM",
           "type": "function"
          },
          {
           "column": "Date",
           "type": "column"
          },
          {
           "column": "QuadClass",
           "type": "column"
          }
         ]
        }
       },
       "submitTime": 0,
       "subtype": "tableResultSubCmd.visualization",
       "tableResultIndex": 0,
       "useConsistentColors": false,
       "version": "CommandV1",
       "width": "auto",
       "workflows": null,
       "xColumns": null,
       "yColumns": null
      }
     },
     "output_type": "display_data"
    }
   ],
   "source": [
    "CANADA_TYPE_OF_MOST_POPULAR_EVENTS_PER_DATE = (\n",
    "GDELT_EVENTS_TPR_NTI\n",
    ".filter(\"ActionGeo_CountryCode == 'CH'\")\n",
    ".groupby(\"Date\",\"\").count()\n",
    ".withColumn(\"Rank\", row_number().over(Window.partitionBy(\"Date\").orderBy(col(\"count\").desc())))\n",
    ".filter(\"Rank == 1\")\n",
    ")\n",
    "\n",
    "display(CANADA_TYPE_OF_MOST_POPULAR_EVENTS_PER_DATE)"
   ]
  },
  {
   "cell_type": "code",
   "execution_count": 0,
   "metadata": {
    "application/vnd.databricks.v1+cell": {
     "cellMetadata": {
      "byteLimit": 2048000,
      "rowLimit": 10000
     },
     "inputWidgets": {},
     "nuid": "e91d98b6-068f-456d-a559-b650ad9f99b9",
     "showTitle": false,
     "title": ""
    }
   },
   "outputs": [],
   "source": [
    "display(\n",
    "GDELT_EVENTS_TPR_NTI\n",
    ".filter(\"ActionGeo_CountryCode == 'CH'\")\n",
    ".groupby(\"Date\",\"DESCRIPTION\").count()\n",
    ".withColumn(\"Rank\", row_number().over(Window.partitionBy(\"Date\").orderBy(col(\"count\").desc())))\n",
    ")"
   ]
  },
  {
   "cell_type": "code",
   "execution_count": 0,
   "metadata": {
    "application/vnd.databricks.v1+cell": {
     "cellMetadata": {
      "byteLimit": 2048000,
      "rowLimit": 10000
     },
     "inputWidgets": {},
     "nuid": "05374590-5b22-4e8f-81df-9e62690bb182",
     "showTitle": false,
     "title": ""
    }
   },
   "outputs": [],
   "source": [
    "display(\n",
    "GDELT_EVENTS_TPR_NTI\n",
    ".filter(\"ActionGeo_CountryCode == 'CA'\")\n",
    ".filter(\"Date == '2023-02-19'\")\n",
    ")"
   ]
  },
  {
   "cell_type": "markdown",
   "metadata": {
    "application/vnd.databricks.v1+cell": {
     "cellMetadata": {},
     "inputWidgets": {},
     "nuid": "8b792874-6612-4142-9766-ba214aea79eb",
     "showTitle": false,
     "title": ""
    }
   },
   "source": [
    "### Analysing Variables Related to Positive Events"
   ]
  },
  {
   "cell_type": "markdown",
   "metadata": {
    "application/vnd.databricks.v1+cell": {
     "cellMetadata": {},
     "inputWidgets": {},
     "nuid": "4c7aa681-7839-4f41-8a31-beed01f5852c",
     "showTitle": false,
     "title": ""
    }
   },
   "source": [
    "The first thing is Generate a Base Table. This Base table will help us to determine an objective to start generating and analyzing variables and correlaitons. First we have to clarify our \"Unit of Analysis\" This units will infer in at wich level our data is aggregated. The unit analysis in this case is \"Date\", \"ActionGeo_CountryCode\", \"GoldesteinScaleLabel\" and the Value we are going to try to predict is the number of articles writed in each category for the Goldenstein Scale"
   ]
  },
  {
   "cell_type": "code",
   "execution_count": 0,
   "metadata": {
    "application/vnd.databricks.v1+cell": {
     "cellMetadata": {
      "byteLimit": 2048000,
      "rowLimit": 10000
     },
     "inputWidgets": {},
     "nuid": "e97b431e-2cb7-4bdb-84f5-58505dd0b793",
     "showTitle": false,
     "title": ""
    }
   },
   "outputs": [
    {
     "output_type": "display_data",
     "data": {
      "text/plain": [
       "Databricks visualization. Run in Databricks to view."
      ]
     },
     "metadata": {
      "application/vnd.databricks.v1.subcommand+json": {
       "baseErrorDetails": null,
       "bindings": {},
       "collapsed": false,
       "command": "%python\n__backend_agg_display_orig = display\n__backend_agg_dfs = []\ndef __backend_agg_display_new(df):\n    __backend_agg_df_modules = [\"pandas.core.frame\", \"databricks.koalas.frame\", \"pyspark.sql.dataframe\", \"pyspark.pandas.frame\", \"pyspark.sql.connect.dataframe\"]\n    if (type(df).__module__ in __backend_agg_df_modules and type(df).__name__ == 'DataFrame') or isinstance(df, list):\n        __backend_agg_dfs.append(df)\n\ndisplay = __backend_agg_display_new\n\ndef __backend_agg_user_code_fn():\n    import base64\n    exec(base64.standard_b64decode(\"R0RFTFRfRVZFTlRTX1RQUl9QT1NJVElWRV9CQVNFID0gKEdERUxUX0VWRU5UU19UUFJfUE9TSVRJVkUKLmdyb3VwQnkoIkRhdGUiLCJBY3Rpb25HZW9fQ291bnRyeUNvZGUiKS5hZ2coYXZnKCJHb2xkc3RlaW5TY2FsZSIpLmFsaWFzKCJHb2xkc3RlaW5TY2FsZSIpKQopCgpkaXNwbGF5KEdERUxUX0VWRU5UU19UUFJfUE9TSVRJVkVfQkFTRSk=\").decode())\n\ntry:\n    # run user code\n    __backend_agg_user_code_fn()\n\n    #reset display function\n    display = __backend_agg_display_orig\n\n    if len(__backend_agg_dfs) > 0:\n        # create a temp view\n        if type(__backend_agg_dfs[0]).__module__ == \"databricks.koalas.frame\":\n            # koalas dataframe\n            __backend_agg_dfs[0].to_spark().createOrReplaceTempView(\"DatabricksView31ae340\")\n        elif type(__backend_agg_dfs[0]).__module__ == \"pandas.core.frame\" or isinstance(__backend_agg_dfs[0], list):\n            # pandas dataframe\n            spark.createDataFrame(__backend_agg_dfs[0]).createOrReplaceTempView(\"DatabricksView31ae340\")\n        else:\n            __backend_agg_dfs[0].createOrReplaceTempView(\"DatabricksView31ae340\")\n        #run backend agg\n        display(spark.sql(\"\"\"WITH q AS (select * from DatabricksView31ae340) ,min_max AS (SELECT `GoldsteinScale`,(SELECT MAX(`GoldsteinScale`) FROM q) `target_column_max`,(SELECT MIN(`GoldsteinScale`) FROM q) `target_column_min` FROM q) ,histogram_meta AS (SELECT `GoldsteinScale`,`target_column_min` `min_value`,IF(`target_column_max` = `target_column_min`,`target_column_max` + 1,`target_column_max`) `max_value`,(`target_column_max` - `target_column_min`) / 10 `step` FROM min_max) SELECT IF(ISNULL(`GoldsteinScale`),NULL,LEAST(WIDTH_BUCKET(`GoldsteinScale`,`min_value`,`max_value`,10),10)) `GoldsteinScale_BIN`,FIRST(`min_value` + ((IF(ISNULL(`GoldsteinScale`),NULL,LEAST(WIDTH_BUCKET(`GoldsteinScale`,`min_value`,`max_value`,10),10)) - 1) * `step`)) `GoldsteinScale_BIN_LOWER_BOUND`,FIRST(`step`) `GoldsteinScale_BIN_STEP`,COUNT(`GoldsteinScale`) `COUNT` FROM histogram_meta GROUP BY `GoldsteinScale_BIN`\"\"\"))\n    else:\n        displayHTML(\"dataframe no longer exists. If you're using dataframe.display(), use display(dataframe) instead.\")\n\n\nfinally:\n    spark.sql(\"drop view if exists DatabricksView31ae340\")\n    display = __backend_agg_display_orig\n    del __backend_agg_display_new\n    del __backend_agg_display_orig\n    del __backend_agg_dfs\n    del __backend_agg_user_code_fn\n\n",
       "commandTitle": "Visualization 1",
       "commandType": "auto",
       "commandVersion": 0,
       "commentThread": [],
       "commentsVisible": false,
       "contentSha256Hex": null,
       "customPlotOptions": {
        "redashChart": [
         {
          "key": "type",
          "value": "CHART"
         },
         {
          "key": "options",
          "value": {
           "alignYAxesAtZero": true,
           "coefficient": 1,
           "columnConfigurationMap": {
            "x": {
             "column": "GoldsteinScale",
             "id": "column_b6e7c35833"
            }
           },
           "dateTimeFormat": "DD/MM/YYYY HH:mm",
           "direction": {
            "type": "counterclockwise"
           },
           "error_y": {
            "type": "data",
            "visible": true
           },
           "globalSeriesType": "histogram",
           "isAggregationOn": true,
           "legend": {
            "traceorder": "normal"
           },
           "missingValuesAsZero": true,
           "numBins": 30,
           "numberFormat": "0,0.[00000]",
           "percentFormat": "0[.]00%",
           "series": {
            "error_y": {
             "type": "data",
             "visible": true
            },
            "stacking": null
           },
           "seriesOptions": {
            "column_b6e7c35830": {
             "name": "GoldsteinScale",
             "type": "histogram",
             "yAxis": 0
            }
           },
           "showDataLabels": false,
           "sizemode": "diameter",
           "sortX": true,
           "sortY": true,
           "swappedAxes": false,
           "textFormat": "",
           "useAggregationsUi": true,
           "valuesOptions": {},
           "version": 2,
           "xAxis": {
            "labels": {
             "enabled": true
            },
            "type": "-"
           },
           "yAxis": [
            {
             "type": "-"
            },
            {
             "opposite": true,
             "type": "-"
            }
           ]
          }
         }
        ]
       },
       "datasetPreviewNameToCmdIdMap": {},
       "diffDeletes": [],
       "diffInserts": [],
       "displayType": "redashChart",
       "error": null,
       "errorDetails": null,
       "errorSummary": null,
       "errorTraceType": null,
       "finishTime": 0,
       "globalVars": {},
       "guid": "",
       "height": "auto",
       "hideCommandCode": false,
       "hideCommandResult": false,
       "iPythonMetadata": null,
       "inputWidgets": {},
       "isLockedInExamMode": false,
       "latestUser": "a user",
       "latestUserId": null,
       "listResultMetadata": null,
       "metadata": {},
       "nuid": "ba0fe213-9363-4ddb-b62d-3acdf9f8f993",
       "origId": 0,
       "parentHierarchy": [],
       "pivotAggregation": null,
       "pivotColumns": null,
       "position": 2.8955078125,
       "resultDbfsErrorMessage": null,
       "resultDbfsStatus": "INLINED_IN_TREE",
       "results": null,
       "showCommandTitle": false,
       "startTime": 0,
       "state": "input",
       "streamStates": {},
       "subcommandOptions": {
        "queryPlan": {
         "groups": [
          {
           "column": "GoldsteinScale_BIN",
           "type": "column"
          }
         ],
         "selects": [
          {
           "alias": "GoldsteinScale_BIN",
           "args": [
            {
             "column": "GoldsteinScale",
             "type": "column"
            },
            {
             "number": 30,
             "type": "number"
            }
           ],
           "function": "BIN",
           "type": "function"
          },
          {
           "alias": "GoldsteinScale_BIN_LOWER_BOUND",
           "args": [
            {
             "column": "GoldsteinScale",
             "type": "column"
            },
            {
             "number": 30,
             "type": "number"
            }
           ],
           "function": "BIN_LOWER_BOUND",
           "type": "function"
          },
          {
           "alias": "GoldsteinScale_BIN_STEP",
           "args": [
            {
             "column": "GoldsteinScale",
             "type": "column"
            },
            {
             "number": 30,
             "type": "number"
            }
           ],
           "function": "BIN_STEP",
           "type": "function"
          },
          {
           "alias": "COUNT",
           "args": [
            {
             "column": "GoldsteinScale",
             "type": "column"
            }
           ],
           "function": "COUNT",
           "type": "function"
          }
         ]
        }
       },
       "submitTime": 0,
       "subtype": "tableResultSubCmd.visualization",
       "tableResultIndex": 0,
       "useConsistentColors": false,
       "version": "CommandV1",
       "width": "auto",
       "workflows": null,
       "xColumns": null,
       "yColumns": null
      }
     },
     "output_type": "display_data"
    }
   ],
   "source": [
    "GDELT_EVENTS_TPR_POSITIVE_BASE = (GDELT_EVENTS_TPR_POSITIVE\n",
    ".groupBy(\"Date\",\"ActionGeo_CountryCode\").agg(avg(\"GoldsteinScale\").alias(\"GoldsteinScale\"))\n",
    ")\n",
    "\n",
    "GDELT_EVENTS_TPR_NEGATIVE_BASE = (GDELT_EVENTS_TPR_NEGATIVE\n",
    ".groupBy(\"Date\",\"ActionGeo_CountryCode\").agg(avg(\"GoldsteinScale\").alias(\"GoldsteinScale\"))\n",
    ")\n",
    "\n",
    "display(GDELT_EVENTS_TPR_POSITIVE_BASE)"
   ]
  },
  {
   "cell_type": "code",
   "execution_count": 0,
   "metadata": {
    "application/vnd.databricks.v1+cell": {
     "cellMetadata": {},
     "inputWidgets": {},
     "nuid": "f0f8d34e-aac9-4e7a-a93a-fe3587b69b7b",
     "showTitle": false,
     "title": ""
    }
   },
   "outputs": [],
   "source": [
    "display(GDELT_EVENTS_TPR_POSITIVE_BASE)"
   ]
  },
  {
   "cell_type": "code",
   "execution_count": 0,
   "metadata": {
    "application/vnd.databricks.v1+cell": {
     "cellMetadata": {},
     "inputWidgets": {},
     "nuid": "315ee75f-c40d-40c8-b30d-26bdf180d2e7",
     "showTitle": false,
     "title": ""
    }
   },
   "outputs": [],
   "source": []
  },
  {
   "cell_type": "code",
   "execution_count": 0,
   "metadata": {
    "application/vnd.databricks.v1+cell": {
     "cellMetadata": {},
     "inputWidgets": {},
     "nuid": "73483bdb-d2c1-4304-a180-443fe290e568",
     "showTitle": false,
     "title": ""
    }
   },
   "outputs": [],
   "source": []
  },
  {
   "cell_type": "code",
   "execution_count": 0,
   "metadata": {
    "application/vnd.databricks.v1+cell": {
     "cellMetadata": {
      "byteLimit": 2048000,
      "rowLimit": 10000
     },
     "inputWidgets": {},
     "nuid": "c2711108-9632-4df2-b70f-b8611e23cbbd",
     "showTitle": false,
     "title": ""
    }
   },
   "outputs": [],
   "source": [
    "display(PORT_LOCATIONS_DIM_CLEANED)"
   ]
  },
  {
   "cell_type": "code",
   "execution_count": 0,
   "metadata": {
    "application/vnd.databricks.v1+cell": {
     "cellMetadata": {
      "byteLimit": 2048000,
      "rowLimit": 10000
     },
     "inputWidgets": {},
     "nuid": "dc95f0c6-0538-4915-8889-3238abd1ba44",
     "showTitle": false,
     "title": ""
    }
   },
   "outputs": [],
   "source": [
    "GDELT_EVENTS_INTEREST = (\n",
    "GDELT_EVENTS_DATE\n",
    ".filter(\"ActionGeo_Lat is not null\")\n",
    ".filter(\"ActionGeo_Long is not null\")\n",
    ".select(\"ActionGeo_Fullname\",\"ActionGeo_CountryCode\",\"ActionGeo_Lat\",\"ActionGeo_Long\",\"SOURCEURL\")\n",
    ")"
   ]
  },
  {
   "cell_type": "code",
   "execution_count": 0,
   "metadata": {
    "application/vnd.databricks.v1+cell": {
     "cellMetadata": {
      "byteLimit": 2048000,
      "rowLimit": 10000
     },
     "inputWidgets": {},
     "nuid": "70ecdb67-8817-4564-b583-cb0acb778a84",
     "showTitle": false,
     "title": ""
    }
   },
   "outputs": [],
   "source": [
    "display(GDELT_EVENTS_INTEREST)"
   ]
  },
  {
   "cell_type": "code",
   "execution_count": 0,
   "metadata": {
    "application/vnd.databricks.v1+cell": {
     "cellMetadata": {
      "byteLimit": 2048000,
      "rowLimit": 10000
     },
     "inputWidgets": {},
     "nuid": "612d03b6-7fdc-4502-8355-bef158eb1131",
     "showTitle": false,
     "title": ""
    }
   },
   "outputs": [],
   "source": [
    "GDELT_CROSS_PORT = (GDELT_EVENTS_INTEREST.filter(\"ActionGeo_CountryCode == 'CH'\")\n",
    ".crossJoin(PORT_LOCATIONS_DIM_CLEANED.filter(\"COUNTRY == 'CHINA'\"))\n",
    ")\n",
    "\n",
    "GDELT_CROSS_PORT_DISTANCE = cal_lat_log_dist(GDELT_CROSS_PORT, 'ActionGeo_Lat', 'ActionGeo_Long', 'LATITUDE_CORRECTED', 'LONGITUDE_CORRECTED')\n",
    "\n",
    "display(GDELT_CROSS_PORT_DISTANCE)"
   ]
  },
  {
   "cell_type": "markdown",
   "metadata": {
    "application/vnd.databricks.v1+cell": {
     "cellMetadata": {},
     "inputWidgets": {},
     "nuid": "655b4b80-ef24-4576-8087-49536ffd7681",
     "showTitle": false,
     "title": ""
    }
   },
   "source": [
    "## DA"
   ]
  },
  {
   "cell_type": "code",
   "execution_count": 0,
   "metadata": {
    "application/vnd.databricks.v1+cell": {
     "cellMetadata": {
      "byteLimit": 2048000,
      "rowLimit": 10000
     },
     "inputWidgets": {},
     "nuid": "e7f360da-4cc5-4f4b-b309-2bcb96a9725e",
     "showTitle": false,
     "title": ""
    }
   },
   "outputs": [],
   "source": []
  },
  {
   "cell_type": "code",
   "execution_count": 0,
   "metadata": {
    "application/vnd.databricks.v1+cell": {
     "cellMetadata": {
      "byteLimit": 2048000,
      "rowLimit": 10000
     },
     "inputWidgets": {},
     "nuid": "6a208270-712a-4bfb-9632-0239a1200ea1",
     "showTitle": false,
     "title": ""
    }
   },
   "outputs": [],
   "source": [
    "GDELT_EVENTS_BASE ="
   ]
  },
  {
   "cell_type": "code",
   "execution_count": 0,
   "metadata": {
    "application/vnd.databricks.v1+cell": {
     "cellMetadata": {
      "byteLimit": 2048000,
      "rowLimit": 10000
     },
     "inputWidgets": {},
     "nuid": "b879c28e-8528-4822-85b6-45f3b81b7178",
     "showTitle": false,
     "title": ""
    }
   },
   "outputs": [],
   "source": [
    "GDELT_EVENTS_DATE.select(\"GlobalEventID\").distinct().count()"
   ]
  },
  {
   "cell_type": "code",
   "execution_count": 0,
   "metadata": {
    "application/vnd.databricks.v1+cell": {
     "cellMetadata": {
      "byteLimit": 2048000,
      "rowLimit": 10000
     },
     "inputWidgets": {},
     "nuid": "a4b4a9f5-0ca6-40d9-80e4-7c7768d60761",
     "showTitle": false,
     "title": ""
    }
   },
   "outputs": [],
   "source": [
    "display(GDELT_EVENTS_DATE)"
   ]
  },
  {
   "cell_type": "code",
   "execution_count": 0,
   "metadata": {
    "application/vnd.databricks.v1+cell": {
     "cellMetadata": {
      "byteLimit": 2048000,
      "rowLimit": 10000
     },
     "inputWidgets": {},
     "nuid": "d0b9b7fe-0200-4567-9e14-c807175d99fa",
     "showTitle": false,
     "title": ""
    }
   },
   "outputs": [],
   "source": [
    "GDELT_EVENTS_PORTS = (GDELT_EVENTS_DATE\n",
    "#.filter(col(\"ActionGeo_Fullname\").like(\"% Port %\"))\n",
    "#.filter(col(\"SOURCEURL\").like(\"%-port-%\"))\n",
    "#)\n",
    "\n",
    "#print(\"Number of observations with the name a location with name port in it: \",GDELT_EVENTS_PORTS.count())"
   ]
  },
  {
   "cell_type": "code",
   "execution_count": 0,
   "metadata": {
    "application/vnd.databricks.v1+cell": {
     "cellMetadata": {
      "byteLimit": 2048000,
      "rowLimit": 10000
     },
     "inputWidgets": {},
     "nuid": "f5fe59cd-d889-4aaa-a8d7-1e1bd1abd99f",
     "showTitle": false,
     "title": ""
    }
   },
   "outputs": [],
   "source": [
    "PLACE_CUADCLASSCOUNT = (GDELT_EVENTS_DATE\n",
    ".filter(col(\"ActionGeo_Fullname\").like(\"% Port %\"))\n",
    ".groupby(\"ActionGeo_ADM1Code\",\"Date_Week\").pivot(\"QuadClass\").count()\n",
    ")\n",
    "\n",
    "GLDSCALE = GDELT_EVENTS_DATE.groupby(\"ActionGeo_ADM1Code\",\"Date_Week\").agg(avg(\"GoldsteinScale\").alias(\"GoldsteinScale\"))\n",
    "\n",
    "ADDEDE = PLACE_CUADCLASSCOUNT.join(GLDSCALE,[\"ActionGeo_ADM1Code\",\"Date_Week\"],\"left\").fillna(0)"
   ]
  },
  {
   "cell_type": "code",
   "execution_count": 0,
   "metadata": {
    "application/vnd.databricks.v1+cell": {
     "cellMetadata": {
      "byteLimit": 2048000,
      "rowLimit": 10000
     },
     "inputWidgets": {},
     "nuid": "a16a2b92-caae-4d38-a18b-5365b747131d",
     "showTitle": false,
     "title": ""
    }
   },
   "outputs": [
    {
     "output_type": "display_data",
     "data": {
      "text/plain": [
       "Databricks visualization. Run in Databricks to view."
      ]
     },
     "metadata": {
      "application/vnd.databricks.v1.subcommand+json": {
       "baseErrorDetails": null,
       "bindings": {},
       "collapsed": false,
       "command": "%python\n__backend_agg_display_orig = display\n__backend_agg_dfs = []\ndef __backend_agg_display_new(df):\n    __backend_agg_df_modules = [\"pandas.core.frame\", \"databricks.koalas.frame\", \"pyspark.sql.dataframe\", \"pyspark.pandas.frame\", \"pyspark.sql.connect.dataframe\"]\n    if (type(df).__module__ in __backend_agg_df_modules and type(df).__name__ == 'DataFrame') or isinstance(df, list):\n        __backend_agg_dfs.append(df)\n\ndisplay = __backend_agg_display_new\n\ndef __backend_agg_user_code_fn():\n    import base64\n    exec(base64.standard_b64decode(\"ZGlzcGxheShHREVMVF9FVkVOVFNfV0FURVJfUExBQ0VTKQ==\").decode())\n\ntry:\n    # run user code\n    __backend_agg_user_code_fn()\n\n    #reset display function\n    display = __backend_agg_display_orig\n\n    if len(__backend_agg_dfs) > 0:\n        # create a temp view\n        if type(__backend_agg_dfs[0]).__module__ == \"databricks.koalas.frame\":\n            # koalas dataframe\n            __backend_agg_dfs[0].to_spark().createOrReplaceTempView(\"DatabricksView452741d\")\n        elif type(__backend_agg_dfs[0]).__module__ == \"pandas.core.frame\" or isinstance(__backend_agg_dfs[0], list):\n            # pandas dataframe\n            spark.createDataFrame(__backend_agg_dfs[0]).createOrReplaceTempView(\"DatabricksView452741d\")\n        else:\n            __backend_agg_dfs[0].createOrReplaceTempView(\"DatabricksView452741d\")\n        #run backend agg\n        display(spark.sql(\"\"\"WITH q AS (select * from DatabricksView452741d) SELECT `QuadClass`,`GoldsteinScale` FROM q\"\"\"))\n    else:\n        displayHTML(\"dataframe no longer exists. If you're using dataframe.display(), use display(dataframe) instead.\")\n\n\nfinally:\n    spark.sql(\"drop view if exists DatabricksView452741d\")\n    display = __backend_agg_display_orig\n    del __backend_agg_display_new\n    del __backend_agg_display_orig\n    del __backend_agg_dfs\n    del __backend_agg_user_code_fn\n\n",
       "commandTitle": "Visualization 1",
       "commandType": "auto",
       "commandVersion": 0,
       "commentThread": [],
       "commentsVisible": false,
       "contentSha256Hex": null,
       "customPlotOptions": {
        "redashChart": [
         {
          "key": "type",
          "value": "CHART"
         },
         {
          "key": "options",
          "value": {
           "alignYAxesAtZero": true,
           "coefficient": 1,
           "columnConfigurationMap": {
            "x": {
             "column": "GoldsteinScale",
             "id": "column_ca84835546"
            },
            "y": [
             {
              "column": "4",
              "id": "column_ca84835550"
             }
            ]
           },
           "dateTimeFormat": "DD/MM/YYYY HH:mm",
           "direction": {
            "type": "counterclockwise"
           },
           "error_y": {
            "type": "data",
            "visible": true
           },
           "globalSeriesType": "scatter",
           "legend": {
            "traceorder": "normal"
           },
           "missingValuesAsZero": true,
           "numberFormat": "0,0.[00000]",
           "percentFormat": "0[.]00%",
           "series": {
            "error_y": {
             "type": "data",
             "visible": true
            },
            "stacking": null
           },
           "seriesOptions": {
            "1": {
             "type": "scatter",
             "yAxis": 0
            },
            "2": {
             "type": "scatter",
             "yAxis": 0
            },
            "3": {
             "type": "scatter",
             "yAxis": 0
            },
            "4": {
             "type": "scatter",
             "yAxis": 0
            },
            "GoldsteinScale": {
             "type": "scatter",
             "yAxis": 0
            },
            "NumMentions": {
             "type": "scatter",
             "yAxis": 0
            }
           },
           "showDataLabels": false,
           "sizemode": "diameter",
           "sortX": true,
           "sortY": true,
           "swappedAxes": false,
           "textFormat": "",
           "useAggregationsUi": true,
           "valuesOptions": {},
           "version": 2,
           "xAxis": {
            "labels": {
             "enabled": true
            },
            "type": "-"
           },
           "yAxis": [
            {
             "type": "-"
            },
            {
             "opposite": true,
             "type": "-"
            }
           ]
          }
         }
        ]
       },
       "datasetPreviewNameToCmdIdMap": {},
       "diffDeletes": [],
       "diffInserts": [],
       "displayType": "redashChart",
       "error": null,
       "errorDetails": null,
       "errorSummary": null,
       "errorTraceType": null,
       "finishTime": 0,
       "globalVars": {},
       "guid": "",
       "height": "auto",
       "hideCommandCode": false,
       "hideCommandResult": false,
       "iPythonMetadata": null,
       "inputWidgets": {},
       "isLockedInExamMode": false,
       "latestUser": "a user",
       "latestUserId": null,
       "listResultMetadata": null,
       "metadata": {},
       "nuid": "a94925c0-be34-4980-acca-61ddf01436e9",
       "origId": 0,
       "parentHierarchy": [],
       "pivotAggregation": null,
       "pivotColumns": null,
       "position": 4.375,
       "resultDbfsErrorMessage": null,
       "resultDbfsStatus": "INLINED_IN_TREE",
       "results": null,
       "showCommandTitle": false,
       "startTime": 0,
       "state": "input",
       "streamStates": {},
       "subcommandOptions": {
        "queryPlan": {
         "selects": [
          {
           "column": "GoldsteinScale",
           "type": "column"
          },
          {
           "column": "4",
           "type": "column"
          }
         ]
        }
       },
       "submitTime": 0,
       "subtype": "tableResultSubCmd.visualization",
       "tableResultIndex": 0,
       "useConsistentColors": false,
       "version": "CommandV1",
       "width": "auto",
       "workflows": null,
       "xColumns": null,
       "yColumns": null
      }
     },
     "output_type": "display_data"
    }
   ],
   "source": [
    "max_value = greatest(*[col(c) for c in ADDEDE.select(\"1\",\"2\",\"3\",\"4\").columns])\n",
    "\n",
    "df_with_max_column = ADDEDE.withColumn(\n",
    "    \"Max_QuadClass\",\n",
    "      when(col(\"1\") == max_value, \"1\")\n",
    "     .when(col(\"2\") == max_value, \"2\")\n",
    "     .when(col(\"3\") == max_value, \"3\")\n",
    "     .when(col(\"4\") == max_value, \"4\")\n",
    ")"
   ]
  },
  {
   "cell_type": "code",
   "execution_count": 0,
   "metadata": {
    "application/vnd.databricks.v1+cell": {
     "cellMetadata": {
      "byteLimit": 2048000,
      "rowLimit": 10000
     },
     "inputWidgets": {},
     "nuid": "f147df4c-d8be-49b9-820d-b7f8188f7792",
     "showTitle": false,
     "title": ""
    }
   },
   "outputs": [
    {
     "output_type": "display_data",
     "data": {
      "text/plain": [
       "Databricks visualization. Run in Databricks to view."
      ]
     },
     "metadata": {
      "application/vnd.databricks.v1.subcommand+json": {
       "baseErrorDetails": null,
       "bindings": {},
       "collapsed": false,
       "command": "%python\n__backend_agg_display_orig = display\n__backend_agg_dfs = []\ndef __backend_agg_display_new(df):\n    __backend_agg_df_modules = [\"pandas.core.frame\", \"databricks.koalas.frame\", \"pyspark.sql.dataframe\", \"pyspark.pandas.frame\", \"pyspark.sql.connect.dataframe\"]\n    if (type(df).__module__ in __backend_agg_df_modules and type(df).__name__ == 'DataFrame') or isinstance(df, list):\n        __backend_agg_dfs.append(df)\n\ndisplay = __backend_agg_display_new\n\ndef __backend_agg_user_code_fn():\n    import base64\n    exec(base64.standard_b64decode(\"ZGlzcGxheShkZl93aXRoX21heF9jb2x1bW4p\").decode())\n\ntry:\n    # run user code\n    __backend_agg_user_code_fn()\n\n    #reset display function\n    display = __backend_agg_display_orig\n\n    if len(__backend_agg_dfs) > 0:\n        # create a temp view\n        if type(__backend_agg_dfs[0]).__module__ == \"databricks.koalas.frame\":\n            # koalas dataframe\n            __backend_agg_dfs[0].to_spark().createOrReplaceTempView(\"DatabricksViewb73bd96\")\n        elif type(__backend_agg_dfs[0]).__module__ == \"pandas.core.frame\" or isinstance(__backend_agg_dfs[0], list):\n            # pandas dataframe\n            spark.createDataFrame(__backend_agg_dfs[0]).createOrReplaceTempView(\"DatabricksViewb73bd96\")\n        else:\n            __backend_agg_dfs[0].createOrReplaceTempView(\"DatabricksViewb73bd96\")\n        #run backend agg\n        display(spark.sql(\"\"\"WITH q AS (select * from DatabricksViewb73bd96) SELECT `Max_QuadClass`,AVG(`GoldsteinScale`) `column_ca84835577` FROM q GROUP BY `Max_QuadClass`\"\"\"))\n    else:\n        displayHTML(\"dataframe no longer exists. If you're using dataframe.display(), use display(dataframe) instead.\")\n\n\nfinally:\n    spark.sql(\"drop view if exists DatabricksViewb73bd96\")\n    display = __backend_agg_display_orig\n    del __backend_agg_display_new\n    del __backend_agg_display_orig\n    del __backend_agg_dfs\n    del __backend_agg_user_code_fn\n\n",
       "commandTitle": "Visualization 1",
       "commandType": "auto",
       "commandVersion": 0,
       "commentThread": [],
       "commentsVisible": false,
       "contentSha256Hex": null,
       "customPlotOptions": {
        "redashChart": [
         {
          "key": "type",
          "value": "CHART"
         },
         {
          "key": "options",
          "value": {
           "alignYAxesAtZero": true,
           "coefficient": 1,
           "columnConfigurationMap": {
            "x": {
             "column": "Max_QuadClass",
             "id": "column_ca84835579"
            },
            "y": [
             {
              "column": "GoldsteinScale",
              "id": "column_ca84835577",
              "transform": "AVG"
             }
            ]
           },
           "dateTimeFormat": "DD/MM/YYYY HH:mm",
           "direction": {
            "type": "counterclockwise"
           },
           "error_y": {
            "type": "data",
            "visible": true
           },
           "globalSeriesType": "column",
           "isAggregationOn": true,
           "legend": {
            "traceorder": "normal"
           },
           "missingValuesAsZero": true,
           "numberFormat": "0,0.[00000]",
           "percentFormat": "0[.]00%",
           "series": {
            "error_y": {
             "type": "data",
             "visible": true
            },
            "stacking": null
           },
           "seriesOptions": {
            "1": {
             "type": "column",
             "yAxis": 0
            },
            "2": {
             "type": "column",
             "yAxis": 0
            },
            "3": {
             "type": "column",
             "yAxis": 0
            },
            "4": {
             "type": "column",
             "yAxis": 0
            },
            "ActionGeo_ADM1Code": {
             "type": "column",
             "yAxis": 0
            },
            "Date_Week": {
             "type": "column",
             "yAxis": 0
            },
            "column_ca84835560": {
             "type": "column",
             "yAxis": 0
            },
            "column_ca84835577": {
             "type": "column",
             "yAxis": 0
            }
           },
           "showDataLabels": false,
           "sizemode": "diameter",
           "sortX": true,
           "sortY": true,
           "swappedAxes": false,
           "textFormat": "",
           "useAggregationsUi": true,
           "valuesOptions": {},
           "version": 2,
           "xAxis": {
            "labels": {
             "enabled": true
            },
            "type": "-"
           },
           "yAxis": [
            {
             "type": "-"
            },
            {
             "opposite": true,
             "type": "-"
            }
           ]
          }
         }
        ]
       },
       "datasetPreviewNameToCmdIdMap": {},
       "diffDeletes": [],
       "diffInserts": [],
       "displayType": "redashChart",
       "error": null,
       "errorDetails": null,
       "errorSummary": null,
       "errorTraceType": null,
       "finishTime": 0,
       "globalVars": {},
       "guid": "",
       "height": "auto",
       "hideCommandCode": false,
       "hideCommandResult": false,
       "iPythonMetadata": null,
       "inputWidgets": {},
       "isLockedInExamMode": false,
       "latestUser": "a user",
       "latestUserId": null,
       "listResultMetadata": null,
       "metadata": {},
       "nuid": "d72862f8-bd71-49b2-b1ff-62a0a0f7f8cb",
       "origId": 0,
       "parentHierarchy": [],
       "pivotAggregation": null,
       "pivotColumns": null,
       "position": 6.0,
       "resultDbfsErrorMessage": null,
       "resultDbfsStatus": "INLINED_IN_TREE",
       "results": null,
       "showCommandTitle": false,
       "startTime": 0,
       "state": "input",
       "streamStates": {},
       "subcommandOptions": {
        "queryPlan": {
         "groups": [
          {
           "column": "Max_QuadClass",
           "type": "column"
          }
         ],
         "selects": [
          {
           "column": "Max_QuadClass",
           "type": "column"
          },
          {
           "alias": "column_ca84835577",
           "args": [
            {
             "column": "GoldsteinScale",
             "type": "column"
            }
           ],
           "function": "AVG",
           "type": "function"
          }
         ]
        }
       },
       "submitTime": 0,
       "subtype": "tableResultSubCmd.visualization",
       "tableResultIndex": 0,
       "useConsistentColors": false,
       "version": "CommandV1",
       "width": "auto",
       "workflows": null,
       "xColumns": null,
       "yColumns": null
      }
     },
     "output_type": "display_data"
    }
   ],
   "source": [
    "display(df_with_max_column)"
   ]
  },
  {
   "cell_type": "code",
   "execution_count": 0,
   "metadata": {
    "application/vnd.databricks.v1+cell": {
     "cellMetadata": {},
     "inputWidgets": {},
     "nuid": "6e5ac314-595a-483d-9b97-bdd215a4db52",
     "showTitle": false,
     "title": ""
    }
   },
   "outputs": [],
   "source": []
  }
 ],
 "metadata": {
  "application/vnd.databricks.v1+notebook": {
   "dashboards": [],
   "environmentMetadata": null,
   "language": "python",
   "notebookMetadata": {
    "pythonIndentUnit": 4
   },
   "notebookName": "Country Exploration",
   "widgets": {}
  }
 },
 "nbformat": 4,
 "nbformat_minor": 0
}
