{
 "cells": [
  {
   "cell_type": "markdown",
   "metadata": {
    "application/vnd.databricks.v1+cell": {
     "cellMetadata": {},
     "inputWidgets": {},
     "nuid": "5f1a13b4-f75a-4296-b0a0-ec0d9fcf3baa",
     "showTitle": false,
     "title": ""
    }
   },
   "source": [
    "# Data Analytics - Datathon 2024"
   ]
  },
  {
   "cell_type": "markdown",
   "metadata": {
    "application/vnd.databricks.v1+cell": {
     "cellMetadata": {},
     "inputWidgets": {},
     "nuid": "4e62a01f-0cfb-4938-b65a-e30b6cc557fb",
     "showTitle": false,
     "title": ""
    }
   },
   "source": [
    "## Libraries"
   ]
  },
  {
   "cell_type": "code",
   "execution_count": 0,
   "metadata": {
    "application/vnd.databricks.v1+cell": {
     "cellMetadata": {
      "byteLimit": 2048000,
      "rowLimit": 10000
     },
     "inputWidgets": {},
     "nuid": "7e8a3acf-a22c-4856-adef-e17c5f03ffcf",
     "showTitle": false,
     "title": ""
    }
   },
   "outputs": [],
   "source": [
    "# Loading Libraries for the notebook\n",
    "from pyspark.sql.functions import *\n",
    "import datetime\n",
    "from pyspark.sql.window import Window"
   ]
  },
  {
   "cell_type": "markdown",
   "metadata": {
    "application/vnd.databricks.v1+cell": {
     "cellMetadata": {},
     "inputWidgets": {},
     "nuid": "e145e8aa-7ea5-42b3-bbe7-40beb9a25d3f",
     "showTitle": false,
     "title": ""
    }
   },
   "source": [
    "# UDFS"
   ]
  },
  {
   "cell_type": "code",
   "execution_count": 0,
   "metadata": {
    "application/vnd.databricks.v1+cell": {
     "cellMetadata": {
      "byteLimit": 2048000,
      "rowLimit": 10000
     },
     "inputWidgets": {},
     "nuid": "5320dc70-367a-4da9-b35d-c8d543e2a7a8",
     "showTitle": false,
     "title": ""
    }
   },
   "outputs": [],
   "source": [
    "\n",
    "# Function to Calculate Distance in Kilometers in a straight line between two points.\n",
    "\n",
    "'''\n",
    "CAL_LAT_LONG_DIST(df,lat1,long1,lat2,long2):\n",
    "df = dataframe when we want to add the columns of \"distance_in_kms\"\n",
    "lat1 = Latitued of Place 1\n",
    "long1 = Longitude of Place 1\n",
    "lat 2 = Latitude of Place 2\n",
    "long2 = Longitued of Place 2\n",
    "\n",
    "Outputs: DataFrame with a new column named = \"distance_in_kms\". The number represent the distance in KMS between the two points for each row.\n",
    "'''\n",
    "\n",
    "def cal_lat_log_dist(df, lat1, long1, lat2, long2):\n",
    "        df = df.withColumn('distance_in_kms' , \\\n",
    "            round((acos((sin(radians(col(lat1))) * sin(radians(col(lat2)))) + \\\n",
    "                   ((cos(radians(col(lat1))) * cos(radians(col(lat2)))) * \\\n",
    "                    (cos(radians(long1) - radians(long2))))\n",
    "                       ) * lit(6371.0)), 4))\n",
    "        return df"
   ]
  },
  {
   "cell_type": "markdown",
   "metadata": {
    "application/vnd.databricks.v1+cell": {
     "cellMetadata": {},
     "inputWidgets": {},
     "nuid": "a8e75d4a-5434-4f62-a502-793b4cbf54a8",
     "showTitle": false,
     "title": ""
    }
   },
   "source": [
    "## Loading Data"
   ]
  },
  {
   "cell_type": "code",
   "execution_count": 0,
   "metadata": {
    "application/vnd.databricks.v1+cell": {
     "cellMetadata": {
      "byteLimit": 2048000,
      "rowLimit": 10000
     },
     "inputWidgets": {},
     "nuid": "66894ba2-d9ad-4e16-8b4e-63780e69e2c5",
     "showTitle": false,
     "title": ""
    }
   },
   "outputs": [],
   "source": [
    "# Loading Data from BRONZE database\n",
    "\n",
    "GDELT_EVENTS = spark.sql(\"SELECT * FROM BRONZE.GDELT_EVENTS\")\n",
    "PORT_LOCATIONS_DIM = spark.sql(\"SELECT * FROM BRONZE.PORTS_DICTIONARY\")\n",
    "CAMEO_DICTIONARY = spark.sql(\"SELECT * FROM BRONZE.CAMEO_DICTIONARY\")"
   ]
  },
  {
   "cell_type": "markdown",
   "metadata": {
    "application/vnd.databricks.v1+cell": {
     "cellMetadata": {},
     "inputWidgets": {},
     "nuid": "c516bf38-65b6-43c3-9a77-cf754781b890",
     "showTitle": false,
     "title": ""
    }
   },
   "source": [
    "## Cleaning PORT_LOCATIONS_DIM"
   ]
  },
  {
   "cell_type": "code",
   "execution_count": 0,
   "metadata": {
    "application/vnd.databricks.v1+cell": {
     "cellMetadata": {
      "byteLimit": 2048000,
      "rowLimit": 10000
     },
     "inputWidgets": {},
     "nuid": "f10c16be-af27-4424-9fa6-5e2d4f0f2eeb",
     "showTitle": false,
     "title": ""
    }
   },
   "outputs": [],
   "source": [
    "# Claeaning RAW data from PORT_LOCATIONS\n",
    "\n",
    "PORT_LOCATIONS_DIM_CLEANED = (\n",
    "PORT_LOCATIONS_DIM\n",
    ".filter(\"LATITUDE IS NOT NULL\") #Filter for Latitud is nos null\n",
    ".filter(\"LONGITUDE IS NOT NULL\") #Filter for Longitud is nos null\n",
    ".withColumn(\"LATITUDE\", regexp_replace(col(\"LATITUDE\"),\" \",\"\")) #Eliminate black spaces in LATITUD column\n",
    ".withColumn(\"LONGITUDE\", regexp_replace(col(\"LONGITUDE\"),\" \",\"\")) #Eliminate black spaces in LATITUD column\n",
    ".withColumn(\"Lat_Ori\", substring(col(\"LATITUDE\"),-1,1)) # Get N,S,W,E Orientation from latitud\n",
    ".withColumn(\"Long_Ori\", substring(col(\"LONGITUDE\"),-1,1)) # Get N,S,W,E Orientation from longitude\n",
    ".withColumn(\"LATITUDE_CORRECTED\", #THIS NEW COLUMN CORRECT THE COORINDATES DEPENDING ON THE ORIENTATION N,S,W,E\n",
    "            when(col(\"Lat_Ori\") == 'S', expr(\"substring(LATITUDE,1,length(LATITUDE) - 1 )\") * - 1) #GET CORRECT COORDINATES\n",
    "            .when(col(\"Lat_Ori\") == 'N', expr(\"substring(LATITUDE,1,length(LATITUDE) - 1 )\")) #GET CORRECT COORDINATES\n",
    "            .when(col(\"Lat_Ori\") == 'E', expr(\"substring(LATITUDE,1,length(LATITUDE) - 1 )\") * -1) #GET CORRECT COORDINATES\n",
    "            .otherwise(999.999) # ID FOR CHECKING IF SOME VALUE ISN'T TAKEN INTO ACCOUNT\n",
    ")\n",
    ".withColumn(\"LONGITUDE_CORRECTED\", #THIS NEW COLUMN CORRECT THE COORINDATES DEPENDING ON THE ORIENTATION N,S,W,E\n",
    "            when(col(\"Long_Ori\") == 'E', expr(\"substring(LONGITUDE,1,length(LONGITUDE) - 1 )\")) #GET CORRECT COORDINATES\n",
    "            .when(col(\"Long_Ori\") == 'W', expr(\"substring(LONGITUDE,1,length(LONGITUDE) - 1 )\") * -1)#GET CORRECT COORDINATES\n",
    "            .when(col(\"Lat_Ori\") == 'N', expr(\"substring(LATITUDE,1,length(LATITUDE) - 1 )\") * -1) #GET CORRECT COORDINATES\n",
    "            .otherwise(999.999) # ID FOR CHECKING IF SOME VALUE ISN'T TAKEN INTO ACCOUNT\n",
    ")\n",
    ".select(\"COUNTRY\",\"PORT\",\"LATITUDE_CORRECTED\",\"LONGITUDE_CORRECTED\") # SELECT COUNTRIES OF INTEREST\n",
    ")"
   ]
  },
  {
   "cell_type": "markdown",
   "metadata": {
    "application/vnd.databricks.v1+cell": {
     "cellMetadata": {},
     "inputWidgets": {},
     "nuid": "f258be22-42d9-4963-bc99-05a5e6ece3a7",
     "showTitle": false,
     "title": ""
    }
   },
   "source": [
    "## DATA ANALYSIS FOR WHOLE COUNTRYS IN THE TRANSPACIFIC ROUTE:\n",
    "* CANADA\n",
    "* USA\n",
    "* CHINA\n",
    "* JAPON\n",
    "* SOUTH KOREA\n",
    "* TAIWAN\n",
    "* VEITNAM\n",
    "* HONG KONG"
   ]
  },
  {
   "cell_type": "markdown",
   "metadata": {
    "application/vnd.databricks.v1+cell": {
     "cellMetadata": {},
     "inputWidgets": {},
     "nuid": "686f7f1f-b2ce-4ecc-94d5-e42677022538",
     "showTitle": false,
     "title": ""
    }
   },
   "source": [
    "#### Dataset with Countries of Interest"
   ]
  },
  {
   "cell_type": "code",
   "execution_count": 0,
   "metadata": {
    "application/vnd.databricks.v1+cell": {
     "cellMetadata": {
      "byteLimit": 2048000,
      "rowLimit": 10000
     },
     "inputWidgets": {},
     "nuid": "b0109dc2-fc92-4aff-bb68-aa87458d617e",
     "showTitle": false,
     "title": ""
    }
   },
   "outputs": [],
   "source": [
    "GDELT_EVENTS_TPR = (GDELT_EVENTS\n",
    ".filter(col(\"ActionGeo_CountryCode\").isin(\"US\",\"CA\",\"VM\",\"CH\",\"JA\",\"HK\",\"KS\")) # FILTER FOR COUNTRYS OF INTEREST\n",
    ".join(CAMEO_DICTIONARY,col(\"EventCode\") == col(\"CAMEO CODE\"), \"left\") #GET NAME FOR EventRootCode\n",
    ".filter(\"DESCRIPTION is not null\") #NO NEWS WITH NO CLEAR DESCRIPTION\n",
    ".withColumn(\"Date\", to_date(col(\"Day\").cast(\"string\"), \"yyyyMMdd\")) # CREATE COLUMN OF DATE TYPE\n",
    ".filter(\"Date >= '2023-01-01'\")\n",
    ".withColumn(\"YearWeek\", weekofyear(col(\"Date\"))) # GET NUMBER OF WEEk OF THE YEAR\n",
    ".withColumn(\"MonthYearWeek\", concat(col(\"MonthYear\"),col(\"YearWeek\"))) #GET DATE ID for MONTH,YEAR,WEEK\n",
    ")"
   ]
  },
  {
   "cell_type": "markdown",
   "metadata": {
    "application/vnd.databricks.v1+cell": {
     "cellMetadata": {
      "byteLimit": 2048000,
      "rowLimit": 10000
     },
     "inputWidgets": {},
     "nuid": "bb92e54d-85d6-4865-bf33-e0efb68b3f13",
     "showTitle": false,
     "title": ""
    }
   },
   "source": [
    "# Duplicate Information\n",
    "\n",
    "We notice that some SOURCEURL events are duplicated. This means that there could be multiple interpretation or actors involve in the same Global Event. For keeping the data \"clean\" as possible we manege to identify that there is no duplicate records that are exactly the same. Nevertheless, some data could affect in the \"importaness\" they have. For example if we have 3 news that are the same vs another one  any math we do with respect to this news would be \"biased\" by the different values we could have for the same \"new\". So we are going to measure the \"importance\" of each SOURCEURL by ranking how many articles are being writtend respecting to that GlobalEvent and selecting the observation within the duplicades SOURCEURL where the NumArticles is greater."
   ]
  },
  {
   "cell_type": "code",
   "execution_count": 0,
   "metadata": {
    "application/vnd.databricks.v1+cell": {
     "cellMetadata": {
      "byteLimit": 2048000,
      "rowLimit": 10000
     },
     "inputWidgets": {},
     "nuid": "1bc49b27-52cd-40ad-a14c-f4dfd2df1d5c",
     "showTitle": false,
     "title": ""
    }
   },
   "outputs": [],
   "source": [
    "GDEL_EVENTS_TPR_U = (\n",
    "GDELT_EVENTS_TPR\n",
    ".withColumn(\"RankNews\", row_number().over(Window.partitionBy(col(\"SOURCEURL\")).orderBy(\"NumArticles\")))\n",
    ".filter(col(\"RankNews\") == 1)\n",
    ")"
   ]
  },
  {
   "cell_type": "markdown",
   "metadata": {
    "application/vnd.databricks.v1+cell": {
     "cellMetadata": {},
     "inputWidgets": {},
     "nuid": "a9f0ba8e-55da-4c48-94c6-4ef7b814e6e5",
     "showTitle": false,
     "title": ""
    }
   },
   "source": [
    "# Country Analysis 1: Political situation\n",
    "\n",
    "The first objetive in our Country Analysis is measure the level of \"goodness\" in the political situation in each country. First. For this analysis we need to find an objective variable, our base to finding this objetive variable is going to be the Goldstein Scale, this scale measures the positive (1,10) or the negative (-10,-1) impact of a Global Event. Nevertheless, we can't just do a simple average of the news within a day cause not every new is as important for one country than others. So we are going to do a Weighted Average. The Weight is going to be representend with the variable \"NumArticles\" that represents the number of articles related to that global event. So, in this case global events with more articles would be more important than news with less articles.\n",
    "\n",
    "Also, the crucial part for this analysis is to define what news are we going to take into account that represents Political Situaction. In this case we identify that:\n",
    "* Actor1Type1Code = 'GOV' (Goverment). Actor 1 is related to Goverment\n",
    "* Actor2Type1Code = 'GOV' (Goverment). Actor 2 is related to Goverment"
   ]
  },
  {
   "cell_type": "markdown",
   "metadata": {
    "application/vnd.databricks.v1+cell": {
     "cellMetadata": {},
     "inputWidgets": {},
     "nuid": "c528537c-5f20-4ab8-8fa3-7036bcff2150",
     "showTitle": false,
     "title": ""
    }
   },
   "source": [
    "Using China as an example we measure the weighted average of the Goldenstein Scale by Number of articles. The results shows that one of the highest values for this weighted average for positive news is in :\n",
    "* date 2024-02-04 with a value of 5.12\n",
    "\n",
    "on date 2024-02-02 the new with more weight (based on the number of articles) is : \n",
    "https://kpic.com/news/offbeat/pigeon-detained-for-8-months-on-espionage-suspicions-finally-released-china-india-mumbai-peta-animal-hospital-bombay-police-warfare-military-unit-open-water-racing-pakistan-kashmir-modi\n",
    "\n",
    "This new basically is telling us that a pidgeon that India belive might be a espionage tactic from China was realese doing that it has nothing to do with espionage from China\n",
    "\n",
    "\n",
    "The date with the highest weighted average for negative news:\n",
    "* date 2023-03-23 with a value of 10\n",
    "\n",
    "On date 2023-03-23 this new was very negative: \n",
    "https://abc3340.com/news/connect-to-congress/lawmakers-push-pentagon-to-move-faster-to-bolster-cybersecurity-improve-tech-capabilities-artificial-intelligence-autonomous-weapons-china-cybersecurity-malware-replicator\n",
    "\n",
    "This news basically is telling us that the USA is considering a \"threat\" that China is moving foward with AI for military use.\n",
    "\n"
   ]
  },
  {
   "cell_type": "code",
   "execution_count": 0,
   "metadata": {
    "application/vnd.databricks.v1+cell": {
     "cellMetadata": {
      "byteLimit": 2048000,
      "rowLimit": 10000
     },
     "inputWidgets": {},
     "nuid": "503a51ef-958b-4a13-b3ae-3280fc11f1ce",
     "showTitle": false,
     "title": ""
    }
   },
   "outputs": [],
   "source": [
    "#GDELT EVENTS POLITICAL\n",
    "\n",
    "GDELT_EVENTS_TPR_NTI_POLITICAL = (GDEL_EVENTS_TPR_U\n",
    ".filter((col(\"Actor1Type1Code\").isin('GOV')) | (col(\"Actor2Type1Code\").isin('GOV'))\n",
    "))\n",
    "\n",
    "GDELT_EVENTS_TPR_NTI_POLITICAL_POSITIVE = GDELT_EVENTS_TPR_NTI_POLITICAL.filter(\"GoldsteinScale >= 0\")\n",
    "GDELT_EVENTS_TPR_NTI_POLITICAL_NEGATIVE = GDELT_EVENTS_TPR_NTI_POLITICAL.filter(\"GoldsteinScale < 0\")"
   ]
  },
  {
   "cell_type": "code",
   "execution_count": 0,
   "metadata": {
    "application/vnd.databricks.v1+cell": {
     "cellMetadata": {
      "byteLimit": 2048000,
      "rowLimit": 10000
     },
     "inputWidgets": {},
     "nuid": "207c00ab-85c4-4c9d-839b-ea76c1d20944",
     "showTitle": false,
     "title": ""
    }
   },
   "outputs": [],
   "source": [
    "display(\n",
    "GDELT_EVENTS_TPR_NTI_POLITICAL_POSITIVE\n",
    ".filter(\"ActionGeo_CountryCode == 'CH'\")\n",
    ".withColumn(\"PondGS\", col(\"GoldsteinScale\") * col(\"NumArticles\"))\n",
    ".groupBy(\"Date\").agg(sum(col(\"PondGS\")).alias(\"PondGS\"),sum(\"NumArticles\").alias(\"NumArticles\"))\n",
    ".withColumn(\"GSPonderado\", col(\"PondGS\") / col(\"NumArticles\"))\n",
    ")"
   ]
  },
  {
   "cell_type": "code",
   "execution_count": 0,
   "metadata": {
    "application/vnd.databricks.v1+cell": {
     "cellMetadata": {
      "byteLimit": 2048000,
      "rowLimit": 10000
     },
     "inputWidgets": {},
     "nuid": "ca0d3b2e-eaf6-4ec6-a776-3fedf4840c40",
     "showTitle": false,
     "title": ""
    }
   },
   "outputs": [],
   "source": [
    "display(GDELT_EVENTS_TPR_NTI_POLITICAL_POSITIVE\n",
    ".filter(\"ActionGeo_CountryCode == 'CH'\")\n",
    ".filter(\"Date == '2024-02-04'\")\n",
    ")"
   ]
  },
  {
   "cell_type": "code",
   "execution_count": 0,
   "metadata": {
    "application/vnd.databricks.v1+cell": {
     "cellMetadata": {
      "byteLimit": 2048000,
      "rowLimit": 10000
     },
     "inputWidgets": {},
     "nuid": "640054ee-28df-4911-90f1-87f682958ad0",
     "showTitle": false,
     "title": ""
    }
   },
   "outputs": [],
   "source": [
    "display(\n",
    "GDELT_EVENTS_TPR_NTI_POLITICAL_NEGATIVE\n",
    ".withColumn(\"GoldsteinScale\",col(\"GoldsteinScale\") * -1)\n",
    ".filter(\"ActionGeo_CountryCode == 'CH'\")\n",
    ".withColumn(\"PondGS\", col(\"GoldsteinScale\") * col(\"NumArticles\"))\n",
    ".groupBy(\"Date\").agg(sum(col(\"PondGS\")).alias(\"PondGS\"),sum(\"NumArticles\").alias(\"NumArticles\"))\n",
    ".withColumn(\"GSPonderado\", col(\"PondGS\") / col(\"NumArticles\"))\n",
    ")"
   ]
  },
  {
   "cell_type": "code",
   "execution_count": 0,
   "metadata": {
    "application/vnd.databricks.v1+cell": {
     "cellMetadata": {
      "byteLimit": 2048000,
      "rowLimit": 10000
     },
     "inputWidgets": {},
     "nuid": "85f72b4a-2d5f-4609-9d2f-8cf32e92db39",
     "showTitle": false,
     "title": ""
    }
   },
   "outputs": [],
   "source": [
    "display(GDELT_EVENTS_TPR_NTI_POLITICAL_NEGATIVE\n",
    ".filter(\"ActionGeo_CountryCode == 'CH'\")\n",
    ".filter(\"Date == '2023-09-30'\")\n",
    ")"
   ]
  },
  {
   "cell_type": "code",
   "execution_count": 0,
   "metadata": {
    "application/vnd.databricks.v1+cell": {
     "cellMetadata": {},
     "inputWidgets": {},
     "nuid": "b6e120fc-4c36-491e-839b-ceb75c1d9a13",
     "showTitle": false,
     "title": ""
    }
   },
   "outputs": [],
   "source": []
  },
  {
   "cell_type": "code",
   "execution_count": 0,
   "metadata": {
    "application/vnd.databricks.v1+cell": {
     "cellMetadata": {},
     "inputWidgets": {},
     "nuid": "315ee75f-c40d-40c8-b30d-26bdf180d2e7",
     "showTitle": false,
     "title": ""
    }
   },
   "outputs": [],
   "source": []
  },
  {
   "cell_type": "code",
   "execution_count": 0,
   "metadata": {
    "application/vnd.databricks.v1+cell": {
     "cellMetadata": {},
     "inputWidgets": {},
     "nuid": "73483bdb-d2c1-4304-a180-443fe290e568",
     "showTitle": false,
     "title": ""
    }
   },
   "outputs": [],
   "source": []
  },
  {
   "cell_type": "code",
   "execution_count": 0,
   "metadata": {
    "application/vnd.databricks.v1+cell": {
     "cellMetadata": {
      "byteLimit": 2048000,
      "rowLimit": 10000
     },
     "inputWidgets": {},
     "nuid": "c2711108-9632-4df2-b70f-b8611e23cbbd",
     "showTitle": false,
     "title": ""
    }
   },
   "outputs": [],
   "source": [
    "display(PORT_LOCATIONS_DIM_CLEANED)"
   ]
  },
  {
   "cell_type": "code",
   "execution_count": 0,
   "metadata": {
    "application/vnd.databricks.v1+cell": {
     "cellMetadata": {
      "byteLimit": 2048000,
      "rowLimit": 10000
     },
     "inputWidgets": {},
     "nuid": "dc95f0c6-0538-4915-8889-3238abd1ba44",
     "showTitle": false,
     "title": ""
    }
   },
   "outputs": [],
   "source": [
    "GDELT_EVENTS_INTEREST = (\n",
    "GDELT_EVENTS_DATE\n",
    ".filter(\"ActionGeo_Lat is not null\")\n",
    ".filter(\"ActionGeo_Long is not null\")\n",
    ".select(\"ActionGeo_Fullname\",\"ActionGeo_CountryCode\",\"ActionGeo_Lat\",\"ActionGeo_Long\",\"SOURCEURL\")\n",
    ")"
   ]
  },
  {
   "cell_type": "code",
   "execution_count": 0,
   "metadata": {
    "application/vnd.databricks.v1+cell": {
     "cellMetadata": {
      "byteLimit": 2048000,
      "rowLimit": 10000
     },
     "inputWidgets": {},
     "nuid": "70ecdb67-8817-4564-b583-cb0acb778a84",
     "showTitle": false,
     "title": ""
    }
   },
   "outputs": [],
   "source": [
    "display(GDELT_EVENTS_INTEREST)"
   ]
  },
  {
   "cell_type": "code",
   "execution_count": 0,
   "metadata": {
    "application/vnd.databricks.v1+cell": {
     "cellMetadata": {
      "byteLimit": 2048000,
      "rowLimit": 10000
     },
     "inputWidgets": {},
     "nuid": "612d03b6-7fdc-4502-8355-bef158eb1131",
     "showTitle": false,
     "title": ""
    }
   },
   "outputs": [],
   "source": [
    "GDELT_CROSS_PORT = (GDELT_EVENTS_INTEREST.filter(\"ActionGeo_CountryCode == 'CH'\")\n",
    ".crossJoin(PORT_LOCATIONS_DIM_CLEANED.filter(\"COUNTRY == 'CHINA'\"))\n",
    ")\n",
    "\n",
    "GDELT_CROSS_PORT_DISTANCE = cal_lat_log_dist(GDELT_CROSS_PORT, 'ActionGeo_Lat', 'ActionGeo_Long', 'LATITUDE_CORRECTED', 'LONGITUDE_CORRECTED')\n",
    "\n",
    "display(GDELT_CROSS_PORT_DISTANCE)"
   ]
  },
  {
   "cell_type": "markdown",
   "metadata": {
    "application/vnd.databricks.v1+cell": {
     "cellMetadata": {},
     "inputWidgets": {},
     "nuid": "655b4b80-ef24-4576-8087-49536ffd7681",
     "showTitle": false,
     "title": ""
    }
   },
   "source": [
    "## DA"
   ]
  },
  {
   "cell_type": "code",
   "execution_count": 0,
   "metadata": {
    "application/vnd.databricks.v1+cell": {
     "cellMetadata": {
      "byteLimit": 2048000,
      "rowLimit": 10000
     },
     "inputWidgets": {},
     "nuid": "e7f360da-4cc5-4f4b-b309-2bcb96a9725e",
     "showTitle": false,
     "title": ""
    }
   },
   "outputs": [],
   "source": []
  },
  {
   "cell_type": "code",
   "execution_count": 0,
   "metadata": {
    "application/vnd.databricks.v1+cell": {
     "cellMetadata": {},
     "inputWidgets": {},
     "nuid": "6e5ac314-595a-483d-9b97-bdd215a4db52",
     "showTitle": false,
     "title": ""
    }
   },
   "outputs": [],
   "source": []
  }
 ],
 "metadata": {
  "application/vnd.databricks.v1+notebook": {
   "dashboards": [],
   "environmentMetadata": null,
   "language": "python",
   "notebookMetadata": {
    "pythonIndentUnit": 4
   },
   "notebookName": "Country Exploration",
   "widgets": {}
  }
 },
 "nbformat": 4,
 "nbformat_minor": 0
}
